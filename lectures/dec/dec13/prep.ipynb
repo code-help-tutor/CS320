{
 "cells": [
  {
   "cell_type": "markdown",
   "id": "c9d00f9f",
   "metadata": {},
   "source": [
    "# Threads"
   ]
  },
  {
   "cell_type": "code",
   "execution_count": 1,
   "id": "44f3eeb3",
   "metadata": {},
   "outputs": [
    {
     "name": "stdout",
     "output_type": "stream",
     "text": [
      "A 3\n",
      "A 2\n",
      "A 1\n",
      "B 5\n",
      "B 4\n",
      "B 3\n",
      "B 2\n",
      "B 1\n"
     ]
    }
   ],
   "source": [
    "import time\n",
    "from threading import Thread\n",
    "\n",
    "def f(name, n):\n",
    "    for i in range(n):\n",
    "        print(name, n-i)\n",
    "        time.sleep(1)\n",
    "\n",
    "f(\"A\", 3)\n",
    "f(\"B\", 5)\n",
    "        \n",
    "# t1 = Thread(target=f, args=(\"A\", 3))\n",
    "# t2 = Thread(target=f, args=(\"B\", 5))\n",
    "# t1.start()\n",
    "# t2.start()\n",
    "# t1.join()\n",
    "# t2.join()"
   ]
  },
  {
   "cell_type": "markdown",
   "id": "aaa9ced8",
   "metadata": {},
   "source": [
    "# Processes\n",
    "\n",
    "How can we do the same computation to every item in a list?"
   ]
  },
  {
   "cell_type": "markdown",
   "id": "079861b0",
   "metadata": {},
   "source": [
    "## 1. For Loop, Append"
   ]
  },
  {
   "cell_type": "code",
   "execution_count": 2,
   "id": "a53fc93d",
   "metadata": {},
   "outputs": [
    {
     "data": {
      "text/plain": [
       "[2, 4, 6]"
      ]
     },
     "execution_count": 2,
     "metadata": {},
     "output_type": "execute_result"
    }
   ],
   "source": [
    "nums = [1, 2, 3]\n",
    "doubles = []\n",
    "for x in nums:\n",
    "    doubles.append(x * 2)\n",
    "doubles"
   ]
  },
  {
   "cell_type": "markdown",
   "id": "2eb04694",
   "metadata": {},
   "source": [
    "## 2. List Comprehension"
   ]
  },
  {
   "cell_type": "code",
   "execution_count": null,
   "id": "464766e6",
   "metadata": {},
   "outputs": [],
   "source": []
  },
  {
   "cell_type": "markdown",
   "id": "fecfb3a6",
   "metadata": {},
   "source": [
    "## 3. Series.apply with lambda"
   ]
  },
  {
   "cell_type": "code",
   "execution_count": null,
   "id": "544a5b4c",
   "metadata": {},
   "outputs": [],
   "source": []
  },
  {
   "cell_type": "markdown",
   "id": "144d8fbe",
   "metadata": {},
   "source": [
    "## 4. map with lambda"
   ]
  },
  {
   "cell_type": "code",
   "execution_count": null,
   "id": "9e2ee655",
   "metadata": {},
   "outputs": [],
   "source": []
  },
  {
   "cell_type": "markdown",
   "id": "6737bdaa",
   "metadata": {},
   "source": [
    "## 5. map with named function"
   ]
  },
  {
   "cell_type": "code",
   "execution_count": null,
   "id": "b5c7784c",
   "metadata": {},
   "outputs": [],
   "source": []
  },
  {
   "cell_type": "markdown",
   "id": "7d92bcaf",
   "metadata": {},
   "source": [
    "## 6. pool map"
   ]
  },
  {
   "cell_type": "code",
   "execution_count": null,
   "id": "63fc0677",
   "metadata": {},
   "outputs": [],
   "source": []
  },
  {
   "cell_type": "markdown",
   "id": "569f7384",
   "metadata": {},
   "source": [
    "# Parallel Download"
   ]
  },
  {
   "cell_type": "code",
   "execution_count": 3,
   "id": "19b75be5",
   "metadata": {},
   "outputs": [
    {
     "data": {
      "text/plain": [
       "'<html><body>\\n<h1>Node: 0</h1>\\n<h3>Children:</h3>\\n<ul>\\n<li><a href=\"16.html\">16</a><li><a href=\"17.html\">17</a><li><a href=\"6.html\">6</a><li><a href=\"12.html\">12</a></ul>\\n</body></html>\\n'"
      ]
     },
     "execution_count": 3,
     "metadata": {},
     "output_type": "execute_result"
    }
   ],
   "source": [
    "import requests\n",
    "url = \"https://tyler.caraza-harter.com/cs320/crawl/practice7/0.html\"\n",
    "r = requests.get(url)\n",
    "r.raise_for_status()\n",
    "r.text"
   ]
  }
 ],
 "metadata": {
  "kernelspec": {
   "display_name": "Python 3 (ipykernel)",
   "language": "python",
   "name": "python3"
  },
  "language_info": {
   "codemirror_mode": {
    "name": "ipython",
    "version": 3
   },
   "file_extension": ".py",
   "mimetype": "text/x-python",
   "name": "python",
   "nbconvert_exporter": "python",
   "pygments_lexer": "ipython3",
   "version": "3.8.10"
  }
 },
 "nbformat": 4,
 "nbformat_minor": 5
}
