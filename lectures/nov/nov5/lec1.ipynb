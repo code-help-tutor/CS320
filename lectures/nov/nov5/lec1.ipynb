{
 "cells": [
  {
   "cell_type": "code",
   "execution_count": 1,
   "id": "4595052e",
   "metadata": {},
   "outputs": [],
   "source": [
    "import matplotlib.pyplot as plt"
   ]
  },
  {
   "cell_type": "code",
   "execution_count": 2,
   "id": "ebc054a9",
   "metadata": {},
   "outputs": [
    {
     "data": {
      "text/plain": [
       "<matplotlib.patches.Circle at 0x7f271e002cd0>"
      ]
     },
     "execution_count": 2,
     "metadata": {},
     "output_type": "execute_result"
    },
    {
     "data": {
      "image/png": "[encoded data removed]",
      "text/plain": [
       "<Figure size 432x288 with 1 Axes>"
      ]
     },
     "metadata": {
      "needs_background": "light"
     },
     "output_type": "display_data"
    }
   ],
   "source": [
    "fig, ax = plt.subplots()\n",
    "p = plt.Circle((0.5,0.5), 0.1, facecolor=\"none\", edgecolor=\"red\", linewidth=3)\n",
    "ax.add_artist(p)"
   ]
  },
  {
   "cell_type": "code",
   "execution_count": 3,
   "id": "a2190ed0",
   "metadata": {},
   "outputs": [
    {
     "data": {
      "text/plain": [
       "(matplotlib.patches.Circle,\n",
       " matplotlib.patches.Ellipse,\n",
       " matplotlib.patches.Patch,\n",
       " matplotlib.artist.Artist,\n",
       " object)"
      ]
     },
     "execution_count": 3,
     "metadata": {},
     "output_type": "execute_result"
    }
   ],
   "source": [
    "type(p).__mro__"
   ]
  },
  {
   "cell_type": "code",
   "execution_count": 4,
   "id": "3239aa32",
   "metadata": {},
   "outputs": [],
   "source": [
    "%config InlineBackend.print_figure_kwargs={\"bbox_inches\": None}"
   ]
  },
  {
   "cell_type": "code",
   "execution_count": 5,
   "id": "24e52d1a",
   "metadata": {},
   "outputs": [
    {
     "name": "stdout",
     "output_type": "stream",
     "text": [
      "[112.58181818 101.232     ]\n",
      "72.0\n",
      "1.5636363636363635 1.406\n"
     ]
    },
    {
     "data": {
      "image/png": "[encoded data removed]",
      "text/plain": [
       "<Figure size 576x288 with 2 Axes>"
      ]
     },
     "metadata": {
      "needs_background": "light"
     },
     "output_type": "display_data"
    }
   ],
   "source": [
    "fig, (ax1, ax2) = plt.subplots(ncols=2, figsize=(8, 4))\n",
    "ax2.set_xlim(-1, 3)\n",
    "\n",
    "def rel_circle(area, x, y):\n",
    "    p = plt.Circle((x,y), 0.1,\n",
    "                   facecolor=\"none\", edgecolor=\"red\", linewidth=3)\n",
    "    area.add_artist(p)\n",
    "    \n",
    "def abs_circle(area, x, y):\n",
    "    p = plt.Circle((x,y), 0.5,\n",
    "                   facecolor=\"none\", edgecolor=\"blue\", linewidth=2,\n",
    "                   transform=fig.dpi_scale_trans)\n",
    "    area.add_artist(p)\n",
    "\n",
    "# drawing an axes subplots\n",
    "rel_circle(ax1, 0.5, 0.5)\n",
    "rel_circle(ax2, 0.5, 0.5)\n",
    "\n",
    "# draw on the figure\n",
    "# coord system for fig: 0,0 is bottom left, 1,1 is top right\n",
    "rel_circle(fig, 0.5, 0.5)\n",
    "\n",
    "# draw centered circle on the figure (in absolute terms)\n",
    "abs_circle(fig, 4, 2)\n",
    "abs_circle(ax2, 7, 2)\n",
    "\n",
    "# what if we want a truly round circle at point 0.2,0.3 on the left ax object?\n",
    "print(ax1.transData.transform((0.2,0.3))) # this is in absolute dot/pixels\n",
    "print(fig.dpi) # how many dots/pixels per inch?\n",
    "x, y = ax1.transData.transform((0.2,0.3)) / fig.dpi\n",
    "print(x, y) # absolute inches of that data point\n",
    "abs_circle(ax1, x, y)"
   ]
  },
  {
   "cell_type": "code",
   "execution_count": 6,
   "id": "e32e80f2",
   "metadata": {},
   "outputs": [
    {
     "data": {
      "text/html": [
       "<div>\n",
       "<style scoped>\n",
       "    .dataframe tbody tr th:only-of-type {\n",
       "        vertical-align: middle;\n",
       "    }\n",
       "\n",
       "    .dataframe tbody tr th {\n",
       "        vertical-align: top;\n",
       "    }\n",
       "\n",
       "    .dataframe thead th {\n",
       "        text-align: right;\n",
       "    }\n",
       "</style>\n",
       "<table border=\"1\" class=\"dataframe\">\n",
       "  <thead>\n",
       "    <tr style=\"text-align: right;\">\n",
       "      <th></th>\n",
       "      <th>x</th>\n",
       "      <th>y</th>\n",
       "      <th>a</th>\n",
       "    </tr>\n",
       "  </thead>\n",
       "  <tbody>\n",
       "    <tr>\n",
       "      <th>0</th>\n",
       "      <td>2</td>\n",
       "      <td>5</td>\n",
       "      <td>90</td>\n",
       "    </tr>\n",
       "    <tr>\n",
       "      <th>1</th>\n",
       "      <td>3</td>\n",
       "      <td>1</td>\n",
       "      <td>0</td>\n",
       "    </tr>\n",
       "    <tr>\n",
       "      <th>2</th>\n",
       "      <td>6</td>\n",
       "      <td>6</td>\n",
       "      <td>45</td>\n",
       "    </tr>\n",
       "    <tr>\n",
       "      <th>3</th>\n",
       "      <td>8</td>\n",
       "      <td>1</td>\n",
       "      <td>180</td>\n",
       "    </tr>\n",
       "  </tbody>\n",
       "</table>\n",
       "</div>"
      ],
      "text/plain": [
       "   x  y    a\n",
       "0  2  5   90\n",
       "1  3  1    0\n",
       "2  6  6   45\n",
       "3  8  1  180"
      ]
     },
     "execution_count": 6,
     "metadata": {},
     "output_type": "execute_result"
    }
   ],
   "source": [
    "# for later...\n",
    "import pandas as pd\n",
    "df = pd.DataFrame([\n",
    "    {\"x\":2, \"y\":5, \"a\": 90},\n",
    "    {\"x\":3, \"y\":1, \"a\": 0},\n",
    "    {\"x\":6, \"y\":6, \"a\": 45},\n",
    "    {\"x\":8, \"y\":1, \"a\": 180}\n",
    "])\n",
    "df"
   ]
  },
  {
   "cell_type": "code",
   "execution_count": 7,
   "id": "4fbaf81f",
   "metadata": {},
   "outputs": [
    {
     "data": {
      "text/plain": [
       "<AxesSubplot:xlabel='x', ylabel='y'>"
      ]
     },
     "execution_count": 7,
     "metadata": {},
     "output_type": "execute_result"
    },
    {
     "data": {
      "image/png": "[encoded data removed]",
      "text/plain": [
       "<Figure size 432x288 with 1 Axes>"
      ]
     },
     "metadata": {
      "needs_background": "light"
     },
     "output_type": "display_data"
    }
   ],
   "source": [
    "df.plot.scatter(x=\"x\", y=\"y\")"
   ]
  },
  {
   "cell_type": "code",
   "execution_count": 8,
   "id": "0b9e2b93",
   "metadata": {},
   "outputs": [
    {
     "data": {
      "text/html": [
       "<div>\n",
       "<style scoped>\n",
       "    .dataframe tbody tr th:only-of-type {\n",
       "        vertical-align: middle;\n",
       "    }\n",
       "\n",
       "    .dataframe tbody tr th {\n",
       "        vertical-align: top;\n",
       "    }\n",
       "\n",
       "    .dataframe thead th {\n",
       "        text-align: right;\n",
       "    }\n",
       "</style>\n",
       "<table border=\"1\" class=\"dataframe\">\n",
       "  <thead>\n",
       "    <tr style=\"text-align: right;\">\n",
       "      <th></th>\n",
       "      <th>x</th>\n",
       "      <th>y</th>\n",
       "      <th>a</th>\n",
       "    </tr>\n",
       "  </thead>\n",
       "  <tbody>\n",
       "    <tr>\n",
       "      <th>0</th>\n",
       "      <td>2</td>\n",
       "      <td>5</td>\n",
       "      <td>90</td>\n",
       "    </tr>\n",
       "    <tr>\n",
       "      <th>1</th>\n",
       "      <td>3</td>\n",
       "      <td>1</td>\n",
       "      <td>0</td>\n",
       "    </tr>\n",
       "    <tr>\n",
       "      <th>2</th>\n",
       "      <td>6</td>\n",
       "      <td>6</td>\n",
       "      <td>45</td>\n",
       "    </tr>\n",
       "    <tr>\n",
       "      <th>3</th>\n",
       "      <td>8</td>\n",
       "      <td>1</td>\n",
       "      <td>180</td>\n",
       "    </tr>\n",
       "  </tbody>\n",
       "</table>\n",
       "</div>"
      ],
      "text/plain": [
       "   x  y    a\n",
       "0  2  5   90\n",
       "1  3  1    0\n",
       "2  6  6   45\n",
       "3  8  1  180"
      ]
     },
     "execution_count": 8,
     "metadata": {},
     "output_type": "execute_result"
    }
   ],
   "source": [
    "df"
   ]
  },
  {
   "cell_type": "code",
   "execution_count": 9,
   "id": "4c4db424",
   "metadata": {},
   "outputs": [
    {
     "name": "stdout",
     "output_type": "stream",
     "text": [
      "2 5\n",
      "3 1\n",
      "6 6\n",
      "8 1\n"
     ]
    },
    {
     "data": {
      "image/png": "[encoded data removed]",
      "text/plain": [
       "<Figure size 432x288 with 1 Axes>"
      ]
     },
     "metadata": {
      "needs_background": "light"
     },
     "output_type": "display_data"
    }
   ],
   "source": [
    "import math\n",
    "\n",
    "fig, ax = plt.subplots()\n",
    "ax.set_xlim(0,10)\n",
    "ax.set_ylim(-3,10)\n",
    "\n",
    "for t in df.itertuples():\n",
    "    print(t.x, t.y)\n",
    "    angle = math.radians(t.a)\n",
    "    x, y = ax.transData.transform((t.x, t.y)) / fig.dpi\n",
    "    arrow = plt.Arrow(x, y,\n",
    "                      math.sin(angle)*0.5, math.cos(angle)*0.5,\n",
    "                      transform=fig.dpi_scale_trans)\n",
    "    ax.add_artist(arrow)"
   ]
  },
  {
   "cell_type": "markdown",
   "id": "0a9cc3c4",
   "metadata": {},
   "source": [
    "# Example 2: plot with some annotations"
   ]
  },
  {
   "cell_type": "code",
   "execution_count": 10,
   "id": "4f81169f",
   "metadata": {},
   "outputs": [
    {
     "data": {
      "text/plain": [
       "<AxesSubplot:>"
      ]
     },
     "execution_count": 10,
     "metadata": {},
     "output_type": "execute_result"
    },
    {
     "data": {
      "image/png": "[encoded data removed]",
      "text/plain": [
       "<Figure size 432x288 with 1 Axes>"
      ]
     },
     "metadata": {
      "needs_background": "light"
     },
     "output_type": "display_data"
    }
   ],
   "source": [
    "import numpy as np\n",
    "df = pd.DataFrame({\n",
    "    \"A\": np.random.normal(10, 5, 100),\n",
    "    \"B\": np.random.normal(15, 5, 100)\n",
    "}).cumsum()\n",
    "df.plot.line()"
   ]
  },
  {
   "cell_type": "code",
   "execution_count": 12,
   "id": "2ea1210a",
   "metadata": {},
   "outputs": [
    {
     "data": {
      "text/html": [
       "<div>\n",
       "<style scoped>\n",
       "    .dataframe tbody tr th:only-of-type {\n",
       "        vertical-align: middle;\n",
       "    }\n",
       "\n",
       "    .dataframe tbody tr th {\n",
       "        vertical-align: top;\n",
       "    }\n",
       "\n",
       "    .dataframe thead th {\n",
       "        text-align: right;\n",
       "    }\n",
       "</style>\n",
       "<table border=\"1\" class=\"dataframe\">\n",
       "  <thead>\n",
       "    <tr style=\"text-align: right;\">\n",
       "      <th></th>\n",
       "      <th>A</th>\n",
       "      <th>B</th>\n",
       "    </tr>\n",
       "  </thead>\n",
       "  <tbody>\n",
       "    <tr>\n",
       "      <th>0</th>\n",
       "      <td>11.303543</td>\n",
       "      <td>13.112954</td>\n",
       "    </tr>\n",
       "    <tr>\n",
       "      <th>1</th>\n",
       "      <td>13.574747</td>\n",
       "      <td>31.734382</td>\n",
       "    </tr>\n",
       "    <tr>\n",
       "      <th>2</th>\n",
       "      <td>20.187226</td>\n",
       "      <td>47.283991</td>\n",
       "    </tr>\n",
       "    <tr>\n",
       "      <th>3</th>\n",
       "      <td>30.004378</td>\n",
       "      <td>78.161783</td>\n",
       "    </tr>\n",
       "    <tr>\n",
       "      <th>4</th>\n",
       "      <td>44.200156</td>\n",
       "      <td>97.448703</td>\n",
       "    </tr>\n",
       "    <tr>\n",
       "      <th>...</th>\n",
       "      <td>...</td>\n",
       "      <td>...</td>\n",
       "    </tr>\n",
       "    <tr>\n",
       "      <th>95</th>\n",
       "      <td>892.297020</td>\n",
       "      <td>1478.420463</td>\n",
       "    </tr>\n",
       "    <tr>\n",
       "      <th>96</th>\n",
       "      <td>898.837484</td>\n",
       "      <td>1494.485332</td>\n",
       "    </tr>\n",
       "    <tr>\n",
       "      <th>97</th>\n",
       "      <td>905.894865</td>\n",
       "      <td>1499.147216</td>\n",
       "    </tr>\n",
       "    <tr>\n",
       "      <th>98</th>\n",
       "      <td>923.974658</td>\n",
       "      <td>1515.371873</td>\n",
       "    </tr>\n",
       "    <tr>\n",
       "      <th>99</th>\n",
       "      <td>929.351763</td>\n",
       "      <td>1534.712887</td>\n",
       "    </tr>\n",
       "  </tbody>\n",
       "</table>\n",
       "<p>100 rows × 2 columns</p>\n",
       "</div>"
      ],
      "text/plain": [
       "             A            B\n",
       "0    11.303543    13.112954\n",
       "1    13.574747    31.734382\n",
       "2    20.187226    47.283991\n",
       "3    30.004378    78.161783\n",
       "4    44.200156    97.448703\n",
       "..         ...          ...\n",
       "95  892.297020  1478.420463\n",
       "96  898.837484  1494.485332\n",
       "97  905.894865  1499.147216\n",
       "98  923.974658  1515.371873\n",
       "99  929.351763  1534.712887\n",
       "\n",
       "[100 rows x 2 columns]"
      ]
     },
     "execution_count": 12,
     "metadata": {},
     "output_type": "execute_result"
    }
   ],
   "source": [
    "df"
   ]
  },
  {
   "cell_type": "code",
   "execution_count": 51,
   "id": "a3d7a23b",
   "metadata": {},
   "outputs": [
    {
     "data": {
      "image/png": "[encoded data removed]",
      "text/plain": [
       "<Figure size 432x288 with 1 Axes>"
      ]
     },
     "metadata": {
      "needs_background": "light"
     },
     "output_type": "display_data"
    }
   ],
   "source": [
    "plt.rcParams[\"font.size\"] = 16\n",
    "ax = df.plot.line(legend=False)\n",
    "\n",
    "# 1. label lines\n",
    "for colname in df.columns:\n",
    "    ax.text(df.index[-1], df[colname].iat[-1], colname, va=\"center\")\n",
    "    \n",
    "# 2. vertical line for some event\n",
    "ylim = ax.get_ylim()\n",
    "patch = plt.Line2D((40, 40), ylim, color=\"red\", linestyle=\"--\")\n",
    "ax.add_artist(patch)\n",
    "\n",
    "# 3. rect indicating some region\n",
    "patch = plt.Rectangle((60,ylim[0]), 20, ylim[1]-ylim[0],\n",
    "                      color=\"black\", alpha=0.25, zorder=10, linestyle=\"\")\n",
    "ax.add_artist(patch)\n",
    "    \n",
    "ax.spines[\"top\"].set_visible(False)\n",
    "ax.spines[\"right\"].set_visible(False)\n"
   ]
  },
  {
   "cell_type": "code",
   "execution_count": null,
   "id": "d8e5cc29",
   "metadata": {},
   "outputs": [],
   "source": []
  },
  {
   "cell_type": "code",
   "execution_count": null,
   "id": "b2cd1532",
   "metadata": {},
   "outputs": [],
   "source": []
  },
  {
   "cell_type": "code",
   "execution_count": null,
   "id": "e3e62f3b",
   "metadata": {},
   "outputs": [],
   "source": []
  },
  {
   "cell_type": "code",
   "execution_count": null,
   "id": "c29c54e8",
   "metadata": {},
   "outputs": [],
   "source": []
  },
  {
   "cell_type": "code",
   "execution_count": null,
   "id": "86d6b509",
   "metadata": {},
   "outputs": [],
   "source": []
  },
  {
   "cell_type": "code",
   "execution_count": null,
   "id": "b5c17817",
   "metadata": {},
   "outputs": [],
   "source": []
  }
 ],
 "metadata": {
  "kernelspec": {
   "display_name": "Python 3 (ipykernel)",
   "language": "python",
   "name": "python3"
  },
  "language_info": {
   "codemirror_mode": {
    "name": "ipython",
    "version": 3
   },
   "file_extension": ".py",
   "mimetype": "text/x-python",
   "name": "python",
   "nbconvert_exporter": "python",
   "pygments_lexer": "ipython3",
   "version": "3.8.10"
  }
 },
 "nbformat": 4,
 "nbformat_minor": 5
}
