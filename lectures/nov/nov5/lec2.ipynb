{
 "cells": [
  {
   "cell_type": "code",
   "execution_count": 1,
   "id": "9a877a92",
   "metadata": {},
   "outputs": [
    {
     "data": {
      "text/html": [
       "<div>\n",
       "<style scoped>\n",
       "    .dataframe tbody tr th:only-of-type {\n",
       "        vertical-align: middle;\n",
       "    }\n",
       "\n",
       "    .dataframe tbody tr th {\n",
       "        vertical-align: top;\n",
       "    }\n",
       "\n",
       "    .dataframe thead th {\n",
       "        text-align: right;\n",
       "    }\n",
       "</style>\n",
       "<table border=\"1\" class=\"dataframe\">\n",
       "  <thead>\n",
       "    <tr style=\"text-align: right;\">\n",
       "      <th></th>\n",
       "      <th>x</th>\n",
       "      <th>y</th>\n",
       "      <th>a</th>\n",
       "    </tr>\n",
       "  </thead>\n",
       "  <tbody>\n",
       "    <tr>\n",
       "      <th>0</th>\n",
       "      <td>2</td>\n",
       "      <td>5</td>\n",
       "      <td>90</td>\n",
       "    </tr>\n",
       "    <tr>\n",
       "      <th>1</th>\n",
       "      <td>3</td>\n",
       "      <td>1</td>\n",
       "      <td>0</td>\n",
       "    </tr>\n",
       "    <tr>\n",
       "      <th>2</th>\n",
       "      <td>6</td>\n",
       "      <td>6</td>\n",
       "      <td>45</td>\n",
       "    </tr>\n",
       "    <tr>\n",
       "      <th>3</th>\n",
       "      <td>8</td>\n",
       "      <td>1</td>\n",
       "      <td>180</td>\n",
       "    </tr>\n",
       "  </tbody>\n",
       "</table>\n",
       "</div>"
      ],
      "text/plain": [
       "   x  y    a\n",
       "0  2  5   90\n",
       "1  3  1    0\n",
       "2  6  6   45\n",
       "3  8  1  180"
      ]
     },
     "execution_count": 1,
     "metadata": {},
     "output_type": "execute_result"
    }
   ],
   "source": [
    "# for later...\n",
    "import pandas as pd\n",
    "df = pd.DataFrame([\n",
    "    {\"x\":2, \"y\":5, \"a\": 90},\n",
    "    {\"x\":3, \"y\":1, \"a\": 0},\n",
    "    {\"x\":6, \"y\":6, \"a\": 45},\n",
    "    {\"x\":8, \"y\":1, \"a\": 180}\n",
    "])\n",
    "df"
   ]
  },
  {
   "cell_type": "markdown",
   "id": "45398a4c",
   "metadata": {},
   "source": [
    "# Coordinate Systems"
   ]
  },
  {
   "cell_type": "code",
   "execution_count": 2,
   "id": "0f9541fb",
   "metadata": {},
   "outputs": [],
   "source": [
    "import matplotlib.pyplot as plt"
   ]
  },
  {
   "cell_type": "code",
   "execution_count": 3,
   "id": "e1fb3661",
   "metadata": {},
   "outputs": [
    {
     "data": {
      "text/plain": [
       "<matplotlib.patches.Circle at 0x7fb47c4d1970>"
      ]
     },
     "execution_count": 3,
     "metadata": {},
     "output_type": "execute_result"
    },
    {
     "data": {
      "image/png": "[encoded data removed]",
      "text/plain": [
       "<Figure size 432x288 with 1 Axes>"
      ]
     },
     "metadata": {
      "needs_background": "light"
     },
     "output_type": "display_data"
    }
   ],
   "source": [
    "fig, ax = plt.subplots()\n",
    "p = plt.Circle((0.5,0.5), 0.1,\n",
    "               facecolor=\"none\", edgecolor=\"red\", linewidth=3)\n",
    "ax.add_artist(p)"
   ]
  },
  {
   "cell_type": "code",
   "execution_count": 4,
   "id": "b0c805bc",
   "metadata": {},
   "outputs": [
    {
     "data": {
      "text/plain": [
       "(matplotlib.patches.Circle,\n",
       " matplotlib.patches.Ellipse,\n",
       " matplotlib.patches.Patch,\n",
       " matplotlib.artist.Artist,\n",
       " object)"
      ]
     },
     "execution_count": 4,
     "metadata": {},
     "output_type": "execute_result"
    }
   ],
   "source": [
    "type(p).__mro__"
   ]
  },
  {
   "cell_type": "code",
   "execution_count": 5,
   "id": "927da0b1",
   "metadata": {},
   "outputs": [],
   "source": [
    "%config InlineBackend.print_figure_kwargs = {'bbox_inches': None}"
   ]
  },
  {
   "cell_type": "code",
   "execution_count": 6,
   "id": "0907667a",
   "metadata": {},
   "outputs": [
    {
     "name": "stdout",
     "output_type": "stream",
     "text": [
      "1.1727272727272728 1.406\n"
     ]
    },
    {
     "data": {
      "image/png": "[encoded data removed]",
      "text/plain": [
       "<Figure size 432x288 with 2 Axes>"
      ]
     },
     "metadata": {
      "needs_background": "light"
     },
     "output_type": "display_data"
    }
   ],
   "source": [
    "fig, (ax1, ax2) = plt.subplots(ncols=2, figsize=(6, 4))\n",
    "ax2.set_xlim(-1, 3)\n",
    "\n",
    "def relative_circle(area, x, y):\n",
    "    p = plt.Circle((x,y), 0.1,\n",
    "                   facecolor=\"none\", edgecolor=\"red\", linewidth=3)\n",
    "    area.add_artist(p)\n",
    "\n",
    "# circles on ax\n",
    "relative_circle(ax1, 0.5, 0.5)\n",
    "relative_circle(ax2, 0.5, 0.5)\n",
    "\n",
    "# circle on fig (0,0 is bottom left, 1,1 is top right)\n",
    "relative_circle(fig, 0.5, 0.5)\n",
    "\n",
    "# true circle centered on figure\n",
    "def absolute_circle(area, x, y):\n",
    "    p = plt.Circle((x,y), 0.25,\n",
    "                   facecolor=\"none\", edgecolor=\"blue\", linewidth=1,\n",
    "                   transform=fig.dpi_scale_trans)\n",
    "    area.add_artist(p)\n",
    "    \n",
    "# truly round circle at point 0.2,0.3 on the left plot?\n",
    "x,y = ax1.transData.transform((0.2,0.3)) / fig.dpi # absolute coordinates, in \"dots\"/pixels\n",
    "print(x,y)\n",
    "absolute_circle(fig, x, y)\n",
    "\n",
    "absolute_circle(fig,3,2)"
   ]
  },
  {
   "cell_type": "code",
   "execution_count": 7,
   "id": "e80e6f5d",
   "metadata": {},
   "outputs": [
    {
     "data": {
      "text/plain": [
       "72.0"
      ]
     },
     "execution_count": 7,
     "metadata": {},
     "output_type": "execute_result"
    }
   ],
   "source": [
    "fig.dpi # dots per inch"
   ]
  },
  {
   "cell_type": "markdown",
   "id": "65c78ed0",
   "metadata": {},
   "source": [
    "# Custom Scatter Plot of Arrows (Like the Airports)"
   ]
  },
  {
   "cell_type": "code",
   "execution_count": 8,
   "id": "22d9d05a",
   "metadata": {},
   "outputs": [
    {
     "data": {
      "text/html": [
       "<div>\n",
       "<style scoped>\n",
       "    .dataframe tbody tr th:only-of-type {\n",
       "        vertical-align: middle;\n",
       "    }\n",
       "\n",
       "    .dataframe tbody tr th {\n",
       "        vertical-align: top;\n",
       "    }\n",
       "\n",
       "    .dataframe thead th {\n",
       "        text-align: right;\n",
       "    }\n",
       "</style>\n",
       "<table border=\"1\" class=\"dataframe\">\n",
       "  <thead>\n",
       "    <tr style=\"text-align: right;\">\n",
       "      <th></th>\n",
       "      <th>x</th>\n",
       "      <th>y</th>\n",
       "      <th>a</th>\n",
       "    </tr>\n",
       "  </thead>\n",
       "  <tbody>\n",
       "    <tr>\n",
       "      <th>0</th>\n",
       "      <td>2</td>\n",
       "      <td>5</td>\n",
       "      <td>90</td>\n",
       "    </tr>\n",
       "    <tr>\n",
       "      <th>1</th>\n",
       "      <td>3</td>\n",
       "      <td>1</td>\n",
       "      <td>0</td>\n",
       "    </tr>\n",
       "    <tr>\n",
       "      <th>2</th>\n",
       "      <td>6</td>\n",
       "      <td>6</td>\n",
       "      <td>45</td>\n",
       "    </tr>\n",
       "    <tr>\n",
       "      <th>3</th>\n",
       "      <td>8</td>\n",
       "      <td>1</td>\n",
       "      <td>180</td>\n",
       "    </tr>\n",
       "  </tbody>\n",
       "</table>\n",
       "</div>"
      ],
      "text/plain": [
       "   x  y    a\n",
       "0  2  5   90\n",
       "1  3  1    0\n",
       "2  6  6   45\n",
       "3  8  1  180"
      ]
     },
     "execution_count": 8,
     "metadata": {},
     "output_type": "execute_result"
    }
   ],
   "source": [
    "# for now...\n",
    "import pandas as pd\n",
    "df = pd.DataFrame([\n",
    "    {\"x\":2, \"y\":5, \"a\": 90},\n",
    "    {\"x\":3, \"y\":1, \"a\": 0},\n",
    "    {\"x\":6, \"y\":6, \"a\": 45},\n",
    "    {\"x\":8, \"y\":1, \"a\": 180}\n",
    "])\n",
    "df"
   ]
  },
  {
   "cell_type": "code",
   "execution_count": 9,
   "id": "59f0877e",
   "metadata": {},
   "outputs": [
    {
     "data": {
      "image/png": "[encoded data removed]",
      "text/plain": [
       "<Figure size 432x288 with 1 Axes>"
      ]
     },
     "metadata": {
      "needs_background": "light"
     },
     "output_type": "display_data"
    }
   ],
   "source": [
    "import math\n",
    "\n",
    "fig, ax = plt.subplots()\n",
    "ax.set_xlim(0, 10)\n",
    "ax.set_ylim(0, 10)\n",
    "\n",
    "for tup in df.itertuples():\n",
    "    a = math.radians(tup.a)\n",
    "    x,y = ax.transData.transform((tup.x, tup.y)) / fig.dpi\n",
    "    c = plt.Arrow(x, y, math.cos(a)*0.5, math.sin(a)*0.5, transform=fig.dpi_scale_trans)\n",
    "    ax.add_artist(c)"
   ]
  },
  {
   "cell_type": "markdown",
   "id": "17c5eec7",
   "metadata": {},
   "source": [
    "# Example: Annotated Plot"
   ]
  },
  {
   "cell_type": "code",
   "execution_count": 10,
   "id": "d7e1d8e7",
   "metadata": {},
   "outputs": [
    {
     "data": {
      "text/html": [
       "<div>\n",
       "<style scoped>\n",
       "    .dataframe tbody tr th:only-of-type {\n",
       "        vertical-align: middle;\n",
       "    }\n",
       "\n",
       "    .dataframe tbody tr th {\n",
       "        vertical-align: top;\n",
       "    }\n",
       "\n",
       "    .dataframe thead th {\n",
       "        text-align: right;\n",
       "    }\n",
       "</style>\n",
       "<table border=\"1\" class=\"dataframe\">\n",
       "  <thead>\n",
       "    <tr style=\"text-align: right;\">\n",
       "      <th></th>\n",
       "      <th>A</th>\n",
       "      <th>B</th>\n",
       "    </tr>\n",
       "  </thead>\n",
       "  <tbody>\n",
       "    <tr>\n",
       "      <th>10</th>\n",
       "      <td>1</td>\n",
       "      <td>5</td>\n",
       "    </tr>\n",
       "    <tr>\n",
       "      <th>20</th>\n",
       "      <td>2</td>\n",
       "      <td>7</td>\n",
       "    </tr>\n",
       "    <tr>\n",
       "      <th>30</th>\n",
       "      <td>8</td>\n",
       "      <td>12</td>\n",
       "    </tr>\n",
       "    <tr>\n",
       "      <th>40</th>\n",
       "      <td>9</td>\n",
       "      <td>13</td>\n",
       "    </tr>\n",
       "  </tbody>\n",
       "</table>\n",
       "</div>"
      ],
      "text/plain": [
       "    A   B\n",
       "10  1   5\n",
       "20  2   7\n",
       "30  8  12\n",
       "40  9  13"
      ]
     },
     "execution_count": 10,
     "metadata": {},
     "output_type": "execute_result"
    }
   ],
   "source": [
    "df = pd.DataFrame({\n",
    "    \"A\": [1,2,8,9],\n",
    "    \"B\": [5,7,12,13],\n",
    "}, index=[10, 20, 30, 40])\n",
    "df"
   ]
  },
  {
   "cell_type": "code",
   "execution_count": 11,
   "id": "d26fd828",
   "metadata": {},
   "outputs": [],
   "source": [
    "plt.rcParams[\"font.size\"] = 16"
   ]
  },
  {
   "cell_type": "code",
   "execution_count": 43,
   "id": "b721a40f",
   "metadata": {},
   "outputs": [
    {
     "data": {
      "text/plain": [
       "<matplotlib.patches.Rectangle at 0x7fb479a29460>"
      ]
     },
     "execution_count": 43,
     "metadata": {},
     "output_type": "execute_result"
    },
    {
     "data": {
      "image/png": "[encoded data removed]",
      "text/plain": [
       "<Figure size 432x288 with 1 Axes>"
      ]
     },
     "metadata": {
      "needs_background": "light"
     },
     "output_type": "display_data"
    }
   ],
   "source": [
    "ax = df.plot.line(legend=False)\n",
    "ax.spines[\"right\"].set_visible(False)\n",
    "ax.spines[\"top\"].set_visible(False)\n",
    "\n",
    "# 1. text on lines\n",
    "for colname in df.columns:\n",
    "    ax.text(df.index[-1], df[colname].values[-1], colname, va=\"center\")\n",
    "\n",
    "# 2. vertical line (marking some event)\n",
    "ylim = ax.get_ylim()\n",
    "patch = plt.Line2D((20, 20), ylim, color=\"red\", linestyle=\"--\")\n",
    "ax.add_artist(patch)\n",
    "\n",
    "# 3. a highlighted region\n",
    "patch = plt.Rectangle((30, ylim[0]), 5, ylim[1]-ylim[0],\n",
    "                      color=\"black\", zorder=10, alpha=0.25,\n",
    "                      linestyle=\"\")\n",
    "ax.add_artist(patch)"
   ]
  },
  {
   "cell_type": "code",
   "execution_count": 13,
   "id": "6c7a5963",
   "metadata": {},
   "outputs": [
    {
     "data": {
      "text/html": [
       "<div>\n",
       "<style scoped>\n",
       "    .dataframe tbody tr th:only-of-type {\n",
       "        vertical-align: middle;\n",
       "    }\n",
       "\n",
       "    .dataframe tbody tr th {\n",
       "        vertical-align: top;\n",
       "    }\n",
       "\n",
       "    .dataframe thead th {\n",
       "        text-align: right;\n",
       "    }\n",
       "</style>\n",
       "<table border=\"1\" class=\"dataframe\">\n",
       "  <thead>\n",
       "    <tr style=\"text-align: right;\">\n",
       "      <th></th>\n",
       "      <th>A</th>\n",
       "      <th>B</th>\n",
       "    </tr>\n",
       "  </thead>\n",
       "  <tbody>\n",
       "    <tr>\n",
       "      <th>10</th>\n",
       "      <td>1</td>\n",
       "      <td>5</td>\n",
       "    </tr>\n",
       "    <tr>\n",
       "      <th>20</th>\n",
       "      <td>2</td>\n",
       "      <td>7</td>\n",
       "    </tr>\n",
       "    <tr>\n",
       "      <th>30</th>\n",
       "      <td>8</td>\n",
       "      <td>12</td>\n",
       "    </tr>\n",
       "    <tr>\n",
       "      <th>40</th>\n",
       "      <td>9</td>\n",
       "      <td>13</td>\n",
       "    </tr>\n",
       "  </tbody>\n",
       "</table>\n",
       "</div>"
      ],
      "text/plain": [
       "    A   B\n",
       "10  1   5\n",
       "20  2   7\n",
       "30  8  12\n",
       "40  9  13"
      ]
     },
     "execution_count": 13,
     "metadata": {},
     "output_type": "execute_result"
    }
   ],
   "source": [
    "df"
   ]
  },
  {
   "cell_type": "code",
   "execution_count": null,
   "id": "8892d2e0",
   "metadata": {},
   "outputs": [],
   "source": []
  },
  {
   "cell_type": "code",
   "execution_count": null,
   "id": "0efa2751",
   "metadata": {},
   "outputs": [],
   "source": []
  },
  {
   "cell_type": "code",
   "execution_count": null,
   "id": "7d4ca5d5",
   "metadata": {},
   "outputs": [],
   "source": []
  },
  {
   "cell_type": "code",
   "execution_count": null,
   "id": "6f188171",
   "metadata": {},
   "outputs": [],
   "source": []
  },
  {
   "cell_type": "code",
   "execution_count": null,
   "id": "4269248f",
   "metadata": {},
   "outputs": [],
   "source": []
  }
 ],
 "metadata": {
  "kernelspec": {
   "display_name": "Python 3 (ipykernel)",
   "language": "python",
   "name": "python3"
  },
  "language_info": {
   "codemirror_mode": {
    "name": "ipython",
    "version": 3
   },
   "file_extension": ".py",
   "mimetype": "text/x-python",
   "name": "python",
   "nbconvert_exporter": "python",
   "pygments_lexer": "ipython3",
   "version": "3.8.10"
  }
 },
 "nbformat": 4,
 "nbformat_minor": 5
}
