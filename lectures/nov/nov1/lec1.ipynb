{
 "cells": [
  {
   "cell_type": "code",
   "execution_count": 1,
   "id": "40583f9a",
   "metadata": {},
   "outputs": [],
   "source": [
    "import re"
   ]
  },
  {
   "cell_type": "markdown",
   "id": "01e16023",
   "metadata": {},
   "source": [
    "# Example 1: Git Logs"
   ]
  },
  {
   "cell_type": "code",
   "execution_count": 4,
   "id": "9b6f6323",
   "metadata": {},
   "outputs": [],
   "source": [
    "from subprocess import check_output"
   ]
  },
  {
   "cell_type": "code",
   "execution_count": 10,
   "id": "096e4fe9",
   "metadata": {},
   "outputs": [
    {
     "data": {
      "text/plain": [
       "bytes"
      ]
     },
     "execution_count": 10,
     "metadata": {},
     "output_type": "execute_result"
    }
   ],
   "source": [
    "output = check_output([\"git\", \"log\"])\n",
    "type(output)"
   ]
  },
  {
   "cell_type": "code",
   "execution_count": 11,
   "id": "1c7fc277",
   "metadata": {},
   "outputs": [
    {
     "name": "stdout",
     "output_type": "stream",
     "text": [
      "commit 73410709eb9fe14a8b85c6b4637b4fc3c8b6c26c\n",
      "Author: Tyler <tharter@wisc.edu>\n",
      "Date:   Fri Oct 29 17:35:57 2021 +0000\n",
      "\n",
      "    lec examples\n",
      "\n",
      "commit 5d7ff04f313616ca2a0ec8432096bea5e146b90e\n",
      "Author: yiyins2 <sophia1998shen@gmail.com>\n",
      "Date:   Thu Oct 28 06:46:39 2021 +0000\n",
      "\n",
      "    change readme\n",
      "\n",
      "commit 8d3f32f02894983d8288829f9e32b2a15f8a360b\n",
      "Author: yiyins2 <sophia1998shen@gmail.com>\n",
      "Date:   Thu Oct 28 06:35:35 2021 +0000\n",
      "\n",
      "    p5 modified\n",
      "\n",
      "commit b678be6acdec95093b9dea3826d265b2e25291ef\n",
      "Author: yiyins2\n"
     ]
    }
   ],
   "source": [
    "output = str(output, \"utf-8\")\n",
    "print(output[:500])"
   ]
  },
  {
   "cell_type": "code",
   "execution_count": null,
   "id": "60022dd0",
   "metadata": {},
   "outputs": [],
   "source": [
    "# things to find:\n",
    "# 1. commit numbers\n",
    "# 2. day of week\n",
    "# 3. author names\n",
    "# 4. every line mentioning a project"
   ]
  },
  {
   "cell_type": "code",
   "execution_count": 14,
   "id": "9df8041a",
   "metadata": {},
   "outputs": [
    {
     "data": {
      "text/plain": [
       "['73410709eb9fe14a8b85c6b4637b4fc3',\n",
       " '5d7ff04f313616ca2a0ec8432096bea5',\n",
       " '8d3f32f02894983d8288829f9e32b2a1',\n",
       " 'b678be6acdec95093b9dea3826d265b2',\n",
       " '4c5f764ce8eaf949b6bee4cea354c576']"
      ]
     },
     "execution_count": 14,
     "metadata": {},
     "output_type": "execute_result"
    }
   ],
   "source": [
    "# commits\n",
    "commits = re.findall(r\"[0-9a-f]{32}\", output)\n",
    "commits[:5]"
   ]
  },
  {
   "cell_type": "code",
   "execution_count": 20,
   "id": "4885e2cd",
   "metadata": {},
   "outputs": [
    {
     "name": "stdout",
     "output_type": "stream",
     "text": [
      "['Fri', 'Thu', 'Thu', 'Thu', 'Wed']\n"
     ]
    },
    {
     "data": {
      "text/plain": [
       "<AxesSubplot:>"
      ]
     },
     "execution_count": 20,
     "metadata": {},
     "output_type": "execute_result"
    },
    {
     "data": {
      "image/png": "[encoded data removed]",
      "text/plain": [
       "<Figure size 432x288 with 1 Axes>"
      ]
     },
     "metadata": {
      "needs_background": "light"
     },
     "output_type": "display_data"
    }
   ],
   "source": [
    "# day of week\n",
    "#EXAMPLE:\n",
    "#Date:   Thu Oct 28 06:35:35 2021 +0000\n",
    "import pandas as pd\n",
    "days = re.findall(r\"Date:\\s*(\\w+)\", output)\n",
    "print(days[:5])\n",
    "pd.Series(days).value_counts().plot.bar()"
   ]
  },
  {
   "cell_type": "code",
   "execution_count": 26,
   "id": "1fa5265c",
   "metadata": {},
   "outputs": [
    {
     "data": {
      "text/plain": [
       "['Tyler',\n",
       " 'yiyins2',\n",
       " 'yiyins2',\n",
       " 'yiyins2',\n",
       " 'Tyler',\n",
       " 'tylerharter',\n",
       " 'Tyler',\n",
       " 'Tyler',\n",
       " 'Tyler',\n",
       " 'Han Wang',\n",
       " 'Tyler',\n",
       " 'Tyler Caraza-Harter',\n",
       " 'Tyler Caraza-Harter',\n",
       " 'Tyler Caraza-Harter',\n",
       " 'Oliver9770',\n",
       " 'Oliver9770',\n",
       " 'Oliver9770',\n",
       " 'tylerharter',\n",
       " 'tylerharter',\n",
       " 'Tyler']"
      ]
     },
     "execution_count": 26,
     "metadata": {},
     "output_type": "execute_result"
    }
   ],
   "source": [
    "# names\n",
    "names = re.findall(r\"Author:\\s*(.+?)\\s*<\", output)\n",
    "names[:20]"
   ]
  },
  {
   "cell_type": "code",
   "execution_count": 32,
   "id": "fd3fe625",
   "metadata": {},
   "outputs": [
    {
     "data": {
      "text/plain": [
       "[('    p5 modified', 'p'),\n",
       " ('    release p4', 'p'),\n",
       " ('    release p4', 'p'),\n",
       " ('    P4: improve testing of SVGs, simplify text', 'P'),\n",
       " ('    p4 draft', 'p')]"
      ]
     },
     "execution_count": 32,
     "metadata": {},
     "output_type": "execute_result"
    }
   ],
   "source": [
    "# find messages referring to projects\n",
    "# p1, P1, project 1\n",
    "\n",
    "matches = re.findall(r\"([^\\n]*(p|P|Project|project)\\d+[^\\n]*)\", output)\n",
    "matches[:5]"
   ]
  },
  {
   "cell_type": "code",
   "execution_count": 33,
   "id": "029d235f",
   "metadata": {},
   "outputs": [
    {
     "name": "stdout",
     "output_type": "stream",
     "text": [
      "p5 modified\n",
      "release p4\n",
      "release p4\n",
      "P4: improve testing of SVGs, simplify text\n",
      "p4 draft\n",
      "update p3  tester.py to fix WebScraper Error\n",
      "p3 updates to tester.py and README.md\n",
      "p3 tester draft\n",
      "p3 spec draft\n",
      "p7 draft\n",
      "edits to p3\n",
      "p3 edits\n",
      "p2 fix: generators not lists\n",
      "320 post p2 hints video\n",
      "release p2\n",
      "P2: use Node instead of dict, other revisions\n",
      "p2 draft completed\n",
      "p1 submission directions\n",
      "p1 submission directions\n",
      "release P1\n",
      "release P1\n",
      "p1 draft\n",
      "p5 draft\n",
      "p6 draft\n",
      "p1, part 1\n",
      "p3 draft\n",
      "P2 draft\n"
     ]
    }
   ],
   "source": [
    "for match in matches:\n",
    "    print(match[0].strip())"
   ]
  },
  {
   "cell_type": "markdown",
   "id": "44a726d1",
   "metadata": {},
   "source": [
    "# Example 2: Contacting People"
   ]
  },
  {
   "cell_type": "code",
   "execution_count": 36,
   "id": "a7000c2a",
   "metadata": {},
   "outputs": [
    {
     "data": {
      "text/plain": [
       "\"\\nDebugging help is usually best in person, but if you can't make that, or have another question not well suited to Piazza, feel free to drop us an email:\\n\\nTyler [Instructor] - tharter (AT) wisc.edu\\nOlesia [Head TA] - oelfimova (AT) wisc.edu\\nCong [TA] - cding44 (AT) wisc.edu\\nBryce [TA] - bcjohnson7 (AT) wisc.edu\\nHaotian [TA] - hma232 (AT) wisc.edu\\nYiyin [TA] - yshen82 (AT) wisc.edu\\nHunter [TA] - holson23 (AT) wisc.edu\\nHan [TA] - hwang638 (AT) wisc.edu\\ntylerharter@gmail.com\\n\""
      ]
     },
     "execution_count": 36,
     "metadata": {},
     "output_type": "execute_result"
    }
   ],
   "source": [
    "s = \"\"\"\n",
    "Debugging help is usually best in person, but if you can't make that, or have another question not well suited to Piazza, feel free to drop us an email:\n",
    "\n",
    "Tyler [Instructor] - tharter (AT) wisc.edu\n",
    "Olesia [Head TA] - oelfimova (AT) wisc.edu\n",
    "Cong [TA] - cding44 (AT) wisc.edu\n",
    "Bryce [TA] - bcjohnson7 (AT) wisc.edu\n",
    "Haotian [TA] - hma232 (AT) wisc.edu\n",
    "Yiyin [TA] - yshen82 (AT) wisc.edu\n",
    "Hunter [TA] - holson23 (AT) wisc.edu\n",
    "Han [TA] - hwang638 (AT) wisc.edu\n",
    "tylerharter@gmail.com\n",
    "\"\"\"\n",
    "s"
   ]
  },
  {
   "cell_type": "code",
   "execution_count": 77,
   "id": "352ce430",
   "metadata": {},
   "outputs": [],
   "source": [
    "import requests\n",
    "resp = requests.get(\"https://tyler.caraza-harter.com/cs320/f21/contact.html\")\n",
    "resp.raise_for_status() # trigger exception if resp corresponds to a 404 page, etc\n",
    "s = resp.text\n",
    "s = re.sub(\"</?b>\", \"\", s)"
   ]
  },
  {
   "cell_type": "code",
   "execution_count": 78,
   "id": "b87bdf2b",
   "metadata": {},
   "outputs": [
    {
     "name": "stdout",
     "output_type": "stream",
     "text": [
      "tharter@wisc.edu\n",
      "oelfimova@wisc.edu\n",
      "cding44@wisc.edu\n",
      "bcjohnson7@wisc.edu\n",
      "hma232@wisc.edu\n",
      "yshen82@wisc.edu\n",
      "holson23@wisc.edu\n",
      "hwang638@wisc.edu\n"
     ]
    }
   ],
   "source": [
    "opt_brackets = r\"[\\(\\)\\[\\]\\{\\}]?\"\n",
    "at = opt_brackets + \"(\\@|[aA][tT])\" + opt_brackets\n",
    "suffix = \"(\\.(edu|com|org|net|gov))\"\n",
    "pattern = \"(\\w+)\\s*\" + at + \"\\s*(\\w+)\" + suffix\n",
    "for match in re.findall(\"(\" + pattern + \")\", s):\n",
    "    #print(match)\n",
    "    print(match[1] + \"@\" + match[3] + match[4])"
   ]
  },
  {
   "cell_type": "code",
   "execution_count": null,
   "id": "ff48c861",
   "metadata": {},
   "outputs": [],
   "source": []
  }
 ],
 "metadata": {
  "kernelspec": {
   "display_name": "Python 3 (ipykernel)",
   "language": "python",
   "name": "python3"
  },
  "language_info": {
   "codemirror_mode": {
    "name": "ipython",
    "version": 3
   },
   "file_extension": ".py",
   "mimetype": "text/x-python",
   "name": "python",
   "nbconvert_exporter": "python",
   "pygments_lexer": "ipython3",
   "version": "3.8.10"
  }
 },
 "nbformat": 4,
 "nbformat_minor": 5
}
