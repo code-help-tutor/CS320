{
 "cells": [
  {
   "cell_type": "code",
   "execution_count": 1,
   "id": "924a20e9",
   "metadata": {},
   "outputs": [],
   "source": [
    "import re"
   ]
  },
  {
   "cell_type": "markdown",
   "id": "bf79e3d0",
   "metadata": {},
   "source": [
    "# Example 1: read git log"
   ]
  },
  {
   "cell_type": "code",
   "execution_count": 2,
   "id": "00edd488",
   "metadata": {},
   "outputs": [],
   "source": [
    "# 1. find commit numbers\n",
    "# 2. find day of week\n",
    "# 3. find author names\n",
    "# 4. find lines mentioning projects"
   ]
  },
  {
   "cell_type": "code",
   "execution_count": 3,
   "id": "15ff5850",
   "metadata": {},
   "outputs": [],
   "source": [
    "# git log\n",
    "from subprocess import check_output\n",
    "output = check_output([\"git\", \"log\"])"
   ]
  },
  {
   "cell_type": "code",
   "execution_count": 4,
   "id": "b73a9efa",
   "metadata": {},
   "outputs": [
    {
     "data": {
      "text/plain": [
       "bytes"
      ]
     },
     "execution_count": 4,
     "metadata": {},
     "output_type": "execute_result"
    }
   ],
   "source": [
    "type(output)"
   ]
  },
  {
   "cell_type": "code",
   "execution_count": 5,
   "id": "435871d5",
   "metadata": {},
   "outputs": [
    {
     "name": "stdout",
     "output_type": "stream",
     "text": [
      "commit 73410709eb9fe14a8b85c6b4637b4fc3c8b6c26c\n",
      "Author: Tyler <tharter@wisc.edu>\n",
      "Date:   Fri Oct 29 17:35:57 2021 +0000\n",
      "\n",
      "    lec examples\n",
      "\n",
      "commit 5d7ff04f313616ca2a0ec8432096bea5e146b90e\n",
      "Author: yiyins2 <sophia1998shen@gmail.com>\n",
      "Date:   Thu Oct 28 06:46:39 2021 +0000\n",
      "\n",
      "    change readme\n",
      "\n",
      "commit 8d3f32f02894983d8288829f9e32b2a15f8a360b\n",
      "Author: yiyins2 <sophia1998shen@gmail.com>\n",
      "Date:   Thu Oct 28 06:35:35 2021 +0000\n",
      "\n",
      "    p5 modified\n",
      "\n",
      "commit b678be6acdec95093b9dea3826d265b2e25291ef\n",
      "Author: yiyins2\n"
     ]
    }
   ],
   "source": [
    "output = str(output, \"utf-8\")\n",
    "print(output[:500])"
   ]
  },
  {
   "cell_type": "code",
   "execution_count": 6,
   "id": "39dd46ea",
   "metadata": {},
   "outputs": [
    {
     "data": {
      "text/plain": [
       "['73410709eb9fe14a8b85c6b4637b4fc3',\n",
       " '5d7ff04f313616ca2a0ec8432096bea5',\n",
       " '8d3f32f02894983d8288829f9e32b2a1',\n",
       " 'b678be6acdec95093b9dea3826d265b2',\n",
       " '4c5f764ce8eaf949b6bee4cea354c576']"
      ]
     },
     "execution_count": 6,
     "metadata": {},
     "output_type": "execute_result"
    }
   ],
   "source": [
    "# commit nums\n",
    "commits = re.findall(r\"[0-9a-f]{32}\", output)\n",
    "commits[:5]"
   ]
  },
  {
   "cell_type": "code",
   "execution_count": 7,
   "id": "40fc8a1e",
   "metadata": {},
   "outputs": [
    {
     "data": {
      "text/plain": [
       "['Fri', 'Thu', 'Thu', 'Thu', 'Wed']"
      ]
     },
     "execution_count": 7,
     "metadata": {},
     "output_type": "execute_result"
    }
   ],
   "source": [
    "# days of week\n",
    "days = re.findall(\"Date:\\s*(\\w+)\", output)\n",
    "days[:5]"
   ]
  },
  {
   "cell_type": "code",
   "execution_count": 8,
   "id": "95f5c1e3",
   "metadata": {},
   "outputs": [
    {
     "data": {
      "text/plain": [
       "<AxesSubplot:>"
      ]
     },
     "execution_count": 8,
     "metadata": {},
     "output_type": "execute_result"
    },
    {
     "data": {
      "image/png": "[encoded data removed]",
      "text/plain": [
       "<Figure size 432x288 with 1 Axes>"
      ]
     },
     "metadata": {
      "needs_background": "light"
     },
     "output_type": "display_data"
    }
   ],
   "source": [
    "import pandas as pd\n",
    "pd.Series(days).value_counts().plot.bar()"
   ]
  },
  {
   "cell_type": "code",
   "execution_count": 9,
   "id": "0ee94538",
   "metadata": {},
   "outputs": [
    {
     "data": {
      "text/plain": [
       "['Tyler',\n",
       " 'yiyins2',\n",
       " 'yiyins2',\n",
       " 'yiyins2',\n",
       " 'Tyler',\n",
       " 'tylerharter',\n",
       " 'Tyler',\n",
       " 'Tyler',\n",
       " 'Tyler',\n",
       " 'Han Wang',\n",
       " 'Tyler',\n",
       " 'Tyler Caraza-Harter',\n",
       " 'Tyler Caraza-Harter',\n",
       " 'Tyler Caraza-Harter',\n",
       " 'Oliver9770',\n",
       " 'Oliver9770',\n",
       " 'Oliver9770',\n",
       " 'tylerharter',\n",
       " 'tylerharter',\n",
       " 'Tyler']"
      ]
     },
     "execution_count": 9,
     "metadata": {},
     "output_type": "execute_result"
    }
   ],
   "source": [
    "# names\n",
    "names = re.findall(\"Author:\\s*(.+?)\\s*<\", output)\n",
    "names[:20]"
   ]
  },
  {
   "cell_type": "code",
   "execution_count": 10,
   "id": "040f0421",
   "metadata": {},
   "outputs": [
    {
     "name": "stdout",
     "output_type": "stream",
     "text": [
      "p5 modified\n",
      "release p4\n",
      "release p4\n",
      "P4: improve testing of SVGs, simplify text\n",
      "p4 draft\n",
      "update p3  tester.py to fix WebScraper Error\n",
      "p3 updates to tester.py and README.md\n",
      "p3 tester draft\n",
      "p3 spec draft\n",
      "p7 draft\n",
      "edits to p3\n",
      "p3 edits\n",
      "p2 fix: generators not lists\n",
      "320 post p2 hints video\n",
      "release p2\n",
      "P2: use Node instead of dict, other revisions\n",
      "p2 draft completed\n",
      "p1 submission directions\n",
      "p1 submission directions\n",
      "release P1\n",
      "release P1\n",
      "p1 draft\n",
      "p5 draft\n",
      "p6 draft\n",
      "p1, part 1\n",
      "p3 draft\n",
      "P2 draft\n"
     ]
    }
   ],
   "source": [
    "matches = re.findall(r\"([^\\n]*(p|P|Project |project )\\d+[^\\n]*)\", output)\n",
    "for match in matches:\n",
    "    print(match[0].strip())"
   ]
  },
  {
   "cell_type": "markdown",
   "id": "e7523aae",
   "metadata": {},
   "source": [
    "# Example 2: Emailing People"
   ]
  },
  {
   "cell_type": "code",
   "execution_count": 11,
   "id": "2ca770b3",
   "metadata": {},
   "outputs": [
    {
     "name": "stdout",
     "output_type": "stream",
     "text": [
      "\n",
      "Debugging help is usually best in person, but if you can't make that, or have another question not well suited to Piazza, feel free to drop us an email:\n",
      "\n",
      "Tyler [Instructor] - tharter (AT) wisc.edu\n",
      "Olesia [Head TA] - oelfimova (AT) wisc.edu\n",
      "Cong [TA] - cding44 (AT) wisc.edu\n",
      "Bryce [TA] - bcjohnson7 (AT) wisc.edu\n",
      "Haotian [TA] - hma232 (AT) wisc.edu\n",
      "Yiyin [TA] - yshen82 (AT) wisc.edu\n",
      "Hunter [TA] - holson23 (AT) wisc.edu\n",
      "Han [TA] - hwang638 (AT) wisc.edu\n",
      "tylerharter@gmail.com\n",
      "\n"
     ]
    }
   ],
   "source": [
    "s = \"\"\"\n",
    "Debugging help is usually best in person, but if you can't make that, or have another question not well suited to Piazza, feel free to drop us an email:\n",
    "\n",
    "Tyler [Instructor] - tharter (AT) wisc.edu\n",
    "Olesia [Head TA] - oelfimova (AT) wisc.edu\n",
    "Cong [TA] - cding44 (AT) wisc.edu\n",
    "Bryce [TA] - bcjohnson7 (AT) wisc.edu\n",
    "Haotian [TA] - hma232 (AT) wisc.edu\n",
    "Yiyin [TA] - yshen82 (AT) wisc.edu\n",
    "Hunter [TA] - holson23 (AT) wisc.edu\n",
    "Han [TA] - hwang638 (AT) wisc.edu\n",
    "tylerharter@gmail.com\n",
    "\"\"\"\n",
    "print(s)"
   ]
  },
  {
   "cell_type": "code",
   "execution_count": 20,
   "id": "16c286a1",
   "metadata": {},
   "outputs": [
    {
     "name": "stdout",
     "output_type": "stream",
     "text": [
      "tharter@wisc.edu\n",
      "oelfimova@wisc.edu\n",
      "cding44@wisc.edu\n",
      "bcjohnson7@wisc.edu\n",
      "hma232@wisc.edu\n",
      "yshen82@wisc.edu\n",
      "holson23@wisc.edu\n",
      "hwang638@wisc.edu\n",
      "tylerharter@gmail.com\n"
     ]
    }
   ],
   "source": [
    "opt_brackets = r\"[\\(\\)\\[\\]\\{\\}]?\"\n",
    "at = opt_brackets + \"\\s*\" + r\"(@|[aA][tT])\" + \"\\s*\" + opt_brackets\n",
    "suffix = r\"\\.(edu|com|org|net|gov)\"\n",
    "pattern = \"(\\w+)\\s*\" + at + r\"\\s*(\\w+\" + suffix + \")\"\n",
    "for match in re.findall(\"(\"+pattern+\")\", s):\n",
    "    print(match[1] + \"@\" + match[3])"
   ]
  }
 ],
 "metadata": {
  "kernelspec": {
   "display_name": "Python 3 (ipykernel)",
   "language": "python",
   "name": "python3"
  },
  "language_info": {
   "codemirror_mode": {
    "name": "ipython",
    "version": 3
   },
   "file_extension": ".py",
   "mimetype": "text/x-python",
   "name": "python",
   "nbconvert_exporter": "python",
   "pygments_lexer": "ipython3",
   "version": "3.8.10"
  }
 },
 "nbformat": 4,
 "nbformat_minor": 5
}
