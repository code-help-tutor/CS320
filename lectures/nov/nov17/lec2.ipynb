{
 "cells": [
  {
   "cell_type": "markdown",
   "metadata": {},
   "source": [
    "# Data: Lake Michigan Waves\n",
    "\n",
    "https://data.cityofchicago.org/Parks-Recreation/Beach-Water-Quality-Automated-Sensors/qmqz-2xku\n",
    "\n",
    "Can we predict wave height based on wave period (time between waves)?"
   ]
  },
  {
   "cell_type": "code",
   "execution_count": 1,
   "metadata": {},
   "outputs": [],
   "source": [
    "import numpy as np\n",
    "import pandas as pd\n",
    "import matplotlib.pyplot as plt\n",
    "plt.rcParams[\"font.size\"] = 16"
   ]
  },
  {
   "cell_type": "code",
   "execution_count": 2,
   "metadata": {},
   "outputs": [
    {
     "data": {
      "text/html": [
       "<div>\n",
       "<style scoped>\n",
       "    .dataframe tbody tr th:only-of-type {\n",
       "        vertical-align: middle;\n",
       "    }\n",
       "\n",
       "    .dataframe tbody tr th {\n",
       "        vertical-align: top;\n",
       "    }\n",
       "\n",
       "    .dataframe thead th {\n",
       "        text-align: right;\n",
       "    }\n",
       "</style>\n",
       "<table border=\"1\" class=\"dataframe\">\n",
       "  <thead>\n",
       "    <tr style=\"text-align: right;\">\n",
       "      <th></th>\n",
       "      <th>Beach Name</th>\n",
       "      <th>Measurement Timestamp</th>\n",
       "      <th>Water Temperature</th>\n",
       "      <th>Turbidity</th>\n",
       "      <th>Transducer Depth</th>\n",
       "      <th>Wave Height</th>\n",
       "      <th>Wave Period</th>\n",
       "      <th>Battery Life</th>\n",
       "      <th>Measurement Timestamp Label</th>\n",
       "      <th>Measurement ID</th>\n",
       "    </tr>\n",
       "  </thead>\n",
       "  <tbody>\n",
       "    <tr>\n",
       "      <th>0</th>\n",
       "      <td>Ohio Street Beach</td>\n",
       "      <td>06/02/2019 05:00:00 PM</td>\n",
       "      <td>17.1</td>\n",
       "      <td>0.78</td>\n",
       "      <td>NaN</td>\n",
       "      <td>0.232</td>\n",
       "      <td>4.0</td>\n",
       "      <td>10.9</td>\n",
       "      <td>06/02/2019 5:00 PM</td>\n",
       "      <td>OhioStreetBeach201906021700</td>\n",
       "    </tr>\n",
       "    <tr>\n",
       "      <th>1</th>\n",
       "      <td>63rd Street Beach</td>\n",
       "      <td>09/18/2013 10:00:00 AM</td>\n",
       "      <td>18.9</td>\n",
       "      <td>7.56</td>\n",
       "      <td>1.517</td>\n",
       "      <td>0.140</td>\n",
       "      <td>4.0</td>\n",
       "      <td>11.0</td>\n",
       "      <td>09/18/2013 10:00 AM</td>\n",
       "      <td>63rdStreetBeach201309181000</td>\n",
       "    </tr>\n",
       "    <tr>\n",
       "      <th>2</th>\n",
       "      <td>63rd Street Beach</td>\n",
       "      <td>06/12/2014 12:00:00 PM</td>\n",
       "      <td>25.4</td>\n",
       "      <td>3.45</td>\n",
       "      <td>-0.072</td>\n",
       "      <td>0.031</td>\n",
       "      <td>9.0</td>\n",
       "      <td>12.2</td>\n",
       "      <td>06/12/2014 12:00 PM</td>\n",
       "      <td>63rdStreetBeach201406121200</td>\n",
       "    </tr>\n",
       "    <tr>\n",
       "      <th>3</th>\n",
       "      <td>63rd Street Beach</td>\n",
       "      <td>06/12/2014 01:00:00 PM</td>\n",
       "      <td>18.1</td>\n",
       "      <td>3.31</td>\n",
       "      <td>1.818</td>\n",
       "      <td>0.339</td>\n",
       "      <td>10.0</td>\n",
       "      <td>12.2</td>\n",
       "      <td>06/12/2014 1:00 PM</td>\n",
       "      <td>63rdStreetBeach201406121300</td>\n",
       "    </tr>\n",
       "    <tr>\n",
       "      <th>4</th>\n",
       "      <td>63rd Street Beach</td>\n",
       "      <td>06/12/2014 02:00:00 PM</td>\n",
       "      <td>17.5</td>\n",
       "      <td>2.93</td>\n",
       "      <td>1.545</td>\n",
       "      <td>0.136</td>\n",
       "      <td>4.0</td>\n",
       "      <td>12.2</td>\n",
       "      <td>06/12/2014 2:00 PM</td>\n",
       "      <td>63rdStreetBeach201406121400</td>\n",
       "    </tr>\n",
       "  </tbody>\n",
       "</table>\n",
       "</div>"
      ],
      "text/plain": [
       "          Beach Name   Measurement Timestamp  Water Temperature  Turbidity  \\\n",
       "0  Ohio Street Beach  06/02/2019 05:00:00 PM               17.1       0.78   \n",
       "1  63rd Street Beach  09/18/2013 10:00:00 AM               18.9       7.56   \n",
       "2  63rd Street Beach  06/12/2014 12:00:00 PM               25.4       3.45   \n",
       "3  63rd Street Beach  06/12/2014 01:00:00 PM               18.1       3.31   \n",
       "4  63rd Street Beach  06/12/2014 02:00:00 PM               17.5       2.93   \n",
       "\n",
       "   Transducer Depth  Wave Height  Wave Period  Battery Life  \\\n",
       "0               NaN        0.232          4.0          10.9   \n",
       "1             1.517        0.140          4.0          11.0   \n",
       "2            -0.072        0.031          9.0          12.2   \n",
       "3             1.818        0.339         10.0          12.2   \n",
       "4             1.545        0.136          4.0          12.2   \n",
       "\n",
       "  Measurement Timestamp Label               Measurement ID  \n",
       "0          06/02/2019 5:00 PM  OhioStreetBeach201906021700  \n",
       "1         09/18/2013 10:00 AM  63rdStreetBeach201309181000  \n",
       "2         06/12/2014 12:00 PM  63rdStreetBeach201406121200  \n",
       "3          06/12/2014 1:00 PM  63rdStreetBeach201406121300  \n",
       "4          06/12/2014 2:00 PM  63rdStreetBeach201406121400  "
      ]
     },
     "execution_count": 2,
     "metadata": {},
     "output_type": "execute_result"
    }
   ],
   "source": [
    "df = pd.read_csv(\"waves.csv\")\n",
    "df.head()"
   ]
  },
  {
   "cell_type": "code",
   "execution_count": 3,
   "metadata": {},
   "outputs": [
    {
     "data": {
      "text/plain": [
       "<AxesSubplot:xlabel='Wave Period', ylabel='Wave Height'>"
      ]
     },
     "execution_count": 3,
     "metadata": {},
     "output_type": "execute_result"
    },
    {
     "data": {
      "image/png": "[encoded data removed]",
      "text/plain": [
       "<Figure size 432x288 with 1 Axes>"
      ]
     },
     "metadata": {
      "needs_background": "light"
     },
     "output_type": "display_data"
    }
   ],
   "source": [
    "df = df[(df[\"Wave Period\"] > 0) & (df[\"Wave Height\"] > 0)]\n",
    "df.plot.scatter(x=\"Wave Period\", y=\"Wave Height\", color=\"k\", alpha=0.05)\n",
    "# observation: non-linear relationship"
   ]
  },
  {
   "cell_type": "code",
   "execution_count": 4,
   "metadata": {},
   "outputs": [
    {
     "data": {
      "text/plain": [
       "['63rd Street Beach',\n",
       " 'Calumet Beach',\n",
       " 'Montrose Beach',\n",
       " 'Ohio Street Beach',\n",
       " 'Osterman Beach',\n",
       " 'Rainbow Beach']"
      ]
     },
     "execution_count": 4,
     "metadata": {},
     "output_type": "execute_result"
    }
   ],
   "source": [
    "beach_names = sorted(set(df[\"Beach Name\"]))\n",
    "beach_names"
   ]
  },
  {
   "cell_type": "code",
   "execution_count": 5,
   "metadata": {},
   "outputs": [
    {
     "data": {
      "image/png": "[encoded data removed]",
      "text/plain": [
       "<Figure size 864x576 with 6 Axes>"
      ]
     },
     "metadata": {
      "needs_background": "light"
     },
     "output_type": "display_data"
    }
   ],
   "source": [
    "fig, axes = plt.subplots(2, 3, figsize=(12, 8), sharey=True)\n",
    "plt.subplots_adjust(hspace=0.3)\n",
    "axes = list(axes.reshape(-1))\n",
    "for b in beach_names:\n",
    "    ax = axes.pop(0)\n",
    "    ax.set_title(b)\n",
    "    beach_df = df[df[\"Beach Name\"] == b]\n",
    "    beach_df.plot.scatter(x=\"Wave Period\", y=\"Wave Height\", \n",
    "                          color=\"k\", alpha=0.1, ax=ax)\n",
    "# obversation: which beach (categorical feature) is important"
   ]
  },
  {
   "cell_type": "markdown",
   "metadata": {},
   "source": [
    "# Four Models\n",
    "\n",
    "1. wave period (linear)\n",
    "2. wave period (polynomial)\n",
    "3. beach\n",
    "4. beach and wave period"
   ]
  },
  {
   "cell_type": "code",
   "execution_count": 6,
   "metadata": {},
   "outputs": [],
   "source": [
    "from sklearn.model_selection import train_test_split, cross_val_score\n",
    "from sklearn.linear_model import LinearRegression\n",
    "\n",
    "from sklearn.pipeline import Pipeline\n",
    "from sklearn.compose import make_column_transformer\n",
    "from sklearn.preprocessing import PolynomialFeatures, OneHotEncoder"
   ]
  },
  {
   "cell_type": "markdown",
   "metadata": {},
   "source": [
    "## Model 1: Wave Period (Linear)"
   ]
  },
  {
   "cell_type": "code",
   "execution_count": 7,
   "metadata": {},
   "outputs": [
    {
     "data": {
      "text/plain": [
       "(29037, 9679)"
      ]
     },
     "execution_count": 7,
     "metadata": {},
     "output_type": "execute_result"
    }
   ],
   "source": [
    "train, test = train_test_split(df)\n",
    "len(train), len(test)"
   ]
  },
  {
   "cell_type": "code",
   "execution_count": 8,
   "metadata": {},
   "outputs": [
    {
     "data": {
      "text/plain": [
       "0.001562743112582976"
      ]
     },
     "execution_count": 8,
     "metadata": {},
     "output_type": "execute_result"
    }
   ],
   "source": [
    "# LinReg CAN do this:\n",
    "# y = x1*3 + x2*4\n",
    "# IT CANNOT do this:\n",
    "# Y = x*3 + x**2*4\n",
    "# TRICK: set x2=x1**2\n",
    "\n",
    "m1 = LinearRegression()\n",
    "m1.fit(train[[\"Wave Period\"]], train[\"Wave Height\"])\n",
    "m1.score(test[[\"Wave Period\"]], test[\"Wave Height\"])"
   ]
  },
  {
   "cell_type": "code",
   "execution_count": 9,
   "metadata": {},
   "outputs": [
    {
     "data": {
      "text/plain": [
       "0.0014646658503434163"
      ]
     },
     "execution_count": 9,
     "metadata": {},
     "output_type": "execute_result"
    }
   ],
   "source": [
    "scores = cross_val_score(m1, train[[\"Wave Period\"]], train[\"Wave Height\"], cv=10)\n",
    "scores.mean()"
   ]
  },
  {
   "cell_type": "markdown",
   "metadata": {},
   "source": [
    "## Model 2: Wave Period (Polynomial)"
   ]
  },
  {
   "cell_type": "code",
   "execution_count": 10,
   "metadata": {},
   "outputs": [
    {
     "data": {
      "text/html": [
       "<div>\n",
       "<style scoped>\n",
       "    .dataframe tbody tr th:only-of-type {\n",
       "        vertical-align: middle;\n",
       "    }\n",
       "\n",
       "    .dataframe tbody tr th {\n",
       "        vertical-align: top;\n",
       "    }\n",
       "\n",
       "    .dataframe thead th {\n",
       "        text-align: right;\n",
       "    }\n",
       "</style>\n",
       "<table border=\"1\" class=\"dataframe\">\n",
       "  <thead>\n",
       "    <tr style=\"text-align: right;\">\n",
       "      <th></th>\n",
       "      <th>Wave Period</th>\n",
       "      <th>Wave Period ^ 2</th>\n",
       "      <th>Wave Period ^ 3</th>\n",
       "    </tr>\n",
       "  </thead>\n",
       "  <tbody>\n",
       "    <tr>\n",
       "      <th>21396</th>\n",
       "      <td>6.0</td>\n",
       "      <td>36.0</td>\n",
       "      <td>216.0</td>\n",
       "    </tr>\n",
       "    <tr>\n",
       "      <th>5670</th>\n",
       "      <td>2.0</td>\n",
       "      <td>4.0</td>\n",
       "      <td>8.0</td>\n",
       "    </tr>\n",
       "    <tr>\n",
       "      <th>28408</th>\n",
       "      <td>3.0</td>\n",
       "      <td>9.0</td>\n",
       "      <td>27.0</td>\n",
       "    </tr>\n",
       "    <tr>\n",
       "      <th>13805</th>\n",
       "      <td>4.0</td>\n",
       "      <td>16.0</td>\n",
       "      <td>64.0</td>\n",
       "    </tr>\n",
       "    <tr>\n",
       "      <th>32575</th>\n",
       "      <td>4.0</td>\n",
       "      <td>16.0</td>\n",
       "      <td>64.0</td>\n",
       "    </tr>\n",
       "  </tbody>\n",
       "</table>\n",
       "</div>"
      ],
      "text/plain": [
       "       Wave Period  Wave Period ^ 2  Wave Period ^ 3\n",
       "21396          6.0             36.0            216.0\n",
       "5670           2.0              4.0              8.0\n",
       "28408          3.0              9.0             27.0\n",
       "13805          4.0             16.0             64.0\n",
       "32575          4.0             16.0             64.0"
      ]
     },
     "execution_count": 10,
     "metadata": {},
     "output_type": "execute_result"
    }
   ],
   "source": [
    "demo = train[[\"Wave Period\"]].copy()\n",
    "demo[\"Wave Period ^ 2\"] = demo[\"Wave Period\"] ** 2\n",
    "demo[\"Wave Period ^ 3\"] = demo[\"Wave Period\"] ** 3\n",
    "demo.head()"
   ]
  },
  {
   "cell_type": "code",
   "execution_count": 11,
   "metadata": {},
   "outputs": [
    {
     "data": {
      "text/plain": [
       "array([[  6.,  36., 216.],\n",
       "       [  2.,   4.,   8.],\n",
       "       [  3.,   9.,  27.],\n",
       "       ...,\n",
       "       [  6.,  36., 216.],\n",
       "       [  3.,   9.,  27.],\n",
       "       [  4.,  16.,  64.]])"
      ]
     },
     "execution_count": 11,
     "metadata": {},
     "output_type": "execute_result"
    }
   ],
   "source": [
    "pf = PolynomialFeatures(degree=3, include_bias=False)\n",
    "data = pf.fit_transform(train[[\"Wave Period\"]])\n",
    "data"
   ]
  },
  {
   "cell_type": "code",
   "execution_count": 12,
   "metadata": {},
   "outputs": [
    {
     "data": {
      "text/plain": [
       "array(['Wave Period', 'Wave Period^2', 'Wave Period^3'], dtype=object)"
      ]
     },
     "execution_count": 12,
     "metadata": {},
     "output_type": "execute_result"
    }
   ],
   "source": [
    "pf.get_feature_names_out()"
   ]
  },
  {
   "cell_type": "code",
   "execution_count": 13,
   "metadata": {},
   "outputs": [
    {
     "data": {
      "text/html": [
       "<div>\n",
       "<style scoped>\n",
       "    .dataframe tbody tr th:only-of-type {\n",
       "        vertical-align: middle;\n",
       "    }\n",
       "\n",
       "    .dataframe tbody tr th {\n",
       "        vertical-align: top;\n",
       "    }\n",
       "\n",
       "    .dataframe thead th {\n",
       "        text-align: right;\n",
       "    }\n",
       "</style>\n",
       "<table border=\"1\" class=\"dataframe\">\n",
       "  <thead>\n",
       "    <tr style=\"text-align: right;\">\n",
       "      <th></th>\n",
       "      <th>Wave Period</th>\n",
       "      <th>Wave Period^2</th>\n",
       "      <th>Wave Period^3</th>\n",
       "    </tr>\n",
       "  </thead>\n",
       "  <tbody>\n",
       "    <tr>\n",
       "      <th>0</th>\n",
       "      <td>6.0</td>\n",
       "      <td>36.0</td>\n",
       "      <td>216.0</td>\n",
       "    </tr>\n",
       "    <tr>\n",
       "      <th>1</th>\n",
       "      <td>2.0</td>\n",
       "      <td>4.0</td>\n",
       "      <td>8.0</td>\n",
       "    </tr>\n",
       "    <tr>\n",
       "      <th>2</th>\n",
       "      <td>3.0</td>\n",
       "      <td>9.0</td>\n",
       "      <td>27.0</td>\n",
       "    </tr>\n",
       "    <tr>\n",
       "      <th>3</th>\n",
       "      <td>4.0</td>\n",
       "      <td>16.0</td>\n",
       "      <td>64.0</td>\n",
       "    </tr>\n",
       "    <tr>\n",
       "      <th>4</th>\n",
       "      <td>4.0</td>\n",
       "      <td>16.0</td>\n",
       "      <td>64.0</td>\n",
       "    </tr>\n",
       "    <tr>\n",
       "      <th>...</th>\n",
       "      <td>...</td>\n",
       "      <td>...</td>\n",
       "      <td>...</td>\n",
       "    </tr>\n",
       "    <tr>\n",
       "      <th>29032</th>\n",
       "      <td>3.0</td>\n",
       "      <td>9.0</td>\n",
       "      <td>27.0</td>\n",
       "    </tr>\n",
       "    <tr>\n",
       "      <th>29033</th>\n",
       "      <td>2.0</td>\n",
       "      <td>4.0</td>\n",
       "      <td>8.0</td>\n",
       "    </tr>\n",
       "    <tr>\n",
       "      <th>29034</th>\n",
       "      <td>6.0</td>\n",
       "      <td>36.0</td>\n",
       "      <td>216.0</td>\n",
       "    </tr>\n",
       "    <tr>\n",
       "      <th>29035</th>\n",
       "      <td>3.0</td>\n",
       "      <td>9.0</td>\n",
       "      <td>27.0</td>\n",
       "    </tr>\n",
       "    <tr>\n",
       "      <th>29036</th>\n",
       "      <td>4.0</td>\n",
       "      <td>16.0</td>\n",
       "      <td>64.0</td>\n",
       "    </tr>\n",
       "  </tbody>\n",
       "</table>\n",
       "<p>29037 rows × 3 columns</p>\n",
       "</div>"
      ],
      "text/plain": [
       "       Wave Period  Wave Period^2  Wave Period^3\n",
       "0              6.0           36.0          216.0\n",
       "1              2.0            4.0            8.0\n",
       "2              3.0            9.0           27.0\n",
       "3              4.0           16.0           64.0\n",
       "4              4.0           16.0           64.0\n",
       "...            ...            ...            ...\n",
       "29032          3.0            9.0           27.0\n",
       "29033          2.0            4.0            8.0\n",
       "29034          6.0           36.0          216.0\n",
       "29035          3.0            9.0           27.0\n",
       "29036          4.0           16.0           64.0\n",
       "\n",
       "[29037 rows x 3 columns]"
      ]
     },
     "execution_count": 13,
     "metadata": {},
     "output_type": "execute_result"
    }
   ],
   "source": [
    "pd.DataFrame(data, columns=pf.get_feature_names_out())"
   ]
  },
  {
   "cell_type": "code",
   "execution_count": 14,
   "metadata": {},
   "outputs": [],
   "source": [
    "# PIPELINES\n",
    "# m2 = Pipeline([\n",
    "#     TRANSFORM1\n",
    "#     ...\n",
    "#     TRANSFORM-N\n",
    "#     ESTIMATOR\n",
    "# ])"
   ]
  },
  {
   "cell_type": "code",
   "execution_count": 17,
   "metadata": {},
   "outputs": [
    {
     "data": {
      "text/plain": [
       "0.05408100268655469"
      ]
     },
     "execution_count": 17,
     "metadata": {},
     "output_type": "execute_result"
    }
   ],
   "source": [
    "m2 = Pipeline([\n",
    "    (\"poly\", PolynomialFeatures(degree=3, include_bias=False)),\n",
    "    (\"lr\", LinearRegression())\n",
    "])\n",
    "\n",
    "m2.fit(train[[\"Wave Period\"]], train[\"Wave Height\"])\n",
    "m2.score(test[[\"Wave Period\"]], test[\"Wave Height\"])"
   ]
  },
  {
   "cell_type": "code",
   "execution_count": 18,
   "metadata": {},
   "outputs": [
    {
     "data": {
      "text/plain": [
       "0.007214784204286379"
      ]
     },
     "execution_count": 18,
     "metadata": {},
     "output_type": "execute_result"
    }
   ],
   "source": [
    "test[\"Wave Height\"].var() # how much of this do we explain?  (score)"
   ]
  },
  {
   "cell_type": "markdown",
   "metadata": {},
   "source": [
    "## Model 3: Beach Name (Categorical)"
   ]
  },
  {
   "cell_type": "code",
   "execution_count": null,
   "metadata": {},
   "outputs": [],
   "source": [
    "# need to somehow convert category (like beach) to numbers\n",
    "# Ohio => 1\n",
    "# Calumet => 2\n",
    "# Rainbow => 3\n",
    "# PROBLEM: the models thinks Calumet behaves like the average of Ohio and Rainbow"
   ]
  },
  {
   "cell_type": "code",
   "execution_count": 20,
   "metadata": {},
   "outputs": [
    {
     "data": {
      "text/html": [
       "<div>\n",
       "<style scoped>\n",
       "    .dataframe tbody tr th:only-of-type {\n",
       "        vertical-align: middle;\n",
       "    }\n",
       "\n",
       "    .dataframe tbody tr th {\n",
       "        vertical-align: top;\n",
       "    }\n",
       "\n",
       "    .dataframe thead th {\n",
       "        text-align: right;\n",
       "    }\n",
       "</style>\n",
       "<table border=\"1\" class=\"dataframe\">\n",
       "  <thead>\n",
       "    <tr style=\"text-align: right;\">\n",
       "      <th></th>\n",
       "      <th>Beach Name</th>\n",
       "      <th>Measurement Timestamp</th>\n",
       "      <th>Water Temperature</th>\n",
       "      <th>Turbidity</th>\n",
       "      <th>Transducer Depth</th>\n",
       "      <th>Wave Height</th>\n",
       "      <th>Wave Period</th>\n",
       "      <th>Battery Life</th>\n",
       "      <th>Measurement Timestamp Label</th>\n",
       "      <th>Measurement ID</th>\n",
       "    </tr>\n",
       "  </thead>\n",
       "  <tbody>\n",
       "    <tr>\n",
       "      <th>21396</th>\n",
       "      <td>Ohio Street Beach</td>\n",
       "      <td>08/02/2015 02:00:00 AM</td>\n",
       "      <td>22.8</td>\n",
       "      <td>0.50</td>\n",
       "      <td>NaN</td>\n",
       "      <td>0.089</td>\n",
       "      <td>6.0</td>\n",
       "      <td>11.6</td>\n",
       "      <td>08/02/2015 2:00 AM</td>\n",
       "      <td>OhioStreetBeach201508020200</td>\n",
       "    </tr>\n",
       "    <tr>\n",
       "      <th>5670</th>\n",
       "      <td>Calumet Beach</td>\n",
       "      <td>05/24/2015 12:00:00 AM</td>\n",
       "      <td>14.5</td>\n",
       "      <td>1.53</td>\n",
       "      <td>NaN</td>\n",
       "      <td>0.135</td>\n",
       "      <td>2.0</td>\n",
       "      <td>11.4</td>\n",
       "      <td>05/24/2015 12:00 AM</td>\n",
       "      <td>CalumetBeach201505242400</td>\n",
       "    </tr>\n",
       "    <tr>\n",
       "      <th>28408</th>\n",
       "      <td>Osterman Beach</td>\n",
       "      <td>07/17/2014 08:00:00 PM</td>\n",
       "      <td>19.6</td>\n",
       "      <td>0.63</td>\n",
       "      <td>1.405</td>\n",
       "      <td>0.207</td>\n",
       "      <td>3.0</td>\n",
       "      <td>11.8</td>\n",
       "      <td>07/17/2014 8:00 PM</td>\n",
       "      <td>OstermanBeach201407172000</td>\n",
       "    </tr>\n",
       "    <tr>\n",
       "      <th>13805</th>\n",
       "      <td>Montrose Beach</td>\n",
       "      <td>06/15/2015 08:00:00 AM</td>\n",
       "      <td>15.6</td>\n",
       "      <td>0.52</td>\n",
       "      <td>NaN</td>\n",
       "      <td>0.068</td>\n",
       "      <td>4.0</td>\n",
       "      <td>10.5</td>\n",
       "      <td>06/15/2015 8:00 AM</td>\n",
       "      <td>MontroseBeach201506150800</td>\n",
       "    </tr>\n",
       "    <tr>\n",
       "      <th>32575</th>\n",
       "      <td>Rainbow Beach</td>\n",
       "      <td>06/12/2015 05:00:00 AM</td>\n",
       "      <td>16.2</td>\n",
       "      <td>2.96</td>\n",
       "      <td>NaN</td>\n",
       "      <td>0.251</td>\n",
       "      <td>4.0</td>\n",
       "      <td>12.6</td>\n",
       "      <td>06/12/2015 5:00 AM</td>\n",
       "      <td>RainbowBeach201506120500</td>\n",
       "    </tr>\n",
       "  </tbody>\n",
       "</table>\n",
       "</div>"
      ],
      "text/plain": [
       "              Beach Name   Measurement Timestamp  Water Temperature  \\\n",
       "21396  Ohio Street Beach  08/02/2015 02:00:00 AM               22.8   \n",
       "5670       Calumet Beach  05/24/2015 12:00:00 AM               14.5   \n",
       "28408     Osterman Beach  07/17/2014 08:00:00 PM               19.6   \n",
       "13805     Montrose Beach  06/15/2015 08:00:00 AM               15.6   \n",
       "32575      Rainbow Beach  06/12/2015 05:00:00 AM               16.2   \n",
       "\n",
       "       Turbidity  Transducer Depth  Wave Height  Wave Period  Battery Life  \\\n",
       "21396       0.50               NaN        0.089          6.0          11.6   \n",
       "5670        1.53               NaN        0.135          2.0          11.4   \n",
       "28408       0.63             1.405        0.207          3.0          11.8   \n",
       "13805       0.52               NaN        0.068          4.0          10.5   \n",
       "32575       2.96               NaN        0.251          4.0          12.6   \n",
       "\n",
       "      Measurement Timestamp Label               Measurement ID  \n",
       "21396          08/02/2015 2:00 AM  OhioStreetBeach201508020200  \n",
       "5670          05/24/2015 12:00 AM     CalumetBeach201505242400  \n",
       "28408          07/17/2014 8:00 PM    OstermanBeach201407172000  \n",
       "13805          06/15/2015 8:00 AM    MontroseBeach201506150800  \n",
       "32575          06/12/2015 5:00 AM     RainbowBeach201506120500  "
      ]
     },
     "execution_count": 20,
     "metadata": {},
     "output_type": "execute_result"
    }
   ],
   "source": [
    "train.head()"
   ]
  },
  {
   "cell_type": "code",
   "execution_count": 23,
   "metadata": {},
   "outputs": [
    {
     "data": {
      "text/plain": [
       "<29037x6 sparse matrix of type '<class 'numpy.float64'>'\n",
       "\twith 29037 stored elements in Compressed Sparse Row format>"
      ]
     },
     "execution_count": 23,
     "metadata": {},
     "output_type": "execute_result"
    }
   ],
   "source": [
    "oh = OneHotEncoder()\n",
    "data = oh.fit_transform(train[[\"Beach Name\"]])\n",
    "data"
   ]
  },
  {
   "cell_type": "code",
   "execution_count": 26,
   "metadata": {},
   "outputs": [
    {
     "data": {
      "text/plain": [
       "array(['Beach Name_63rd Street Beach', 'Beach Name_Calumet Beach',\n",
       "       'Beach Name_Montrose Beach', 'Beach Name_Ohio Street Beach',\n",
       "       'Beach Name_Osterman Beach', 'Beach Name_Rainbow Beach'],\n",
       "      dtype=object)"
      ]
     },
     "execution_count": 26,
     "metadata": {},
     "output_type": "execute_result"
    }
   ],
   "source": [
    "oh.get_feature_names_out()"
   ]
  },
  {
   "cell_type": "code",
   "execution_count": 28,
   "metadata": {},
   "outputs": [
    {
     "data": {
      "text/html": [
       "<div>\n",
       "<style scoped>\n",
       "    .dataframe tbody tr th:only-of-type {\n",
       "        vertical-align: middle;\n",
       "    }\n",
       "\n",
       "    .dataframe tbody tr th {\n",
       "        vertical-align: top;\n",
       "    }\n",
       "\n",
       "    .dataframe thead th {\n",
       "        text-align: right;\n",
       "    }\n",
       "</style>\n",
       "<table border=\"1\" class=\"dataframe\">\n",
       "  <thead>\n",
       "    <tr style=\"text-align: right;\">\n",
       "      <th></th>\n",
       "      <th>Beach Name_63rd Street Beach</th>\n",
       "      <th>Beach Name_Calumet Beach</th>\n",
       "      <th>Beach Name_Montrose Beach</th>\n",
       "      <th>Beach Name_Ohio Street Beach</th>\n",
       "      <th>Beach Name_Osterman Beach</th>\n",
       "      <th>Beach Name_Rainbow Beach</th>\n",
       "    </tr>\n",
       "  </thead>\n",
       "  <tbody>\n",
       "    <tr>\n",
       "      <th>0</th>\n",
       "      <td>0.0</td>\n",
       "      <td>0.0</td>\n",
       "      <td>0.0</td>\n",
       "      <td>1.0</td>\n",
       "      <td>0.0</td>\n",
       "      <td>0.0</td>\n",
       "    </tr>\n",
       "    <tr>\n",
       "      <th>1</th>\n",
       "      <td>0.0</td>\n",
       "      <td>1.0</td>\n",
       "      <td>0.0</td>\n",
       "      <td>0.0</td>\n",
       "      <td>0.0</td>\n",
       "      <td>0.0</td>\n",
       "    </tr>\n",
       "    <tr>\n",
       "      <th>2</th>\n",
       "      <td>0.0</td>\n",
       "      <td>0.0</td>\n",
       "      <td>0.0</td>\n",
       "      <td>0.0</td>\n",
       "      <td>1.0</td>\n",
       "      <td>0.0</td>\n",
       "    </tr>\n",
       "    <tr>\n",
       "      <th>3</th>\n",
       "      <td>0.0</td>\n",
       "      <td>0.0</td>\n",
       "      <td>1.0</td>\n",
       "      <td>0.0</td>\n",
       "      <td>0.0</td>\n",
       "      <td>0.0</td>\n",
       "    </tr>\n",
       "    <tr>\n",
       "      <th>4</th>\n",
       "      <td>0.0</td>\n",
       "      <td>0.0</td>\n",
       "      <td>0.0</td>\n",
       "      <td>0.0</td>\n",
       "      <td>0.0</td>\n",
       "      <td>1.0</td>\n",
       "    </tr>\n",
       "  </tbody>\n",
       "</table>\n",
       "</div>"
      ],
      "text/plain": [
       "   Beach Name_63rd Street Beach  Beach Name_Calumet Beach  \\\n",
       "0                           0.0                       0.0   \n",
       "1                           0.0                       1.0   \n",
       "2                           0.0                       0.0   \n",
       "3                           0.0                       0.0   \n",
       "4                           0.0                       0.0   \n",
       "\n",
       "   Beach Name_Montrose Beach  Beach Name_Ohio Street Beach  \\\n",
       "0                        0.0                           1.0   \n",
       "1                        0.0                           0.0   \n",
       "2                        0.0                           0.0   \n",
       "3                        1.0                           0.0   \n",
       "4                        0.0                           0.0   \n",
       "\n",
       "   Beach Name_Osterman Beach  Beach Name_Rainbow Beach  \n",
       "0                        0.0                       0.0  \n",
       "1                        0.0                       0.0  \n",
       "2                        1.0                       0.0  \n",
       "3                        0.0                       0.0  \n",
       "4                        0.0                       1.0  "
      ]
     },
     "execution_count": 28,
     "metadata": {},
     "output_type": "execute_result"
    }
   ],
   "source": [
    "pd.DataFrame(data.toarray(), columns=oh.get_feature_names_out()).head()"
   ]
  },
  {
   "cell_type": "code",
   "execution_count": 29,
   "metadata": {},
   "outputs": [
    {
     "data": {
      "text/plain": [
       "Pipeline(steps=[('onehot', OneHotEncoder()), ('lr', LinearRegression())])"
      ]
     },
     "execution_count": 29,
     "metadata": {},
     "output_type": "execute_result"
    }
   ],
   "source": [
    "m3 = Pipeline([\n",
    "    (\"onehot\", OneHotEncoder()),\n",
    "    (\"lr\", LinearRegression()),\n",
    "])\n",
    "m3"
   ]
  },
  {
   "cell_type": "code",
   "execution_count": 30,
   "metadata": {},
   "outputs": [
    {
     "data": {
      "text/plain": [
       "0.053744498747366976"
      ]
     },
     "execution_count": 30,
     "metadata": {},
     "output_type": "execute_result"
    }
   ],
   "source": [
    "m3.fit(train[[\"Beach Name\"]], train[\"Wave Height\"])\n",
    "m3.score(test[[\"Beach Name\"]], test[\"Wave Height\"])"
   ]
  },
  {
   "cell_type": "markdown",
   "metadata": {},
   "source": [
    "## Model 4: Beach Name and Wave Period (Polynomial)"
   ]
  },
  {
   "cell_type": "code",
   "execution_count": null,
   "metadata": {},
   "outputs": [],
   "source": [
    "# combined = make_column_transformer(\n",
    "#     (TRANSFORMER1, [COLUMNS]),\n",
    "#     (TRANSFORMER2, [COLUMNS]),\n",
    "# )"
   ]
  },
  {
   "cell_type": "code",
   "execution_count": 48,
   "metadata": {},
   "outputs": [],
   "source": [
    "combined = make_column_transformer(\n",
    "    (PolynomialFeatures(degree=3, include_bias=False), [\"Wave Period\"]),\n",
    "    (OneHotEncoder(), [\"Beach Name\"]),\n",
    ")"
   ]
  },
  {
   "cell_type": "code",
   "execution_count": 55,
   "metadata": {},
   "outputs": [
    {
     "data": {
      "text/html": [
       "<div>\n",
       "<style scoped>\n",
       "    .dataframe tbody tr th:only-of-type {\n",
       "        vertical-align: middle;\n",
       "    }\n",
       "\n",
       "    .dataframe tbody tr th {\n",
       "        vertical-align: top;\n",
       "    }\n",
       "\n",
       "    .dataframe thead th {\n",
       "        text-align: right;\n",
       "    }\n",
       "</style>\n",
       "<table border=\"1\" class=\"dataframe\">\n",
       "  <thead>\n",
       "    <tr style=\"text-align: right;\">\n",
       "      <th></th>\n",
       "      <th>polynomialfeatures__Wave Period</th>\n",
       "      <th>polynomialfeatures__Wave Period^2</th>\n",
       "      <th>polynomialfeatures__Wave Period^3</th>\n",
       "      <th>onehotencoder__Beach Name_63rd Street Beach</th>\n",
       "      <th>onehotencoder__Beach Name_Calumet Beach</th>\n",
       "      <th>onehotencoder__Beach Name_Montrose Beach</th>\n",
       "      <th>onehotencoder__Beach Name_Ohio Street Beach</th>\n",
       "      <th>onehotencoder__Beach Name_Osterman Beach</th>\n",
       "      <th>onehotencoder__Beach Name_Rainbow Beach</th>\n",
       "    </tr>\n",
       "  </thead>\n",
       "  <tbody>\n",
       "    <tr>\n",
       "      <th>0</th>\n",
       "      <td>6.0</td>\n",
       "      <td>36.0</td>\n",
       "      <td>216.0</td>\n",
       "      <td>0.0</td>\n",
       "      <td>0.0</td>\n",
       "      <td>0.0</td>\n",
       "      <td>1.0</td>\n",
       "      <td>0.0</td>\n",
       "      <td>0.0</td>\n",
       "    </tr>\n",
       "    <tr>\n",
       "      <th>1</th>\n",
       "      <td>2.0</td>\n",
       "      <td>4.0</td>\n",
       "      <td>8.0</td>\n",
       "      <td>0.0</td>\n",
       "      <td>1.0</td>\n",
       "      <td>0.0</td>\n",
       "      <td>0.0</td>\n",
       "      <td>0.0</td>\n",
       "      <td>0.0</td>\n",
       "    </tr>\n",
       "    <tr>\n",
       "      <th>2</th>\n",
       "      <td>3.0</td>\n",
       "      <td>9.0</td>\n",
       "      <td>27.0</td>\n",
       "      <td>0.0</td>\n",
       "      <td>0.0</td>\n",
       "      <td>0.0</td>\n",
       "      <td>0.0</td>\n",
       "      <td>1.0</td>\n",
       "      <td>0.0</td>\n",
       "    </tr>\n",
       "  </tbody>\n",
       "</table>\n",
       "</div>"
      ],
      "text/plain": [
       "   polynomialfeatures__Wave Period  polynomialfeatures__Wave Period^2  \\\n",
       "0                              6.0                               36.0   \n",
       "1                              2.0                                4.0   \n",
       "2                              3.0                                9.0   \n",
       "\n",
       "   polynomialfeatures__Wave Period^3  \\\n",
       "0                              216.0   \n",
       "1                                8.0   \n",
       "2                               27.0   \n",
       "\n",
       "   onehotencoder__Beach Name_63rd Street Beach  \\\n",
       "0                                          0.0   \n",
       "1                                          0.0   \n",
       "2                                          0.0   \n",
       "\n",
       "   onehotencoder__Beach Name_Calumet Beach  \\\n",
       "0                                      0.0   \n",
       "1                                      1.0   \n",
       "2                                      0.0   \n",
       "\n",
       "   onehotencoder__Beach Name_Montrose Beach  \\\n",
       "0                                       0.0   \n",
       "1                                       0.0   \n",
       "2                                       0.0   \n",
       "\n",
       "   onehotencoder__Beach Name_Ohio Street Beach  \\\n",
       "0                                          1.0   \n",
       "1                                          0.0   \n",
       "2                                          0.0   \n",
       "\n",
       "   onehotencoder__Beach Name_Osterman Beach  \\\n",
       "0                                       0.0   \n",
       "1                                       0.0   \n",
       "2                                       1.0   \n",
       "\n",
       "   onehotencoder__Beach Name_Rainbow Beach  \n",
       "0                                      0.0  \n",
       "1                                      0.0  \n",
       "2                                      0.0  "
      ]
     },
     "execution_count": 55,
     "metadata": {},
     "output_type": "execute_result"
    }
   ],
   "source": [
    "data = combined.fit_transform(train[[\"Wave Period\", \"Beach Name\"]])\n",
    "pd.DataFrame(data, columns=combined.get_feature_names_out()).head(3)"
   ]
  },
  {
   "cell_type": "code",
   "execution_count": 49,
   "metadata": {},
   "outputs": [
    {
     "data": {
      "text/plain": [
       "Pipeline(steps=[('transformer',\n",
       "                 ColumnTransformer(transformers=[('polynomialfeatures',\n",
       "                                                  PolynomialFeatures(degree=3,\n",
       "                                                                     include_bias=False),\n",
       "                                                  ['Wave Period']),\n",
       "                                                 ('onehotencoder',\n",
       "                                                  OneHotEncoder(),\n",
       "                                                  ['Beach Name'])])),\n",
       "                ('lr', LinearRegression())])"
      ]
     },
     "execution_count": 49,
     "metadata": {},
     "output_type": "execute_result"
    }
   ],
   "source": [
    "m4 = Pipeline([\n",
    "    (\"transformer\", combined),\n",
    "    (\"lr\", LinearRegression()),\n",
    "])\n",
    "m4"
   ]
  },
  {
   "cell_type": "code",
   "execution_count": 50,
   "metadata": {},
   "outputs": [
    {
     "data": {
      "text/plain": [
       "0.10153050900287375"
      ]
     },
     "execution_count": 50,
     "metadata": {},
     "output_type": "execute_result"
    }
   ],
   "source": [
    "m4.fit(train[[\"Wave Period\", \"Beach Name\"]], train[\"Wave Height\"])\n",
    "m4.score(test[[\"Wave Period\", \"Beach Name\"]], test[\"Wave Height\"])"
   ]
  },
  {
   "cell_type": "code",
   "execution_count": 56,
   "metadata": {},
   "outputs": [],
   "source": [
    "# a pipeline is like a dictionary of stages"
   ]
  },
  {
   "cell_type": "code",
   "execution_count": 57,
   "metadata": {},
   "outputs": [
    {
     "data": {
      "text/plain": [
       "ColumnTransformer(transformers=[('polynomialfeatures',\n",
       "                                 PolynomialFeatures(degree=3,\n",
       "                                                    include_bias=False),\n",
       "                                 ['Wave Period']),\n",
       "                                ('onehotencoder', OneHotEncoder(),\n",
       "                                 ['Beach Name'])])"
      ]
     },
     "execution_count": 57,
     "metadata": {},
     "output_type": "execute_result"
    }
   ],
   "source": [
    "m4[\"transformer\"]"
   ]
  },
  {
   "cell_type": "code",
   "execution_count": 58,
   "metadata": {},
   "outputs": [
    {
     "data": {
      "text/html": [
       "<div>\n",
       "<style scoped>\n",
       "    .dataframe tbody tr th:only-of-type {\n",
       "        vertical-align: middle;\n",
       "    }\n",
       "\n",
       "    .dataframe tbody tr th {\n",
       "        vertical-align: top;\n",
       "    }\n",
       "\n",
       "    .dataframe thead th {\n",
       "        text-align: right;\n",
       "    }\n",
       "</style>\n",
       "<table border=\"1\" class=\"dataframe\">\n",
       "  <thead>\n",
       "    <tr style=\"text-align: right;\">\n",
       "      <th></th>\n",
       "      <th>polynomialfeatures__Wave Period</th>\n",
       "      <th>polynomialfeatures__Wave Period^2</th>\n",
       "      <th>polynomialfeatures__Wave Period^3</th>\n",
       "      <th>onehotencoder__Beach Name_63rd Street Beach</th>\n",
       "      <th>onehotencoder__Beach Name_Calumet Beach</th>\n",
       "      <th>onehotencoder__Beach Name_Montrose Beach</th>\n",
       "      <th>onehotencoder__Beach Name_Ohio Street Beach</th>\n",
       "      <th>onehotencoder__Beach Name_Osterman Beach</th>\n",
       "      <th>onehotencoder__Beach Name_Rainbow Beach</th>\n",
       "    </tr>\n",
       "  </thead>\n",
       "  <tbody>\n",
       "    <tr>\n",
       "      <th>0</th>\n",
       "      <td>6.0</td>\n",
       "      <td>36.0</td>\n",
       "      <td>216.0</td>\n",
       "      <td>0.0</td>\n",
       "      <td>0.0</td>\n",
       "      <td>0.0</td>\n",
       "      <td>1.0</td>\n",
       "      <td>0.0</td>\n",
       "      <td>0.0</td>\n",
       "    </tr>\n",
       "    <tr>\n",
       "      <th>1</th>\n",
       "      <td>2.0</td>\n",
       "      <td>4.0</td>\n",
       "      <td>8.0</td>\n",
       "      <td>0.0</td>\n",
       "      <td>1.0</td>\n",
       "      <td>0.0</td>\n",
       "      <td>0.0</td>\n",
       "      <td>0.0</td>\n",
       "      <td>0.0</td>\n",
       "    </tr>\n",
       "    <tr>\n",
       "      <th>2</th>\n",
       "      <td>3.0</td>\n",
       "      <td>9.0</td>\n",
       "      <td>27.0</td>\n",
       "      <td>0.0</td>\n",
       "      <td>0.0</td>\n",
       "      <td>0.0</td>\n",
       "      <td>0.0</td>\n",
       "      <td>1.0</td>\n",
       "      <td>0.0</td>\n",
       "    </tr>\n",
       "  </tbody>\n",
       "</table>\n",
       "</div>"
      ],
      "text/plain": [
       "   polynomialfeatures__Wave Period  polynomialfeatures__Wave Period^2  \\\n",
       "0                              6.0                               36.0   \n",
       "1                              2.0                                4.0   \n",
       "2                              3.0                                9.0   \n",
       "\n",
       "   polynomialfeatures__Wave Period^3  \\\n",
       "0                              216.0   \n",
       "1                                8.0   \n",
       "2                               27.0   \n",
       "\n",
       "   onehotencoder__Beach Name_63rd Street Beach  \\\n",
       "0                                          0.0   \n",
       "1                                          0.0   \n",
       "2                                          0.0   \n",
       "\n",
       "   onehotencoder__Beach Name_Calumet Beach  \\\n",
       "0                                      0.0   \n",
       "1                                      1.0   \n",
       "2                                      0.0   \n",
       "\n",
       "   onehotencoder__Beach Name_Montrose Beach  \\\n",
       "0                                       0.0   \n",
       "1                                       0.0   \n",
       "2                                       0.0   \n",
       "\n",
       "   onehotencoder__Beach Name_Ohio Street Beach  \\\n",
       "0                                          1.0   \n",
       "1                                          0.0   \n",
       "2                                          0.0   \n",
       "\n",
       "   onehotencoder__Beach Name_Osterman Beach  \\\n",
       "0                                       0.0   \n",
       "1                                       0.0   \n",
       "2                                       1.0   \n",
       "\n",
       "   onehotencoder__Beach Name_Rainbow Beach  \n",
       "0                                      0.0  \n",
       "1                                      0.0  \n",
       "2                                      0.0  "
      ]
     },
     "execution_count": 58,
     "metadata": {},
     "output_type": "execute_result"
    }
   ],
   "source": [
    "data = m4[\"transformer\"].fit_transform(train[[\"Wave Period\", \"Beach Name\"]])\n",
    "pd.DataFrame(data, columns=m4[\"transformer\"].get_feature_names_out()).head(3)"
   ]
  },
  {
   "cell_type": "code",
   "execution_count": 60,
   "metadata": {},
   "outputs": [
    {
     "data": {
      "text/plain": [
       "array([ 0.03545138, -0.00212612, -0.00015751, -0.02459595, -0.01961572,\n",
       "        0.0241625 , -0.01385944,  0.0086844 ,  0.02522421])"
      ]
     },
     "execution_count": 60,
     "metadata": {},
     "output_type": "execute_result"
    }
   ],
   "source": [
    "m4[\"lr\"].coef_"
   ]
  },
  {
   "cell_type": "code",
   "execution_count": 63,
   "metadata": {},
   "outputs": [
    {
     "data": {
      "text/plain": [
       "['Wave Period',\n",
       " 'Wave Period^2',\n",
       " 'Wave Period^3',\n",
       " '63rd Street Beach',\n",
       " 'Calumet Beach',\n",
       " 'Montrose Beach',\n",
       " 'Ohio Street Beach',\n",
       " 'Osterman Beach',\n",
       " 'Rainbow Beach']"
      ]
     },
     "execution_count": 63,
     "metadata": {},
     "output_type": "execute_result"
    }
   ],
   "source": [
    "# how does the m4 model make predictions?\n",
    "cols = m4[\"transformer\"].get_feature_names_out()\n",
    "cols = [c.split(\"_\")[-1] for c in cols]\n",
    "cols"
   ]
  },
  {
   "cell_type": "code",
   "execution_count": 65,
   "metadata": {},
   "outputs": [
    {
     "data": {
      "text/plain": [
       "<AxesSubplot:>"
      ]
     },
     "execution_count": 65,
     "metadata": {},
     "output_type": "execute_result"
    },
    {
     "data": {
      "image/png": "[encoded data removed]",
      "text/plain": [
       "<Figure size 432x288 with 1 Axes>"
      ]
     },
     "metadata": {
      "needs_background": "light"
     },
     "output_type": "display_data"
    }
   ],
   "source": [
    "pd.Series(m4[\"lr\"].coef_, index=cols).plot.bar()"
   ]
  }
 ],
 "metadata": {
  "kernelspec": {
   "display_name": "Python 3 (ipykernel)",
   "language": "python",
   "name": "python3"
  },
  "language_info": {
   "codemirror_mode": {
    "name": "ipython",
    "version": 3
   },
   "file_extension": ".py",
   "mimetype": "text/x-python",
   "name": "python",
   "nbconvert_exporter": "python",
   "pygments_lexer": "ipython3",
   "version": "3.8.10"
  }
 },
 "nbformat": 4,
 "nbformat_minor": 4
}
