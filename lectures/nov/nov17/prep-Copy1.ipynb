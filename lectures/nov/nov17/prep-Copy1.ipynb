{
 "cells": [
  {
   "cell_type": "markdown",
   "metadata": {},
   "source": [
    "# Data: Lake Michigan Waves\n",
    "\n",
    "https://data.cityofchicago.org/Parks-Recreation/Beach-Water-Quality-Automated-Sensors/qmqz-2xku\n",
    "\n",
    "Can we predict wave height based on wave period (time between waves)?"
   ]
  },
  {
   "cell_type": "code",
   "execution_count": 1,
   "metadata": {},
   "outputs": [],
   "source": [
    "import numpy as np\n",
    "import pandas as pd\n",
    "import matplotlib.pyplot as plt"
   ]
  },
  {
   "cell_type": "code",
   "execution_count": 2,
   "metadata": {},
   "outputs": [
    {
     "data": {
      "text/html": [
       "<div>\n",
       "<style scoped>\n",
       "    .dataframe tbody tr th:only-of-type {\n",
       "        vertical-align: middle;\n",
       "    }\n",
       "\n",
       "    .dataframe tbody tr th {\n",
       "        vertical-align: top;\n",
       "    }\n",
       "\n",
       "    .dataframe thead th {\n",
       "        text-align: right;\n",
       "    }\n",
       "</style>\n",
       "<table border=\"1\" class=\"dataframe\">\n",
       "  <thead>\n",
       "    <tr style=\"text-align: right;\">\n",
       "      <th></th>\n",
       "      <th>Beach Name</th>\n",
       "      <th>Measurement Timestamp</th>\n",
       "      <th>Water Temperature</th>\n",
       "      <th>Turbidity</th>\n",
       "      <th>Transducer Depth</th>\n",
       "      <th>Wave Height</th>\n",
       "      <th>Wave Period</th>\n",
       "      <th>Battery Life</th>\n",
       "      <th>Measurement Timestamp Label</th>\n",
       "      <th>Measurement ID</th>\n",
       "    </tr>\n",
       "  </thead>\n",
       "  <tbody>\n",
       "    <tr>\n",
       "      <th>0</th>\n",
       "      <td>Ohio Street Beach</td>\n",
       "      <td>06/02/2019 05:00:00 PM</td>\n",
       "      <td>17.1</td>\n",
       "      <td>0.78</td>\n",
       "      <td>NaN</td>\n",
       "      <td>0.232</td>\n",
       "      <td>4.0</td>\n",
       "      <td>10.9</td>\n",
       "      <td>06/02/2019 5:00 PM</td>\n",
       "      <td>OhioStreetBeach201906021700</td>\n",
       "    </tr>\n",
       "    <tr>\n",
       "      <th>1</th>\n",
       "      <td>63rd Street Beach</td>\n",
       "      <td>09/18/2013 10:00:00 AM</td>\n",
       "      <td>18.9</td>\n",
       "      <td>7.56</td>\n",
       "      <td>1.517</td>\n",
       "      <td>0.140</td>\n",
       "      <td>4.0</td>\n",
       "      <td>11.0</td>\n",
       "      <td>09/18/2013 10:00 AM</td>\n",
       "      <td>63rdStreetBeach201309181000</td>\n",
       "    </tr>\n",
       "    <tr>\n",
       "      <th>2</th>\n",
       "      <td>63rd Street Beach</td>\n",
       "      <td>06/12/2014 12:00:00 PM</td>\n",
       "      <td>25.4</td>\n",
       "      <td>3.45</td>\n",
       "      <td>-0.072</td>\n",
       "      <td>0.031</td>\n",
       "      <td>9.0</td>\n",
       "      <td>12.2</td>\n",
       "      <td>06/12/2014 12:00 PM</td>\n",
       "      <td>63rdStreetBeach201406121200</td>\n",
       "    </tr>\n",
       "    <tr>\n",
       "      <th>3</th>\n",
       "      <td>63rd Street Beach</td>\n",
       "      <td>06/12/2014 01:00:00 PM</td>\n",
       "      <td>18.1</td>\n",
       "      <td>3.31</td>\n",
       "      <td>1.818</td>\n",
       "      <td>0.339</td>\n",
       "      <td>10.0</td>\n",
       "      <td>12.2</td>\n",
       "      <td>06/12/2014 1:00 PM</td>\n",
       "      <td>63rdStreetBeach201406121300</td>\n",
       "    </tr>\n",
       "    <tr>\n",
       "      <th>4</th>\n",
       "      <td>63rd Street Beach</td>\n",
       "      <td>06/12/2014 02:00:00 PM</td>\n",
       "      <td>17.5</td>\n",
       "      <td>2.93</td>\n",
       "      <td>1.545</td>\n",
       "      <td>0.136</td>\n",
       "      <td>4.0</td>\n",
       "      <td>12.2</td>\n",
       "      <td>06/12/2014 2:00 PM</td>\n",
       "      <td>63rdStreetBeach201406121400</td>\n",
       "    </tr>\n",
       "  </tbody>\n",
       "</table>\n",
       "</div>"
      ],
      "text/plain": [
       "          Beach Name   Measurement Timestamp  Water Temperature  Turbidity  \\\n",
       "0  Ohio Street Beach  06/02/2019 05:00:00 PM               17.1       0.78   \n",
       "1  63rd Street Beach  09/18/2013 10:00:00 AM               18.9       7.56   \n",
       "2  63rd Street Beach  06/12/2014 12:00:00 PM               25.4       3.45   \n",
       "3  63rd Street Beach  06/12/2014 01:00:00 PM               18.1       3.31   \n",
       "4  63rd Street Beach  06/12/2014 02:00:00 PM               17.5       2.93   \n",
       "\n",
       "   Transducer Depth  Wave Height  Wave Period  Battery Life  \\\n",
       "0               NaN        0.232          4.0          10.9   \n",
       "1             1.517        0.140          4.0          11.0   \n",
       "2            -0.072        0.031          9.0          12.2   \n",
       "3             1.818        0.339         10.0          12.2   \n",
       "4             1.545        0.136          4.0          12.2   \n",
       "\n",
       "  Measurement Timestamp Label               Measurement ID  \n",
       "0          06/02/2019 5:00 PM  OhioStreetBeach201906021700  \n",
       "1         09/18/2013 10:00 AM  63rdStreetBeach201309181000  \n",
       "2         06/12/2014 12:00 PM  63rdStreetBeach201406121200  \n",
       "3          06/12/2014 1:00 PM  63rdStreetBeach201406121300  \n",
       "4          06/12/2014 2:00 PM  63rdStreetBeach201406121400  "
      ]
     },
     "execution_count": 2,
     "metadata": {},
     "output_type": "execute_result"
    }
   ],
   "source": [
    "df = pd.read_csv(\"waves.csv\")\n",
    "df.head()"
   ]
  },
  {
   "cell_type": "code",
   "execution_count": 3,
   "metadata": {},
   "outputs": [
    {
     "data": {
      "text/plain": [
       "<matplotlib.axes._subplots.AxesSubplot at 0x7fbbde51c9b0>"
      ]
     },
     "execution_count": 3,
     "metadata": {},
     "output_type": "execute_result"
    },
    {
     "data": {
      "image/png": "[encoded data removed]",
      "text/plain": [
       "<Figure size 432x288 with 1 Axes>"
      ]
     },
     "metadata": {
      "needs_background": "light"
     },
     "output_type": "display_data"
    }
   ],
   "source": [
    "df = df[(df[\"Wave Period\"] > 0) & (df[\"Wave Height\"] > 0)]\n",
    "df.plot.scatter(x=\"Wave Period\", y=\"Wave Height\", color=\"k\", alpha=0.05)\n",
    "# observation: non-linear relationship"
   ]
  },
  {
   "cell_type": "code",
   "execution_count": 4,
   "metadata": {},
   "outputs": [
    {
     "data": {
      "text/plain": [
       "['63rd Street Beach',\n",
       " 'Calumet Beach',\n",
       " 'Montrose Beach',\n",
       " 'Ohio Street Beach',\n",
       " 'Osterman Beach',\n",
       " 'Rainbow Beach']"
      ]
     },
     "execution_count": 4,
     "metadata": {},
     "output_type": "execute_result"
    }
   ],
   "source": [
    "beach_names = sorted(set(df[\"Beach Name\"]))\n",
    "beach_names"
   ]
  },
  {
   "cell_type": "code",
   "execution_count": 5,
   "metadata": {},
   "outputs": [
    {
     "data": {
      "image/png": "[encoded data removed]",
      "text/plain": [
       "<Figure size 864x576 with 6 Axes>"
      ]
     },
     "metadata": {
      "needs_background": "light"
     },
     "output_type": "display_data"
    }
   ],
   "source": [
    "fig, axes = plt.subplots(2, 3, figsize=(12, 8), sharey=True)\n",
    "plt.subplots_adjust(hspace=0.3)\n",
    "axes = list(axes.reshape(-1))\n",
    "for b in beach_names:\n",
    "    ax = axes.pop(0)\n",
    "    ax.set_title(b)\n",
    "    beach_df = df[df[\"Beach Name\"] == b]\n",
    "    beach_df.plot.scatter(x=\"Wave Period\", y=\"Wave Height\", \n",
    "                          color=\"k\", alpha=0.1, ax=ax)\n",
    "# Obversation: beaches have distinct patterns (use OneHot encoding)"
   ]
  },
  {
   "cell_type": "markdown",
   "metadata": {},
   "source": [
    "# Four Models\n",
    "\n",
    "1. wave period (linear)\n",
    "2. wave period (polynomial)\n",
    "3. beach\n",
    "4. beach and wave period"
   ]
  },
  {
   "cell_type": "code",
   "execution_count": 6,
   "metadata": {},
   "outputs": [
    {
     "data": {
      "text/html": [
       "<div>\n",
       "<style scoped>\n",
       "    .dataframe tbody tr th:only-of-type {\n",
       "        vertical-align: middle;\n",
       "    }\n",
       "\n",
       "    .dataframe tbody tr th {\n",
       "        vertical-align: top;\n",
       "    }\n",
       "\n",
       "    .dataframe thead th {\n",
       "        text-align: right;\n",
       "    }\n",
       "</style>\n",
       "<table border=\"1\" class=\"dataframe\">\n",
       "  <thead>\n",
       "    <tr style=\"text-align: right;\">\n",
       "      <th></th>\n",
       "      <th>Beach Name</th>\n",
       "      <th>Measurement Timestamp</th>\n",
       "      <th>Water Temperature</th>\n",
       "      <th>Turbidity</th>\n",
       "      <th>Transducer Depth</th>\n",
       "      <th>Wave Height</th>\n",
       "      <th>Wave Period</th>\n",
       "      <th>Battery Life</th>\n",
       "      <th>Measurement Timestamp Label</th>\n",
       "      <th>Measurement ID</th>\n",
       "    </tr>\n",
       "  </thead>\n",
       "  <tbody>\n",
       "    <tr>\n",
       "      <th>33973</th>\n",
       "      <td>Rainbow Beach</td>\n",
       "      <td>08/14/2015 12:00:00 AM</td>\n",
       "      <td>23.3</td>\n",
       "      <td>0.94</td>\n",
       "      <td>NaN</td>\n",
       "      <td>0.109</td>\n",
       "      <td>3.0</td>\n",
       "      <td>11.0</td>\n",
       "      <td>08/14/2015 12:00 AM</td>\n",
       "      <td>RainbowBeach201508142400</td>\n",
       "    </tr>\n",
       "    <tr>\n",
       "      <th>38127</th>\n",
       "      <td>Ohio Street Beach</td>\n",
       "      <td>07/12/2019 07:00:00 PM</td>\n",
       "      <td>22.4</td>\n",
       "      <td>1.34</td>\n",
       "      <td>NaN</td>\n",
       "      <td>0.167</td>\n",
       "      <td>5.0</td>\n",
       "      <td>11.1</td>\n",
       "      <td>07/12/2019 7:00 PM</td>\n",
       "      <td>OhioStreetBeach201907121900</td>\n",
       "    </tr>\n",
       "    <tr>\n",
       "      <th>20832</th>\n",
       "      <td>Ohio Street Beach</td>\n",
       "      <td>07/06/2015 12:00:00 AM</td>\n",
       "      <td>20.0</td>\n",
       "      <td>1.91</td>\n",
       "      <td>NaN</td>\n",
       "      <td>0.095</td>\n",
       "      <td>2.0</td>\n",
       "      <td>10.9</td>\n",
       "      <td>07/06/2015 12:00 AM</td>\n",
       "      <td>OhioStreetBeach201507062400</td>\n",
       "    </tr>\n",
       "    <tr>\n",
       "      <th>5509</th>\n",
       "      <td>Calumet Beach</td>\n",
       "      <td>08/26/2014 12:00:00 PM</td>\n",
       "      <td>24.0</td>\n",
       "      <td>0.39</td>\n",
       "      <td>1.668</td>\n",
       "      <td>0.080</td>\n",
       "      <td>4.0</td>\n",
       "      <td>9.9</td>\n",
       "      <td>08/26/2014 12:00 PM</td>\n",
       "      <td>CalumetBeach201408261200</td>\n",
       "    </tr>\n",
       "    <tr>\n",
       "      <th>17501</th>\n",
       "      <td>Montrose Beach</td>\n",
       "      <td>08/13/2016 12:00:00 PM</td>\n",
       "      <td>22.0</td>\n",
       "      <td>0.00</td>\n",
       "      <td>NaN</td>\n",
       "      <td>0.153</td>\n",
       "      <td>5.0</td>\n",
       "      <td>11.6</td>\n",
       "      <td>08/13/2016 12:00 PM</td>\n",
       "      <td>MontroseBeach201608131200</td>\n",
       "    </tr>\n",
       "  </tbody>\n",
       "</table>\n",
       "</div>"
      ],
      "text/plain": [
       "              Beach Name   Measurement Timestamp  Water Temperature  \\\n",
       "33973      Rainbow Beach  08/14/2015 12:00:00 AM               23.3   \n",
       "38127  Ohio Street Beach  07/12/2019 07:00:00 PM               22.4   \n",
       "20832  Ohio Street Beach  07/06/2015 12:00:00 AM               20.0   \n",
       "5509       Calumet Beach  08/26/2014 12:00:00 PM               24.0   \n",
       "17501     Montrose Beach  08/13/2016 12:00:00 PM               22.0   \n",
       "\n",
       "       Turbidity  Transducer Depth  Wave Height  Wave Period  Battery Life  \\\n",
       "33973       0.94               NaN        0.109          3.0          11.0   \n",
       "38127       1.34               NaN        0.167          5.0          11.1   \n",
       "20832       1.91               NaN        0.095          2.0          10.9   \n",
       "5509        0.39             1.668        0.080          4.0           9.9   \n",
       "17501       0.00               NaN        0.153          5.0          11.6   \n",
       "\n",
       "      Measurement Timestamp Label               Measurement ID  \n",
       "33973         08/14/2015 12:00 AM     RainbowBeach201508142400  \n",
       "38127          07/12/2019 7:00 PM  OhioStreetBeach201907121900  \n",
       "20832         07/06/2015 12:00 AM  OhioStreetBeach201507062400  \n",
       "5509          08/26/2014 12:00 PM     CalumetBeach201408261200  \n",
       "17501         08/13/2016 12:00 PM    MontroseBeach201608131200  "
      ]
     },
     "execution_count": 6,
     "metadata": {},
     "output_type": "execute_result"
    }
   ],
   "source": [
    "from sklearn.model_selection import train_test_split, cross_val_score\n",
    "from sklearn.linear_model import LinearRegression\n",
    "from sklearn.pipeline import Pipeline\n",
    "from sklearn.preprocessing import PolynomialFeatures, OneHotEncoder\n",
    "from sklearn.compose import make_column_transformer\n",
    "train_df, test_df = train_test_split(df)\n",
    "train_df.head()"
   ]
  },
  {
   "cell_type": "code",
   "execution_count": 7,
   "metadata": {},
   "outputs": [
    {
     "data": {
      "text/plain": [
       "(0.0010276413330550516, 3.901629905987456e-06)"
      ]
     },
     "execution_count": 7,
     "metadata": {},
     "output_type": "execute_result"
    }
   ],
   "source": [
    "m1 = LinearRegression()\n",
    "scores = cross_val_score(m1, train_df[[\"Wave Period\"]], train_df[\"Wave Height\"], cv=10)\n",
    "scores.mean(), scores.var()"
   ]
  },
  {
   "cell_type": "code",
   "execution_count": 8,
   "metadata": {},
   "outputs": [
    {
     "data": {
      "text/plain": [
       "(0.04547815670217734, 3.732693580166755e-05)"
      ]
     },
     "execution_count": 8,
     "metadata": {},
     "output_type": "execute_result"
    }
   ],
   "source": [
    "m2 = Pipeline([\n",
    "    (\"poly\", PolynomialFeatures(include_bias=False)),\n",
    "    (\"lr\", LinearRegression()),\n",
    "])\n",
    "scores = cross_val_score(m2, train_df[[\"Wave Period\"]], train_df[\"Wave Height\"], cv=10)\n",
    "scores.mean(), scores.var()"
   ]
  },
  {
   "cell_type": "code",
   "execution_count": 9,
   "metadata": {},
   "outputs": [
    {
     "data": {
      "text/plain": [
       "(0.05224516465681165, 4.848403331960965e-05)"
      ]
     },
     "execution_count": 9,
     "metadata": {},
     "output_type": "execute_result"
    }
   ],
   "source": [
    "m3 = Pipeline([\n",
    "    (\"oh\", OneHotEncoder()),\n",
    "    (\"lr\", LinearRegression()),\n",
    "])\n",
    "scores = cross_val_score(m3, train_df[[\"Beach Name\"]], train_df[\"Wave Height\"], cv=10)\n",
    "scores.mean(), scores.var()"
   ]
  },
  {
   "cell_type": "code",
   "execution_count": 10,
   "metadata": {},
   "outputs": [
    {
     "data": {
      "text/plain": [
       "(0.09216326587523901, 9.585434770827013e-05)"
      ]
     },
     "execution_count": 10,
     "metadata": {},
     "output_type": "execute_result"
    }
   ],
   "source": [
    "m4 = Pipeline([\n",
    "    (\"both\", make_column_transformer((OneHotEncoder(), [\"Beach Name\"]),\n",
    "                                     (PolynomialFeatures(), [\"Wave Period\"]))),\n",
    "    (\"lr\", LinearRegression()),\n",
    "])\n",
    "scores = cross_val_score(m4, train_df[[\"Beach Name\", \"Wave Period\"]], train_df[\"Wave Height\"], cv=10)\n",
    "scores.mean(), scores.var()"
   ]
  },
  {
   "cell_type": "code",
   "execution_count": 11,
   "metadata": {},
   "outputs": [
    {
     "data": {
      "text/plain": [
       "0.09413200646128006"
      ]
     },
     "execution_count": 11,
     "metadata": {},
     "output_type": "execute_result"
    }
   ],
   "source": [
    "m4.fit(train_df[[\"Beach Name\", \"Wave Period\"]], train_df[\"Wave Height\"])\n",
    "m4.score(test_df[[\"Beach Name\", \"Wave Period\"]], test_df[\"Wave Height\"])"
   ]
  },
  {
   "cell_type": "code",
   "execution_count": 12,
   "metadata": {},
   "outputs": [
    {
     "ename": "NameError",
     "evalue": "name 'p' is not defined",
     "output_type": "error",
     "traceback": [
      "\u001b[0;31m---------------------------------------------------------------------------\u001b[0m",
      "\u001b[0;31mNameError\u001b[0m                                 Traceback (most recent call last)",
      "\u001b[0;32m<ipython-input-12-8dccc5185949>\u001b[0m in \u001b[0;36m<module>\u001b[0;34m\u001b[0m\n\u001b[1;32m     11\u001b[0m \u001b[0max\u001b[0m \u001b[0;34m=\u001b[0m \u001b[0;32mNone\u001b[0m\u001b[0;34m\u001b[0m\u001b[0;34m\u001b[0m\u001b[0m\n\u001b[1;32m     12\u001b[0m \u001b[0;32mfor\u001b[0m \u001b[0mname\u001b[0m \u001b[0;32min\u001b[0m \u001b[0mbeach_names\u001b[0m\u001b[0;34m:\u001b[0m\u001b[0;34m\u001b[0m\u001b[0;34m\u001b[0m\u001b[0m\n\u001b[0;32m---> 13\u001b[0;31m     \u001b[0max\u001b[0m \u001b[0;34m=\u001b[0m \u001b[0mplot_beach\u001b[0m\u001b[0;34m(\u001b[0m\u001b[0mname\u001b[0m\u001b[0;34m,\u001b[0m \u001b[0max\u001b[0m\u001b[0;34m)\u001b[0m\u001b[0;34m\u001b[0m\u001b[0;34m\u001b[0m\u001b[0m\n\u001b[0m\u001b[1;32m     14\u001b[0m \u001b[0max\u001b[0m\u001b[0;34m.\u001b[0m\u001b[0mset_ylabel\u001b[0m\u001b[0;34m(\u001b[0m\u001b[0;34m\"Wave Height (Meters)\"\u001b[0m\u001b[0;34m)\u001b[0m\u001b[0;34m\u001b[0m\u001b[0;34m\u001b[0m\u001b[0m\n",
      "\u001b[0;32m<ipython-input-12-8dccc5185949>\u001b[0m in \u001b[0;36mplot_beach\u001b[0;34m(name, ax)\u001b[0m\n\u001b[1;32m      4\u001b[0m         \u001b[0;34m\"Wave Period\"\u001b[0m\u001b[0;34m:\u001b[0m \u001b[0mnp\u001b[0m\u001b[0;34m.\u001b[0m\u001b[0marange\u001b[0m\u001b[0;34m(\u001b[0m\u001b[0;36m1\u001b[0m\u001b[0;34m,\u001b[0m \u001b[0;36m11\u001b[0m\u001b[0;34m,\u001b[0m \u001b[0;36m1\u001b[0m\u001b[0;34m)\u001b[0m\u001b[0;34m,\u001b[0m\u001b[0;34m\u001b[0m\u001b[0;34m\u001b[0m\u001b[0m\n\u001b[1;32m      5\u001b[0m     })\n\u001b[0;32m----> 6\u001b[0;31m     \u001b[0mdf\u001b[0m\u001b[0;34m[\u001b[0m\u001b[0;34m\"predicted_wave\"\u001b[0m\u001b[0;34m]\u001b[0m \u001b[0;34m=\u001b[0m \u001b[0mp\u001b[0m\u001b[0;34m.\u001b[0m\u001b[0mpredict\u001b[0m\u001b[0;34m(\u001b[0m\u001b[0mdf\u001b[0m\u001b[0;34m)\u001b[0m\u001b[0;34m\u001b[0m\u001b[0;34m\u001b[0m\u001b[0m\n\u001b[0m\u001b[1;32m      7\u001b[0m     ax = df.plot.line(x=\"Wave Period\", y=\"predicted_wave\",\n\u001b[1;32m      8\u001b[0m                       label=name, ax=ax)\n",
      "\u001b[0;31mNameError\u001b[0m: name 'p' is not defined"
     ]
    }
   ],
   "source": [
    "def plot_beach(name, ax):\n",
    "    df = pd.DataFrame({\n",
    "        \"Beach Name\": name,\n",
    "        \"Wave Period\": np.arange(1, 11, 1),\n",
    "    })\n",
    "    df[\"predicted_wave\"] = p.predict(df)\n",
    "    ax = df.plot.line(x=\"Wave Period\", y=\"predicted_wave\",\n",
    "                      label=name, ax=ax)\n",
    "    return ax\n",
    "\n",
    "ax = None\n",
    "for name in beach_names:\n",
    "    ax = plot_beach(name, ax)\n",
    "ax.set_ylabel(\"Wave Height (Meters)\")"
   ]
  },
  {
   "cell_type": "code",
   "execution_count": null,
   "metadata": {},
   "outputs": [],
   "source": [
    "train[xcols]"
   ]
  },
  {
   "cell_type": "code",
   "execution_count": null,
   "metadata": {},
   "outputs": [],
   "source": [
    "oh = OneHotEncoder()\n",
    "data = oh.fit_transform(train[[\"Beach Name\", \"Wave Period\"]].values)\n",
    "oh.get_feature_names([\"beach\", \"wave\"])"
   ]
  },
  {
   "cell_type": "code",
   "execution_count": null,
   "metadata": {},
   "outputs": [],
   "source": [
    "pd.DataFrame(data.toarray(), columns=oh.get_feature_names([\"beach\"]))"
   ]
  },
  {
   "cell_type": "code",
   "execution_count": null,
   "metadata": {},
   "outputs": [],
   "source": [
    "ct = make_column_transformer(\n",
    "    (OneHotEncoder(), [\"Beach Name\"]),\n",
    "    (PolynomialFeatures(include_bias=False), [\"Wave Period\"]),\n",
    "    (PolynomialFeatures(include_bias=False), [\"Wave Period\"]),\n",
    ")\n",
    "data = ct.fit_transform(train[[\"Beach Name\", \"Wave Period\"]])\n",
    "pd.DataFrame(data, columns=ct.get_feature_names())"
   ]
  },
  {
   "cell_type": "code",
   "execution_count": null,
   "metadata": {},
   "outputs": [],
   "source": [
    "pipe = Pipeline([\n",
    "    (\"trans\", ct),\n",
    "    (\"lr\", LinearRegression())\n",
    "])\n",
    "pipe.fit(train[[\"Beach Name\", \"Wave Period\"]], train[\"Wave Height\"])\n",
    "pipe.score(test[[\"Beach Name\", \"Wave Period\"]], test[\"Wave Height\"])"
   ]
  },
  {
   "cell_type": "code",
   "execution_count": null,
   "metadata": {},
   "outputs": [],
   "source": [
    "from sklearn.model_selection import cross_val_score"
   ]
  },
  {
   "cell_type": "code",
   "execution_count": null,
   "metadata": {},
   "outputs": [],
   "source": [
    "scores = cross_val_score(pipe, train[[\"Beach Name\", \"Wave Period\"]], train[\"Wave Height\"], cv=10)\n",
    "scores.mean()"
   ]
  },
  {
   "cell_type": "code",
   "execution_count": null,
   "metadata": {},
   "outputs": [],
   "source": [
    "scores"
   ]
  },
  {
   "cell_type": "code",
   "execution_count": null,
   "metadata": {},
   "outputs": [],
   "source": [
    "def plot_beach(name, ax):\n",
    "    df = pd.DataFrame({\n",
    "        \"Beach Name\": name,\n",
    "        \"Wave Period\": np.arange(1, 11, 1),\n",
    "    })\n",
    "    df[\"predicted_wave\"] = pipe.predict(df)\n",
    "    ax = df.plot.line(x=\"Wave Period\", y=\"predicted_wave\",\n",
    "                      label=name, ax=ax)\n",
    "    return ax\n",
    "    \n",
    "ax = None\n",
    "for name in beach_names:\n",
    "    ax = plot_beach(name, ax)\n",
    "ax.set_ylabel(\"Wave Height (Meters)\")"
   ]
  }
 ],
 "metadata": {
  "kernelspec": {
   "display_name": "Python 3 (ipykernel)",
   "language": "python",
   "name": "python3"
  },
  "language_info": {
   "codemirror_mode": {
    "name": "ipython",
    "version": 3
   },
   "file_extension": ".py",
   "mimetype": "text/x-python",
   "name": "python",
   "nbconvert_exporter": "python",
   "pygments_lexer": "ipython3",
   "version": "3.8.10"
  }
 },
 "nbformat": 4,
 "nbformat_minor": 4
}
