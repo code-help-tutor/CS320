{
 "cells": [
  {
   "cell_type": "markdown",
   "metadata": {},
   "source": [
    "# Part 1: Column Space of a Matrix\n",
    "\n",
    "Definition: the *column space* of a matrix is the set of all linear combinations of that matrix's columns."
   ]
  },
  {
   "cell_type": "code",
   "execution_count": 1,
   "metadata": {},
   "outputs": [],
   "source": [
    "import numpy as np\n",
    "A = np.array([\n",
    "    [1,100],\n",
    "    [2,10],\n",
    "    [3,0]\n",
    "])\n",
    "B = np.array([\n",
    "    [1,0],\n",
    "    [0,2],\n",
    "    [0,3],\n",
    "    [0,0]\n",
    "])"
   ]
  },
  {
   "cell_type": "markdown",
   "metadata": {},
   "source": [
    "$A = \\begin{bmatrix}\n",
    "1&100\\\\\n",
    "2&10\\\\\n",
    "3&0\\\\\n",
    "\\end{bmatrix}$"
   ]
  },
  {
   "cell_type": "code",
   "execution_count": null,
   "metadata": {},
   "outputs": [],
   "source": []
  },
  {
   "cell_type": "markdown",
   "metadata": {},
   "source": [
    "What vectors are in the column space of B?\n",
    "\n",
    "$B = \\begin{bmatrix}\n",
    "1&0\\\\\n",
    "0&2\\\\\n",
    "0&3\\\\\n",
    "0&0\\\\\n",
    "\\end{bmatrix}$\n",
    "\n",
    "$a=\\begin{bmatrix}\n",
    "2\\\\\n",
    "2\\\\\n",
    "3\\\\\n",
    "0\n",
    "\\end{bmatrix}, b=\\begin{bmatrix}\n",
    "0\\\\\n",
    "0\\\\\n",
    "0\\\\\n",
    "1\n",
    "\\end{bmatrix}, c=\\begin{bmatrix}\n",
    "-10\\\\\n",
    "0\\\\\n",
    "0\\\\\n",
    "0\n",
    "\\end{bmatrix}, d=\\begin{bmatrix}\n",
    "0\\\\\n",
    "-2\\\\\n",
    "3\\\\\n",
    "0\n",
    "\\end{bmatrix}, e=\\begin{bmatrix}\n",
    "-1\\\\\n",
    "2\\\\\n",
    "3\\\\\n",
    "0\n",
    "\\end{bmatrix}$"
   ]
  },
  {
   "cell_type": "code",
   "execution_count": 2,
   "metadata": {},
   "outputs": [
    {
     "data": {
      "text/plain": [
       "array([[0],\n",
       "       [0],\n",
       "       [0],\n",
       "       [0]])"
      ]
     },
     "execution_count": 2,
     "metadata": {},
     "output_type": "execute_result"
    }
   ],
   "source": [
    "# in the column space of B: ????\n",
    "# not in the column space: ????\n",
    "c = np.array([0, 0]).reshape(-1,1) # coef\n",
    "B @ c"
   ]
  },
  {
   "cell_type": "markdown",
   "metadata": {},
   "source": [
    "# Part 2: When can we solve for c?\n",
    "\n",
    "Suppose $Xc = y$.\n",
    "\n",
    "$X$ and $y$ are known, and we want to solve for $c$.\n",
    "\n",
    "When does `c = np.linalg.solve(X, y)` work?\n",
    "\n",
    "## Fruit Sales Example\n",
    "\n",
    "### Data\n",
    "\n",
    "* `10 apples and 0 bananas sold for $7`\n",
    "* `2 apples and 8 bananas sold for $5`\n",
    "* `4 apples and 4 bananas sold for $5`\n",
    "\n",
    "### Equations\n",
    "\n",
    "* `10*apple + basket == 7`\n",
    "* `2*apple + 8*banana + basket == 5`\n",
    "* `4*apple + 4*banana + basket == 5`\n",
    "\n",
    "### Matrix"
   ]
  },
  {
   "cell_type": "code",
   "execution_count": 3,
   "metadata": {},
   "outputs": [
    {
     "data": {
      "text/plain": [
       "array([[0.5 ],\n",
       "       [0.25],\n",
       "       [2.  ]])"
      ]
     },
     "execution_count": 3,
     "metadata": {},
     "output_type": "execute_result"
    }
   ],
   "source": [
    "import numpy as np\n",
    "\n",
    "X = np.array([\n",
    "    [10,0,1],\n",
    "    [2,8,1],\n",
    "    [4,4,1],\n",
    "])\n",
    "y = np.array([7,5,5]).reshape(-1,1)\n",
    "\n",
    "c = np.linalg.solve(X, y)\n",
    "c"
   ]
  },
  {
   "cell_type": "code",
   "execution_count": null,
   "metadata": {},
   "outputs": [],
   "source": []
  },
  {
   "cell_type": "markdown",
   "metadata": {},
   "source": [
    "### Equivalent Statements\n",
    "\n",
    "* there's a solution for the system of equations\n",
    "* there's a solution for $c$ (in $Xc = y$), even if `np.linalg.solve` can't find it\n",
    "* $y$ is in the column space of $X$"
   ]
  },
  {
   "cell_type": "markdown",
   "metadata": {},
   "source": [
    "# The Problem with Most Tables\n",
    "\n",
    "More rows than columns in our dataset means more equations than variables.\n",
    "\n",
    "This *usually* means that:\n",
    "\n",
    "The equations aren't solvable, and y isn't in the column space of X."
   ]
  },
  {
   "cell_type": "code",
   "execution_count": null,
   "metadata": {},
   "outputs": [],
   "source": []
  },
  {
   "cell_type": "markdown",
   "metadata": {},
   "source": [
    "# Part 3: Projection Matrix\n",
    "\n",
    "$P = X(X^TX)^{-1}X^T$\n",
    "\n",
    "$P$ is a projection matrix: if you multiply a vector by $P$, you get back another vector of the same size, with two properties:\n",
    "\n",
    "1. it will be in the column space of $X$\n",
    "2. the new vector will be as \"close as possible\" to the original vector\n",
    "\n",
    "Say there's no solution for $Xc=y$.\n",
    "\n",
    "Solve $Xc=p$ instead, where $p=Py$.\n",
    "\n",
    "## Fruit Sales Example"
   ]
  },
  {
   "cell_type": "code",
   "execution_count": 4,
   "metadata": {},
   "outputs": [
    {
     "data": {
      "text/plain": [
       "array([[7. ],\n",
       "       [5. ],\n",
       "       [5. ],\n",
       "       [8. ],\n",
       "       [8.5]])"
      ]
     },
     "execution_count": 4,
     "metadata": {},
     "output_type": "execute_result"
    }
   ],
   "source": [
    "import numpy as np\n",
    "import pandas as pd\n",
    "\n",
    "X = np.array([\n",
    "    [10,0,1],\n",
    "    [2,8,1],\n",
    "    [4,4,1],\n",
    "    [10,4,1],\n",
    "    [10,4,1]\n",
    "])\n",
    "y = np.array([7,5,5,8,8.5]).reshape(-1,1)\n",
    "y"
   ]
  },
  {
   "cell_type": "markdown",
   "metadata": {},
   "source": [
    "$P = X(X^TX)^{-1}X^T$"
   ]
  },
  {
   "cell_type": "code",
   "execution_count": null,
   "metadata": {},
   "outputs": [],
   "source": []
  },
  {
   "cell_type": "markdown",
   "metadata": {},
   "source": [
    "## Scatter Example"
   ]
  },
  {
   "cell_type": "code",
   "execution_count": 5,
   "metadata": {},
   "outputs": [
    {
     "data": {
      "text/html": [
       "<div>\n",
       "<style scoped>\n",
       "    .dataframe tbody tr th:only-of-type {\n",
       "        vertical-align: middle;\n",
       "    }\n",
       "\n",
       "    .dataframe tbody tr th {\n",
       "        vertical-align: top;\n",
       "    }\n",
       "\n",
       "    .dataframe thead th {\n",
       "        text-align: right;\n",
       "    }\n",
       "</style>\n",
       "<table border=\"1\" class=\"dataframe\">\n",
       "  <thead>\n",
       "    <tr style=\"text-align: right;\">\n",
       "      <th></th>\n",
       "      <th>x</th>\n",
       "      <th>y</th>\n",
       "    </tr>\n",
       "  </thead>\n",
       "  <tbody>\n",
       "    <tr>\n",
       "      <th>0</th>\n",
       "      <td>3.693704</td>\n",
       "      <td>6.015367</td>\n",
       "    </tr>\n",
       "    <tr>\n",
       "      <th>1</th>\n",
       "      <td>6.134378</td>\n",
       "      <td>11.336515</td>\n",
       "    </tr>\n",
       "    <tr>\n",
       "      <th>2</th>\n",
       "      <td>5.903722</td>\n",
       "      <td>11.309238</td>\n",
       "    </tr>\n",
       "    <tr>\n",
       "      <th>3</th>\n",
       "      <td>1.295445</td>\n",
       "      <td>1.338518</td>\n",
       "    </tr>\n",
       "    <tr>\n",
       "      <th>4</th>\n",
       "      <td>3.615822</td>\n",
       "      <td>7.201488</td>\n",
       "    </tr>\n",
       "    <tr>\n",
       "      <th>5</th>\n",
       "      <td>6.850781</td>\n",
       "      <td>15.948625</td>\n",
       "    </tr>\n",
       "    <tr>\n",
       "      <th>6</th>\n",
       "      <td>3.718758</td>\n",
       "      <td>7.008720</td>\n",
       "    </tr>\n",
       "    <tr>\n",
       "      <th>7</th>\n",
       "      <td>5.618816</td>\n",
       "      <td>11.085849</td>\n",
       "    </tr>\n",
       "    <tr>\n",
       "      <th>8</th>\n",
       "      <td>4.807310</td>\n",
       "      <td>9.386392</td>\n",
       "    </tr>\n",
       "    <tr>\n",
       "      <th>9</th>\n",
       "      <td>3.053322</td>\n",
       "      <td>6.664497</td>\n",
       "    </tr>\n",
       "  </tbody>\n",
       "</table>\n",
       "</div>"
      ],
      "text/plain": [
       "          x          y\n",
       "0  3.693704   6.015367\n",
       "1  6.134378  11.336515\n",
       "2  5.903722  11.309238\n",
       "3  1.295445   1.338518\n",
       "4  3.615822   7.201488\n",
       "5  6.850781  15.948625\n",
       "6  3.718758   7.008720\n",
       "7  5.618816  11.085849\n",
       "8  4.807310   9.386392\n",
       "9  3.053322   6.664497"
      ]
     },
     "execution_count": 5,
     "metadata": {},
     "output_type": "execute_result"
    }
   ],
   "source": [
    "import pandas as pd\n",
    "x = np.random.normal(5, 2, size=(10,1))\n",
    "y = 2*x + np.random.normal(size=x.shape)\n",
    "df = pd.DataFrame({\"x\":x.reshape(-1), \"y\":y.reshape(-1)})\n",
    "df"
   ]
  }
 ],
 "metadata": {
  "kernelspec": {
   "display_name": "Python 3 (ipykernel)",
   "language": "python",
   "name": "python3"
  },
  "language_info": {
   "codemirror_mode": {
    "name": "ipython",
    "version": 3
   },
   "file_extension": ".py",
   "mimetype": "text/x-python",
   "name": "python",
   "nbconvert_exporter": "python",
   "pygments_lexer": "ipython3",
   "version": "3.8.10"
  }
 },
 "nbformat": 4,
 "nbformat_minor": 4
}
