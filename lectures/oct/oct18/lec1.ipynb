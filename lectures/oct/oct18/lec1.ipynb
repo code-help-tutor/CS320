{
 "cells": [
  {
   "cell_type": "markdown",
   "id": "531e9f5a",
   "metadata": {},
   "source": [
    "# Demo on laptopt (not VM)\n",
    "\n",
    "You can't quite follow along and see the GUI."
   ]
  },
  {
   "cell_type": "code",
   "execution_count": 16,
   "id": "edc37e62",
   "metadata": {},
   "outputs": [],
   "source": [
    "from selenium import webdriver\n",
    "from selenium.webdriver.chrome.options import Options\n",
    "from selenium.common.exceptions import NoSuchElementException\n",
    "\n",
    "options = Options()\n",
    "#options.headless = True\n",
    "#b = webdriver.Chrome(options=options, executable_path=\"chromium.chromedriver\")\n",
    "b = webdriver.Chrome(options=options)"
   ]
  },
  {
   "cell_type": "code",
   "execution_count": 2,
   "id": "3f6aca72",
   "metadata": {},
   "outputs": [
    {
     "name": "stdout",
     "output_type": "stream",
     "text": [
      "A\n",
      "B\n"
     ]
    }
   ],
   "source": [
    "import time\n",
    "print(\"A\")\n",
    "time.sleep(3)\n",
    "print(\"B\")"
   ]
  },
  {
   "cell_type": "markdown",
   "id": "b5149b86",
   "metadata": {},
   "source": [
    "# Step 1: wait for the table to grab the HTML"
   ]
  },
  {
   "cell_type": "code",
   "execution_count": 3,
   "id": "89a306dd",
   "metadata": {},
   "outputs": [
    {
     "name": "stdout",
     "output_type": "stream",
     "text": [
      "not ready yet\n",
      "not ready yet\n",
      "not ready yet\n",
      "not ready yet\n",
      "not ready yet\n",
      "not ready yet\n",
      "not ready yet\n",
      "not ready yet\n",
      "not ready yet\n"
     ]
    }
   ],
   "source": [
    "b.get(\"https://tyler.caraza-harter.com/cs320/tricky/page1.html\")\n",
    "#print(b.page_source[:100])\n",
    "# polling\n",
    "def wait_for_element(elem_id):\n",
    "    max_seconds = 10\n",
    "    for i in range(max_seconds * 10):\n",
    "        time.sleep(0.1)\n",
    "        try:\n",
    "            elem = b.find_element_by_id(elem_id)\n",
    "            break\n",
    "        except NoSuchElementException:\n",
    "            print(\"not ready yet\")\n",
    "    return elem\n",
    "\n",
    "wait_for_element(\"coords\")\n",
    "html = b.page_source"
   ]
  },
  {
   "cell_type": "markdown",
   "id": "491ec83c",
   "metadata": {},
   "source": [
    "# Step 2: convert HTML to a table"
   ]
  },
  {
   "cell_type": "code",
   "execution_count": 4,
   "id": "b6bc8815",
   "metadata": {},
   "outputs": [],
   "source": [
    "from bs4 import BeautifulSoup # let us search for elements in HTML too"
   ]
  },
  {
   "cell_type": "code",
   "execution_count": 5,
   "id": "1d574354",
   "metadata": {},
   "outputs": [
    {
     "data": {
      "text/plain": [
       "bs4.BeautifulSoup"
      ]
     },
     "execution_count": 5,
     "metadata": {},
     "output_type": "execute_result"
    }
   ],
   "source": [
    "# we'll create a bs4 tree using the HTML selenium gave us\n",
    "page = BeautifulSoup(b.page_source, \"html.parser\")\n",
    "type(page)"
   ]
  },
  {
   "cell_type": "code",
   "execution_count": 6,
   "id": "7f2508b8",
   "metadata": {},
   "outputs": [],
   "source": [
    "# page.find(\"TAG\") -- get the first instance of that TAG\n",
    "tbls = page.find_all(\"table\")\n",
    "assert len(tbls) == 2"
   ]
  },
  {
   "cell_type": "code",
   "execution_count": 7,
   "id": "8cbe087c",
   "metadata": {},
   "outputs": [
    {
     "data": {
      "text/html": [
       "<div>\n",
       "<style scoped>\n",
       "    .dataframe tbody tr th:only-of-type {\n",
       "        vertical-align: middle;\n",
       "    }\n",
       "\n",
       "    .dataframe tbody tr th {\n",
       "        vertical-align: top;\n",
       "    }\n",
       "\n",
       "    .dataframe thead th {\n",
       "        text-align: right;\n",
       "    }\n",
       "</style>\n",
       "<table border=\"1\" class=\"dataframe\">\n",
       "  <thead>\n",
       "    <tr style=\"text-align: right;\">\n",
       "      <th></th>\n",
       "      <th>x</th>\n",
       "      <th>y</th>\n",
       "    </tr>\n",
       "  </thead>\n",
       "  <tbody>\n",
       "    <tr>\n",
       "      <th>0</th>\n",
       "      <td>0</td>\n",
       "      <td>1</td>\n",
       "    </tr>\n",
       "    <tr>\n",
       "      <th>1</th>\n",
       "      <td>2</td>\n",
       "      <td>3</td>\n",
       "    </tr>\n",
       "    <tr>\n",
       "      <th>2</th>\n",
       "      <td>4</td>\n",
       "      <td>5</td>\n",
       "    </tr>\n",
       "    <tr>\n",
       "      <th>3</th>\n",
       "      <td>6</td>\n",
       "      <td>7</td>\n",
       "    </tr>\n",
       "    <tr>\n",
       "      <th>4</th>\n",
       "      <td>8</td>\n",
       "      <td>9</td>\n",
       "    </tr>\n",
       "    <tr>\n",
       "      <th>5</th>\n",
       "      <td>10</td>\n",
       "      <td>11</td>\n",
       "    </tr>\n",
       "    <tr>\n",
       "      <th>6</th>\n",
       "      <td>12</td>\n",
       "      <td>13</td>\n",
       "    </tr>\n",
       "    <tr>\n",
       "      <th>7</th>\n",
       "      <td>14</td>\n",
       "      <td>15</td>\n",
       "    </tr>\n",
       "    <tr>\n",
       "      <th>8</th>\n",
       "      <td>16</td>\n",
       "      <td>17</td>\n",
       "    </tr>\n",
       "    <tr>\n",
       "      <th>9</th>\n",
       "      <td>18</td>\n",
       "      <td>19</td>\n",
       "    </tr>\n",
       "  </tbody>\n",
       "</table>\n",
       "</div>"
      ],
      "text/plain": [
       "    x   y\n",
       "0   0   1\n",
       "1   2   3\n",
       "2   4   5\n",
       "3   6   7\n",
       "4   8   9\n",
       "5  10  11\n",
       "6  12  13\n",
       "7  14  15\n",
       "8  16  17\n",
       "9  18  19"
      ]
     },
     "execution_count": 7,
     "metadata": {},
     "output_type": "execute_result"
    }
   ],
   "source": [
    "import pandas as pd\n",
    "tbl = tbls[-1]\n",
    "rows = []\n",
    "for tr in tbl.find_all(\"tr\"):\n",
    "    row = [cell.get_text() for cell in tr.find_all(\"td\")]\n",
    "    rows.append(row)\n",
    "pd.DataFrame(rows[1:], columns=rows[0])"
   ]
  },
  {
   "cell_type": "markdown",
   "id": "094228aa",
   "metadata": {},
   "source": [
    "# Demo 2: clicks"
   ]
  },
  {
   "cell_type": "code",
   "execution_count": 25,
   "id": "bfaf69c7",
   "metadata": {},
   "outputs": [],
   "source": [
    "b.get(\"https://tyler.caraza-harter.com/cs320/tricky/page2.html\")\n",
    "\n",
    "while True:\n",
    "    try:\n",
    "        btn = b.find_element_by_id(\"more\")\n",
    "    except NoSuchElementException:\n",
    "        break\n",
    "    btn.click()"
   ]
  },
  {
   "cell_type": "code",
   "execution_count": 28,
   "id": "9eab45a9",
   "metadata": {},
   "outputs": [
    {
     "name": "stdout",
     "output_type": "stream",
     "text": [
      "d>08/16/1992</td><td>08/29/1992</td><td>175</td><td>27.3B</td><td>65</td></tr><tr><td>Erin</td><td>07/31/1995</td><td>08/06/1995</td><td>100</td><td>700M</td><td>6</td></tr><tr><td>Earl</td><td>08/31/1998</td><td>09/08/1998</td><td>100</td><td>79M</td><td>3</td></tr></table>\n",
      "\n",
      "    \n",
      "  \n",
      "\n",
      "</body></html>\n"
     ]
    }
   ],
   "source": [
    "print(b.page_source[-300:])"
   ]
  },
  {
   "cell_type": "markdown",
   "id": "4a7fc124",
   "metadata": {},
   "source": [
    "# Demo 3: Typing a Password"
   ]
  },
  {
   "cell_type": "code",
   "execution_count": 30,
   "id": "e679e66a",
   "metadata": {},
   "outputs": [],
   "source": [
    "options = Options()\n",
    "b = webdriver.Chrome(options=options)\n",
    "\n",
    "url = \"https://tyler.caraza-harter.com/cs320/tricky/page3.html\"\n",
    "b.get(url)"
   ]
  },
  {
   "cell_type": "code",
   "execution_count": 37,
   "id": "1ba96de7",
   "metadata": {},
   "outputs": [],
   "source": [
    "pwd_box = b.find_element_by_id(\"password\")\n",
    "login_btn = b.find_element_by_id(\"login_btn\")\n",
    "\n",
    "# 1. type password\n",
    "pwd_box.send_keys(\"fido\")\n",
    "# 2. click a button\n",
    "login_btn.click()"
   ]
  },
  {
   "cell_type": "markdown",
   "id": "27b95cf1",
   "metadata": {},
   "source": [
    "# Demo 4: Plot Hurricanes per Year"
   ]
  },
  {
   "cell_type": "code",
   "execution_count": 40,
   "id": "f5fdfebb",
   "metadata": {},
   "outputs": [],
   "source": [
    "url = \"https://tyler.caraza-harter.com/cs320/tricky/page4.html\"\n",
    "b.get(url)"
   ]
  },
  {
   "cell_type": "code",
   "execution_count": 52,
   "id": "6114eb73",
   "metadata": {},
   "outputs": [
    {
     "data": {
      "text/plain": [
       "3"
      ]
     },
     "execution_count": 52,
     "metadata": {},
     "output_type": "execute_result"
    }
   ],
   "source": [
    "year_box = b.find_element_by_id(\"year\")\n",
    "search_btn = b.find_element_by_id(\"search_btn\")\n",
    "\n",
    "def get_year_count(year):\n",
    "    year_box.clear()\n",
    "    year_box.send_keys(str(year))\n",
    "    search_btn.click()\n",
    "    # TODO: return hurricanes in a year\n",
    "    trs = b.find_elements_by_tag_name(\"tr\")\n",
    "    assert len(trs) >= 1\n",
    "    return len(trs) - 1\n",
    "get_year_count(1950)"
   ]
  },
  {
   "cell_type": "code",
   "execution_count": 60,
   "id": "d2389954",
   "metadata": {},
   "outputs": [
    {
     "data": {
      "text/plain": [
       "1950    3\n",
       "1951    0\n",
       "1952    1\n",
       "1953    2\n",
       "1954    2\n",
       "       ..\n",
       "2015    2\n",
       "2016    2\n",
       "2017    4\n",
       "2018    4\n",
       "2019    0\n",
       "Length: 70, dtype: int64"
      ]
     },
     "execution_count": 60,
     "metadata": {},
     "output_type": "execute_result"
    }
   ],
   "source": [
    "import pandas as pd\n",
    "s = pd.Series(dtype=float)\n",
    "for year in range(1950, 2020):\n",
    "    s.loc[year] = get_year_count(year)\n",
    "s"
   ]
  },
  {
   "cell_type": "code",
   "execution_count": 61,
   "id": "b1b7814c",
   "metadata": {},
   "outputs": [
    {
     "data": {
      "text/plain": [
       "<AxesSubplot:>"
      ]
     },
     "execution_count": 61,
     "metadata": {},
     "output_type": "execute_result"
    },
    {
     "data": {
      "image/png": "[encoded data removed]",
      "text/plain": [
       "<Figure size 432x288 with 1 Axes>"
      ]
     },
     "metadata": {
      "needs_background": "light"
     },
     "output_type": "display_data"
    }
   ],
   "source": [
    "s.plot.line()"
   ]
  },
  {
   "cell_type": "markdown",
   "id": "ec891daa",
   "metadata": {},
   "source": [
    "# BFS for webpages"
   ]
  },
  {
   "cell_type": "code",
   "execution_count": 62,
   "id": "3ff1e895",
   "metadata": {},
   "outputs": [],
   "source": [
    "start_url = \"https://tyler.caraza-harter.com/cs320/crawl/practice1/1.html\""
   ]
  },
  {
   "cell_type": "code",
   "execution_count": 63,
   "id": "e299b54a",
   "metadata": {},
   "outputs": [],
   "source": [
    "b.get(start_url)"
   ]
  },
  {
   "cell_type": "code",
   "execution_count": 71,
   "id": "1243dd2c",
   "metadata": {},
   "outputs": [
    {
     "name": "stdout",
     "output_type": "stream",
     "text": [
      "https://tyler.caraza-harter.com/cs320/crawl/practice1/1.html\n",
      "https://tyler.caraza-harter.com/cs320/crawl/practice1/2.html\n",
      "https://tyler.caraza-harter.com/cs320/crawl/practice1/3.html\n",
      "https://tyler.caraza-harter.com/cs320/crawl/practice1/4.html\n",
      "https://tyler.caraza-harter.com/cs320/crawl/practice1/5.html\n",
      "https://tyler.caraza-harter.com/cs320/crawl/practice1/6.html\n"
     ]
    }
   ],
   "source": [
    "from collections import deque\n",
    "\n",
    "# BFS\n",
    "visit_todo = deque([start_url])\n",
    "added = set([start_url])\n",
    "\n",
    "while len(visit_todo) > 0:\n",
    "    # do the work\n",
    "    url = visit_todo.popleft()\n",
    "    print(url)\n",
    "    b.get(url) # visit it!\n",
    "    \n",
    "    # record new tasks\n",
    "    links = b.find_elements_by_tag_name(\"a\")\n",
    "    for link in links:\n",
    "        new_url = link.get_attribute(\"href\")\n",
    "        if not new_url in added:\n",
    "            visit_todo.append(new_url)\n",
    "            added.add(new_url)\n",
    "            \n",
    "    time.sleep(1)"
   ]
  },
  {
   "cell_type": "code",
   "execution_count": null,
   "id": "2d7e8d9d",
   "metadata": {},
   "outputs": [],
   "source": [
    "# bs4\n",
    "[td.get_text() for td in tr.find_all(\"td\")]\n",
    "\n",
    "# selenium\n",
    "????"
   ]
  }
 ],
 "metadata": {
  "kernelspec": {
   "display_name": "Python 3 (ipykernel)",
   "language": "python",
   "name": "python3"
  },
  "language_info": {
   "codemirror_mode": {
    "name": "ipython",
    "version": 3
   },
   "file_extension": ".py",
   "mimetype": "text/x-python",
   "name": "python",
   "nbconvert_exporter": "python",
   "pygments_lexer": "ipython3",
   "version": "3.9.6"
  }
 },
 "nbformat": 4,
 "nbformat_minor": 5
}
