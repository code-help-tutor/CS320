{
 "cells": [
  {
   "cell_type": "code",
   "execution_count": 1,
   "id": "f80dafba",
   "metadata": {},
   "outputs": [],
   "source": [
    "from urllib.robotparser import RobotFileParser"
   ]
  },
  {
   "cell_type": "code",
   "execution_count": 2,
   "id": "bacfacd7",
   "metadata": {},
   "outputs": [],
   "source": [
    "url = \"http://104.154.180.165:5000/robots.txt\"\n",
    "robo = RobotFileParser(url)"
   ]
  },
  {
   "cell_type": "code",
   "execution_count": 3,
   "id": "64bebd53",
   "metadata": {},
   "outputs": [],
   "source": [
    "robo.read()"
   ]
  },
  {
   "cell_type": "code",
   "execution_count": 6,
   "id": "35fcc5e5",
   "metadata": {},
   "outputs": [
    {
     "data": {
      "text/plain": [
       "True"
      ]
     },
     "execution_count": 6,
     "metadata": {},
     "output_type": "execute_result"
    }
   ],
   "source": [
    "robo.can_fetch(\n",
    "    \"cs320scraper\",\n",
    "    \"http://104.154.180.165:5000/index.html\")"
   ]
  },
  {
   "cell_type": "code",
   "execution_count": 7,
   "id": "7a438405",
   "metadata": {},
   "outputs": [
    {
     "data": {
      "text/plain": [
       "False"
      ]
     },
     "execution_count": 7,
     "metadata": {},
     "output_type": "execute_result"
    }
   ],
   "source": [
    "robo.can_fetch(\n",
    "    \"cs320scraper\",\n",
    "    \"http://104.154.180.165:5000/donotvisit\")"
   ]
  },
  {
   "cell_type": "code",
   "execution_count": null,
   "id": "e414c363",
   "metadata": {},
   "outputs": [],
   "source": [
    "#OK\n",
    "#requests.get(\"http://104.154.180.165:5000/index.html\")\n",
    "\n",
    "#NOT OK\n",
    "#requests.get(\"http://104.154.180.165:5000/donotvisit\")"
   ]
  }
 ],
 "metadata": {
  "kernelspec": {
   "display_name": "Python 3 (ipykernel)",
   "language": "python",
   "name": "python3"
  },
  "language_info": {
   "codemirror_mode": {
    "name": "ipython",
    "version": 3
   },
   "file_extension": ".py",
   "mimetype": "text/x-python",
   "name": "python",
   "nbconvert_exporter": "python",
   "pygments_lexer": "ipython3",
   "version": "3.8.10"
  }
 },
 "nbformat": 4,
 "nbformat_minor": 5
}
