{
 "cells": [
  {
   "cell_type": "code",
   "execution_count": 7,
   "id": "fd712c2c",
   "metadata": {},
   "outputs": [],
   "source": [
    "from IPython.core.display import display, Image\n",
    "from selenium import webdriver\n",
    "from selenium.webdriver.chrome.options import Options\n",
    "from selenium.common.exceptions import NoSuchElementException\n",
    "\n",
    "options = Options()\n",
    "options.headless = True\n",
    "b = webdriver.Chrome(options=options, executable_path=\"chromium.chromedriver\")\n",
    "\n",
    "def show_screen():\n",
    "    b.save_screenshot(\"screen.png\")\n",
    "    display(Image(\"screen.png\"))"
   ]
  },
  {
   "cell_type": "markdown",
   "id": "9d7a081c",
   "metadata": {},
   "source": [
    "# Demo: BFS on pages"
   ]
  },
  {
   "cell_type": "code",
   "execution_count": 20,
   "id": "b060ea1a",
   "metadata": {},
   "outputs": [],
   "source": [
    "b.set_window_size(300, 200)\n",
    "start_url = \"https://tyler.caraza-harter.com/cs320/crawl/practice3/4.html\""
   ]
  },
  {
   "cell_type": "code",
   "execution_count": 21,
   "id": "675225ae",
   "metadata": {
    "scrolled": false
   },
   "outputs": [
    {
     "name": "stdout",
     "output_type": "stream",
     "text": [
      "https://tyler.caraza-harter.com/cs320/crawl/practice3/4.html\n"
     ]
    },
    {
     "data": {
      "image/png": "[encoded data removed]",
      "text/plain": [
       "<IPython.core.display.Image object>"
      ]
     },
     "metadata": {},
     "output_type": "display_data"
    },
    {
     "data": {
      "image/svg+xml": [
       "<?xml version=\"1.0\" encoding=\"UTF-8\" standalone=\"no\"?>\n",
       "<!DOCTYPE svg PUBLIC \"-//W3C//DTD SVG 1.1//EN\"\n",
       " \"http://www.w3.org/Graphics/SVG/1.1/DTD/svg11.dtd\">\n",
       "<!-- Generated by graphviz version 2.43.0 (0)\n",
       " -->\n",
       "<!-- Title: %3 Pages: 1 -->\n",
       "<svg width=\"290pt\" height=\"116pt\"\n",
       " viewBox=\"0.00 0.00 289.89 116.00\" xmlns=\"http://www.w3.org/2000/svg\" xmlns:xlink=\"http://www.w3.org/1999/xlink\">\n",
       "<g id=\"graph0\" class=\"graph\" transform=\"scale(1 1) rotate(0) translate(4 112)\">\n",
       "<title>%3</title>\n",
       "<polygon fill=\"white\" stroke=\"transparent\" points=\"-4,4 -4,-112 285.89,-112 285.89,4 -4,4\"/>\n",
       "<!-- 4.html -->\n",
       "<g id=\"node1\" class=\"node\">\n",
       "<title>4.html</title>\n",
       "<ellipse fill=\"none\" stroke=\"black\" cx=\"140.95\" cy=\"-90\" rx=\"40.89\" ry=\"18\"/>\n",
       "<text text-anchor=\"middle\" x=\"140.95\" y=\"-86.3\" font-family=\"Times,serif\" font-size=\"14.00\">4.html</text>\n",
       "</g>\n",
       "<!-- 4.html&#45;&gt;4.html -->\n",
       "<g id=\"edge1\" class=\"edge\">\n",
       "<title>4.html&#45;&gt;4.html</title>\n",
       "<path fill=\"none\" stroke=\"black\" d=\"M169.76,-102.9C185.49,-105.2 199.89,-100.9 199.89,-90 199.89,-81.49 191.1,-77 179.75,-76.54\"/>\n",
       "<polygon fill=\"black\" stroke=\"black\" points=\"179.55,-73.05 169.76,-77.1 179.94,-80.03 179.55,-73.05\"/>\n",
       "</g>\n",
       "<!-- 3.html -->\n",
       "<g id=\"node2\" class=\"node\">\n",
       "<title>3.html</title>\n",
       "<ellipse fill=\"none\" stroke=\"black\" cx=\"40.95\" cy=\"-18\" rx=\"40.89\" ry=\"18\"/>\n",
       "<text text-anchor=\"middle\" x=\"40.95\" y=\"-14.3\" font-family=\"Times,serif\" font-size=\"14.00\">3.html</text>\n",
       "</g>\n",
       "<!-- 4.html&#45;&gt;3.html -->\n",
       "<g id=\"edge2\" class=\"edge\">\n",
       "<title>4.html&#45;&gt;3.html</title>\n",
       "<path fill=\"none\" stroke=\"black\" d=\"M119.74,-74.15C105.32,-64.06 86.06,-50.58 70.2,-39.47\"/>\n",
       "<polygon fill=\"black\" stroke=\"black\" points=\"71.98,-36.45 61.78,-33.58 67.97,-42.19 71.98,-36.45\"/>\n",
       "</g>\n",
       "<!-- 6.html -->\n",
       "<g id=\"node3\" class=\"node\">\n",
       "<title>6.html</title>\n",
       "<ellipse fill=\"none\" stroke=\"black\" cx=\"140.95\" cy=\"-18\" rx=\"40.89\" ry=\"18\"/>\n",
       "<text text-anchor=\"middle\" x=\"140.95\" y=\"-14.3\" font-family=\"Times,serif\" font-size=\"14.00\">6.html</text>\n",
       "</g>\n",
       "<!-- 4.html&#45;&gt;6.html -->\n",
       "<g id=\"edge3\" class=\"edge\">\n",
       "<title>4.html&#45;&gt;6.html</title>\n",
       "<path fill=\"none\" stroke=\"black\" d=\"M140.95,-71.7C140.95,-63.98 140.95,-54.71 140.95,-46.11\"/>\n",
       "<polygon fill=\"black\" stroke=\"black\" points=\"144.45,-46.1 140.95,-36.1 137.45,-46.1 144.45,-46.1\"/>\n",
       "</g>\n",
       "<!-- 5.html -->\n",
       "<g id=\"node4\" class=\"node\">\n",
       "<title>5.html</title>\n",
       "<ellipse fill=\"none\" stroke=\"black\" cx=\"240.95\" cy=\"-18\" rx=\"40.89\" ry=\"18\"/>\n",
       "<text text-anchor=\"middle\" x=\"240.95\" y=\"-14.3\" font-family=\"Times,serif\" font-size=\"14.00\">5.html</text>\n",
       "</g>\n",
       "<!-- 4.html&#45;&gt;5.html -->\n",
       "<g id=\"edge4\" class=\"edge\">\n",
       "<title>4.html&#45;&gt;5.html</title>\n",
       "<path fill=\"none\" stroke=\"black\" d=\"M162.15,-74.15C176.57,-64.06 195.83,-50.58 211.7,-39.47\"/>\n",
       "<polygon fill=\"black\" stroke=\"black\" points=\"213.93,-42.19 220.11,-33.58 209.91,-36.45 213.93,-42.19\"/>\n",
       "</g>\n",
       "</g>\n",
       "</svg>\n"
      ],
      "text/plain": [
       "<graphviz.dot.Digraph at 0x7f5294171040>"
      ]
     },
     "metadata": {},
     "output_type": "display_data"
    },
    {
     "name": "stdout",
     "output_type": "stream",
     "text": [
      "https://tyler.caraza-harter.com/cs320/crawl/practice3/3.html\n"
     ]
    },
    {
     "data": {
      "image/png": "[encoded data removed]",
      "text/plain": [
       "<IPython.core.display.Image object>"
      ]
     },
     "metadata": {},
     "output_type": "display_data"
    },
    {
     "data": {
      "image/svg+xml": [
       "<?xml version=\"1.0\" encoding=\"UTF-8\" standalone=\"no\"?>\n",
       "<!DOCTYPE svg PUBLIC \"-//W3C//DTD SVG 1.1//EN\"\n",
       " \"http://www.w3.org/Graphics/SVG/1.1/DTD/svg11.dtd\">\n",
       "<!-- Generated by graphviz version 2.43.0 (0)\n",
       " -->\n",
       "<!-- Title: %3 Pages: 1 -->\n",
       "<svg width=\"208pt\" height=\"188pt\"\n",
       " viewBox=\"0.00 0.00 207.89 188.00\" xmlns=\"http://www.w3.org/2000/svg\" xmlns:xlink=\"http://www.w3.org/1999/xlink\">\n",
       "<g id=\"graph0\" class=\"graph\" transform=\"scale(1 1) rotate(0) translate(4 184)\">\n",
       "<title>%3</title>\n",
       "<polygon fill=\"white\" stroke=\"transparent\" points=\"-4,4 -4,-184 203.89,-184 203.89,4 -4,4\"/>\n",
       "<!-- 4.html -->\n",
       "<g id=\"node1\" class=\"node\">\n",
       "<title>4.html</title>\n",
       "<ellipse fill=\"none\" stroke=\"black\" cx=\"140.95\" cy=\"-162\" rx=\"40.89\" ry=\"18\"/>\n",
       "<text text-anchor=\"middle\" x=\"140.95\" y=\"-158.3\" font-family=\"Times,serif\" font-size=\"14.00\">4.html</text>\n",
       "</g>\n",
       "<!-- 4.html&#45;&gt;4.html -->\n",
       "<g id=\"edge1\" class=\"edge\">\n",
       "<title>4.html&#45;&gt;4.html</title>\n",
       "<path fill=\"none\" stroke=\"black\" d=\"M169.76,-174.9C185.49,-177.2 199.89,-172.9 199.89,-162 199.89,-153.49 191.1,-149 179.75,-148.54\"/>\n",
       "<polygon fill=\"black\" stroke=\"black\" points=\"179.55,-145.05 169.76,-149.1 179.94,-152.03 179.55,-145.05\"/>\n",
       "</g>\n",
       "<!-- 3.html -->\n",
       "<g id=\"node2\" class=\"node\">\n",
       "<title>3.html</title>\n",
       "<ellipse fill=\"none\" stroke=\"black\" cx=\"40.95\" cy=\"-90\" rx=\"40.89\" ry=\"18\"/>\n",
       "<text text-anchor=\"middle\" x=\"40.95\" y=\"-86.3\" font-family=\"Times,serif\" font-size=\"14.00\">3.html</text>\n",
       "</g>\n",
       "<!-- 4.html&#45;&gt;3.html -->\n",
       "<g id=\"edge2\" class=\"edge\">\n",
       "<title>4.html&#45;&gt;3.html</title>\n",
       "<path fill=\"none\" stroke=\"black\" d=\"M119.74,-146.15C105.32,-136.06 86.06,-122.58 70.2,-111.47\"/>\n",
       "<polygon fill=\"black\" stroke=\"black\" points=\"71.98,-108.45 61.78,-105.58 67.97,-114.19 71.98,-108.45\"/>\n",
       "</g>\n",
       "<!-- 6.html -->\n",
       "<g id=\"node3\" class=\"node\">\n",
       "<title>6.html</title>\n",
       "<ellipse fill=\"none\" stroke=\"black\" cx=\"140.95\" cy=\"-90\" rx=\"40.89\" ry=\"18\"/>\n",
       "<text text-anchor=\"middle\" x=\"140.95\" y=\"-86.3\" font-family=\"Times,serif\" font-size=\"14.00\">6.html</text>\n",
       "</g>\n",
       "<!-- 4.html&#45;&gt;6.html -->\n",
       "<g id=\"edge3\" class=\"edge\">\n",
       "<title>4.html&#45;&gt;6.html</title>\n",
       "<path fill=\"none\" stroke=\"black\" d=\"M140.95,-143.7C140.95,-135.98 140.95,-126.71 140.95,-118.11\"/>\n",
       "<polygon fill=\"black\" stroke=\"black\" points=\"144.45,-118.1 140.95,-108.1 137.45,-118.1 144.45,-118.1\"/>\n",
       "</g>\n",
       "<!-- 5.html -->\n",
       "<g id=\"node4\" class=\"node\">\n",
       "<title>5.html</title>\n",
       "<ellipse fill=\"none\" stroke=\"black\" cx=\"124.95\" cy=\"-18\" rx=\"40.89\" ry=\"18\"/>\n",
       "<text text-anchor=\"middle\" x=\"124.95\" y=\"-14.3\" font-family=\"Times,serif\" font-size=\"14.00\">5.html</text>\n",
       "</g>\n",
       "<!-- 4.html&#45;&gt;5.html -->\n",
       "<g id=\"edge4\" class=\"edge\">\n",
       "<title>4.html&#45;&gt;5.html</title>\n",
       "<path fill=\"none\" stroke=\"black\" d=\"M160.95,-146.23C172.08,-136.71 184.88,-123.28 190.95,-108 196.85,-93.13 197.86,-86.43 190.95,-72 184.18,-57.9 171.64,-46.36 159.28,-37.69\"/>\n",
       "<polygon fill=\"black\" stroke=\"black\" points=\"161.12,-34.71 150.83,-32.15 157.28,-40.56 161.12,-34.71\"/>\n",
       "</g>\n",
       "<!-- 3.html&#45;&gt;5.html -->\n",
       "<g id=\"edge5\" class=\"edge\">\n",
       "<title>3.html&#45;&gt;5.html</title>\n",
       "<path fill=\"none\" stroke=\"black\" d=\"M59.17,-73.81C70.73,-64.18 85.87,-51.56 98.71,-40.86\"/>\n",
       "<polygon fill=\"black\" stroke=\"black\" points=\"101.31,-43.25 106.76,-34.16 96.83,-37.87 101.31,-43.25\"/>\n",
       "</g>\n",
       "</g>\n",
       "</svg>\n"
      ],
      "text/plain": [
       "<graphviz.dot.Digraph at 0x7f5294171040>"
      ]
     },
     "metadata": {},
     "output_type": "display_data"
    },
    {
     "name": "stdout",
     "output_type": "stream",
     "text": [
      "https://tyler.caraza-harter.com/cs320/crawl/practice3/6.html\n"
     ]
    },
    {
     "data": {
      "image/png": "[encoded data removed]",
      "text/plain": [
       "<IPython.core.display.Image object>"
      ]
     },
     "metadata": {},
     "output_type": "display_data"
    },
    {
     "data": {
      "image/svg+xml": [
       "<?xml version=\"1.0\" encoding=\"UTF-8\" standalone=\"no\"?>\n",
       "<!DOCTYPE svg PUBLIC \"-//W3C//DTD SVG 1.1//EN\"\n",
       " \"http://www.w3.org/Graphics/SVG/1.1/DTD/svg11.dtd\">\n",
       "<!-- Generated by graphviz version 2.43.0 (0)\n",
       " -->\n",
       "<!-- Title: %3 Pages: 1 -->\n",
       "<svg width=\"208pt\" height=\"188pt\"\n",
       " viewBox=\"0.00 0.00 207.89 188.00\" xmlns=\"http://www.w3.org/2000/svg\" xmlns:xlink=\"http://www.w3.org/1999/xlink\">\n",
       "<g id=\"graph0\" class=\"graph\" transform=\"scale(1 1) rotate(0) translate(4 184)\">\n",
       "<title>%3</title>\n",
       "<polygon fill=\"white\" stroke=\"transparent\" points=\"-4,4 -4,-184 203.89,-184 203.89,4 -4,4\"/>\n",
       "<!-- 4.html -->\n",
       "<g id=\"node1\" class=\"node\">\n",
       "<title>4.html</title>\n",
       "<ellipse fill=\"none\" stroke=\"black\" cx=\"140.95\" cy=\"-162\" rx=\"40.89\" ry=\"18\"/>\n",
       "<text text-anchor=\"middle\" x=\"140.95\" y=\"-158.3\" font-family=\"Times,serif\" font-size=\"14.00\">4.html</text>\n",
       "</g>\n",
       "<!-- 4.html&#45;&gt;4.html -->\n",
       "<g id=\"edge1\" class=\"edge\">\n",
       "<title>4.html&#45;&gt;4.html</title>\n",
       "<path fill=\"none\" stroke=\"black\" d=\"M169.76,-174.9C185.49,-177.2 199.89,-172.9 199.89,-162 199.89,-153.49 191.1,-149 179.75,-148.54\"/>\n",
       "<polygon fill=\"black\" stroke=\"black\" points=\"179.55,-145.05 169.76,-149.1 179.94,-152.03 179.55,-145.05\"/>\n",
       "</g>\n",
       "<!-- 3.html -->\n",
       "<g id=\"node2\" class=\"node\">\n",
       "<title>3.html</title>\n",
       "<ellipse fill=\"none\" stroke=\"black\" cx=\"40.95\" cy=\"-90\" rx=\"40.89\" ry=\"18\"/>\n",
       "<text text-anchor=\"middle\" x=\"40.95\" y=\"-86.3\" font-family=\"Times,serif\" font-size=\"14.00\">3.html</text>\n",
       "</g>\n",
       "<!-- 4.html&#45;&gt;3.html -->\n",
       "<g id=\"edge2\" class=\"edge\">\n",
       "<title>4.html&#45;&gt;3.html</title>\n",
       "<path fill=\"none\" stroke=\"black\" d=\"M119.74,-146.15C105.32,-136.06 86.06,-122.58 70.2,-111.47\"/>\n",
       "<polygon fill=\"black\" stroke=\"black\" points=\"71.98,-108.45 61.78,-105.58 67.97,-114.19 71.98,-108.45\"/>\n",
       "</g>\n",
       "<!-- 6.html -->\n",
       "<g id=\"node3\" class=\"node\">\n",
       "<title>6.html</title>\n",
       "<ellipse fill=\"none\" stroke=\"black\" cx=\"140.95\" cy=\"-90\" rx=\"40.89\" ry=\"18\"/>\n",
       "<text text-anchor=\"middle\" x=\"140.95\" y=\"-86.3\" font-family=\"Times,serif\" font-size=\"14.00\">6.html</text>\n",
       "</g>\n",
       "<!-- 4.html&#45;&gt;6.html -->\n",
       "<g id=\"edge3\" class=\"edge\">\n",
       "<title>4.html&#45;&gt;6.html</title>\n",
       "<path fill=\"none\" stroke=\"black\" d=\"M140.95,-143.7C140.95,-135.98 140.95,-126.71 140.95,-118.11\"/>\n",
       "<polygon fill=\"black\" stroke=\"black\" points=\"144.45,-118.1 140.95,-108.1 137.45,-118.1 144.45,-118.1\"/>\n",
       "</g>\n",
       "<!-- 5.html -->\n",
       "<g id=\"node4\" class=\"node\">\n",
       "<title>5.html</title>\n",
       "<ellipse fill=\"none\" stroke=\"black\" cx=\"140.95\" cy=\"-18\" rx=\"40.89\" ry=\"18\"/>\n",
       "<text text-anchor=\"middle\" x=\"140.95\" y=\"-14.3\" font-family=\"Times,serif\" font-size=\"14.00\">5.html</text>\n",
       "</g>\n",
       "<!-- 4.html&#45;&gt;5.html -->\n",
       "<g id=\"edge4\" class=\"edge\">\n",
       "<title>4.html&#45;&gt;5.html</title>\n",
       "<path fill=\"none\" stroke=\"black\" d=\"M160.95,-146.23C172.08,-136.71 184.88,-123.28 190.95,-108 196.85,-93.13 196.85,-86.87 190.95,-72 186.2,-60.06 177.35,-49.25 168.4,-40.56\"/>\n",
       "<polygon fill=\"black\" stroke=\"black\" points=\"170.7,-37.91 160.95,-33.77 165.99,-43.09 170.7,-37.91\"/>\n",
       "</g>\n",
       "<!-- 3.html&#45;&gt;5.html -->\n",
       "<g id=\"edge5\" class=\"edge\">\n",
       "<title>3.html&#45;&gt;5.html</title>\n",
       "<path fill=\"none\" stroke=\"black\" d=\"M62.15,-74.15C76.57,-64.06 95.83,-50.58 111.7,-39.47\"/>\n",
       "<polygon fill=\"black\" stroke=\"black\" points=\"113.93,-42.19 120.11,-33.58 109.91,-36.45 113.93,-42.19\"/>\n",
       "</g>\n",
       "<!-- 6.html&#45;&gt;5.html -->\n",
       "<g id=\"edge6\" class=\"edge\">\n",
       "<title>6.html&#45;&gt;5.html</title>\n",
       "<path fill=\"none\" stroke=\"black\" d=\"M140.95,-71.7C140.95,-63.98 140.95,-54.71 140.95,-46.11\"/>\n",
       "<polygon fill=\"black\" stroke=\"black\" points=\"144.45,-46.1 140.95,-36.1 137.45,-46.1 144.45,-46.1\"/>\n",
       "</g>\n",
       "</g>\n",
       "</svg>\n"
      ],
      "text/plain": [
       "<graphviz.dot.Digraph at 0x7f5294171040>"
      ]
     },
     "metadata": {},
     "output_type": "display_data"
    },
    {
     "name": "stdout",
     "output_type": "stream",
     "text": [
      "https://tyler.caraza-harter.com/cs320/crawl/practice3/5.html\n"
     ]
    },
    {
     "data": {
      "image/png": "[encoded data removed]",
      "text/plain": [
       "<IPython.core.display.Image object>"
      ]
     },
     "metadata": {},
     "output_type": "display_data"
    },
    {
     "data": {
      "image/svg+xml": [
       "<?xml version=\"1.0\" encoding=\"UTF-8\" standalone=\"no\"?>\n",
       "<!DOCTYPE svg PUBLIC \"-//W3C//DTD SVG 1.1//EN\"\n",
       " \"http://www.w3.org/Graphics/SVG/1.1/DTD/svg11.dtd\">\n",
       "<!-- Generated by graphviz version 2.43.0 (0)\n",
       " -->\n",
       "<!-- Title: %3 Pages: 1 -->\n",
       "<svg width=\"208pt\" height=\"260pt\"\n",
       " viewBox=\"0.00 0.00 207.89 260.00\" xmlns=\"http://www.w3.org/2000/svg\" xmlns:xlink=\"http://www.w3.org/1999/xlink\">\n",
       "<g id=\"graph0\" class=\"graph\" transform=\"scale(1 1) rotate(0) translate(4 256)\">\n",
       "<title>%3</title>\n",
       "<polygon fill=\"white\" stroke=\"transparent\" points=\"-4,4 -4,-256 203.89,-256 203.89,4 -4,4\"/>\n",
       "<!-- 4.html -->\n",
       "<g id=\"node1\" class=\"node\">\n",
       "<title>4.html</title>\n",
       "<ellipse fill=\"none\" stroke=\"black\" cx=\"140.95\" cy=\"-234\" rx=\"40.89\" ry=\"18\"/>\n",
       "<text text-anchor=\"middle\" x=\"140.95\" y=\"-230.3\" font-family=\"Times,serif\" font-size=\"14.00\">4.html</text>\n",
       "</g>\n",
       "<!-- 4.html&#45;&gt;4.html -->\n",
       "<g id=\"edge1\" class=\"edge\">\n",
       "<title>4.html&#45;&gt;4.html</title>\n",
       "<path fill=\"none\" stroke=\"black\" d=\"M169.76,-246.9C185.49,-249.2 199.89,-244.9 199.89,-234 199.89,-225.49 191.1,-221 179.75,-220.54\"/>\n",
       "<polygon fill=\"black\" stroke=\"black\" points=\"179.55,-217.05 169.76,-221.1 179.94,-224.03 179.55,-217.05\"/>\n",
       "</g>\n",
       "<!-- 3.html -->\n",
       "<g id=\"node2\" class=\"node\">\n",
       "<title>3.html</title>\n",
       "<ellipse fill=\"none\" stroke=\"black\" cx=\"40.95\" cy=\"-162\" rx=\"40.89\" ry=\"18\"/>\n",
       "<text text-anchor=\"middle\" x=\"40.95\" y=\"-158.3\" font-family=\"Times,serif\" font-size=\"14.00\">3.html</text>\n",
       "</g>\n",
       "<!-- 4.html&#45;&gt;3.html -->\n",
       "<g id=\"edge2\" class=\"edge\">\n",
       "<title>4.html&#45;&gt;3.html</title>\n",
       "<path fill=\"none\" stroke=\"black\" d=\"M119.74,-218.15C105.32,-208.06 86.06,-194.58 70.2,-183.47\"/>\n",
       "<polygon fill=\"black\" stroke=\"black\" points=\"71.98,-180.45 61.78,-177.58 67.97,-186.19 71.98,-180.45\"/>\n",
       "</g>\n",
       "<!-- 6.html -->\n",
       "<g id=\"node3\" class=\"node\">\n",
       "<title>6.html</title>\n",
       "<ellipse fill=\"none\" stroke=\"black\" cx=\"140.95\" cy=\"-162\" rx=\"40.89\" ry=\"18\"/>\n",
       "<text text-anchor=\"middle\" x=\"140.95\" y=\"-158.3\" font-family=\"Times,serif\" font-size=\"14.00\">6.html</text>\n",
       "</g>\n",
       "<!-- 4.html&#45;&gt;6.html -->\n",
       "<g id=\"edge3\" class=\"edge\">\n",
       "<title>4.html&#45;&gt;6.html</title>\n",
       "<path fill=\"none\" stroke=\"black\" d=\"M140.95,-215.7C140.95,-207.98 140.95,-198.71 140.95,-190.11\"/>\n",
       "<polygon fill=\"black\" stroke=\"black\" points=\"144.45,-190.1 140.95,-180.1 137.45,-190.1 144.45,-190.1\"/>\n",
       "</g>\n",
       "<!-- 5.html -->\n",
       "<g id=\"node4\" class=\"node\">\n",
       "<title>5.html</title>\n",
       "<ellipse fill=\"none\" stroke=\"black\" cx=\"140.95\" cy=\"-90\" rx=\"40.89\" ry=\"18\"/>\n",
       "<text text-anchor=\"middle\" x=\"140.95\" y=\"-86.3\" font-family=\"Times,serif\" font-size=\"14.00\">5.html</text>\n",
       "</g>\n",
       "<!-- 4.html&#45;&gt;5.html -->\n",
       "<g id=\"edge4\" class=\"edge\">\n",
       "<title>4.html&#45;&gt;5.html</title>\n",
       "<path fill=\"none\" stroke=\"black\" d=\"M160.95,-218.23C172.08,-208.71 184.88,-195.28 190.95,-180 196.85,-165.13 196.85,-158.87 190.95,-144 186.2,-132.06 177.35,-121.25 168.4,-112.56\"/>\n",
       "<polygon fill=\"black\" stroke=\"black\" points=\"170.7,-109.91 160.95,-105.77 165.99,-115.09 170.7,-109.91\"/>\n",
       "</g>\n",
       "<!-- 3.html&#45;&gt;5.html -->\n",
       "<g id=\"edge5\" class=\"edge\">\n",
       "<title>3.html&#45;&gt;5.html</title>\n",
       "<path fill=\"none\" stroke=\"black\" d=\"M62.15,-146.15C76.57,-136.06 95.83,-122.58 111.7,-111.47\"/>\n",
       "<polygon fill=\"black\" stroke=\"black\" points=\"113.93,-114.19 120.11,-105.58 109.91,-108.45 113.93,-114.19\"/>\n",
       "</g>\n",
       "<!-- 6.html&#45;&gt;5.html -->\n",
       "<g id=\"edge6\" class=\"edge\">\n",
       "<title>6.html&#45;&gt;5.html</title>\n",
       "<path fill=\"none\" stroke=\"black\" d=\"M140.95,-143.7C140.95,-135.98 140.95,-126.71 140.95,-118.11\"/>\n",
       "<polygon fill=\"black\" stroke=\"black\" points=\"144.45,-118.1 140.95,-108.1 137.45,-118.1 144.45,-118.1\"/>\n",
       "</g>\n",
       "<!-- 7.html -->\n",
       "<g id=\"node5\" class=\"node\">\n",
       "<title>7.html</title>\n",
       "<ellipse fill=\"none\" stroke=\"black\" cx=\"140.95\" cy=\"-18\" rx=\"40.89\" ry=\"18\"/>\n",
       "<text text-anchor=\"middle\" x=\"140.95\" y=\"-14.3\" font-family=\"Times,serif\" font-size=\"14.00\">7.html</text>\n",
       "</g>\n",
       "<!-- 5.html&#45;&gt;7.html -->\n",
       "<g id=\"edge7\" class=\"edge\">\n",
       "<title>5.html&#45;&gt;7.html</title>\n",
       "<path fill=\"none\" stroke=\"black\" d=\"M140.95,-71.7C140.95,-63.98 140.95,-54.71 140.95,-46.11\"/>\n",
       "<polygon fill=\"black\" stroke=\"black\" points=\"144.45,-46.1 140.95,-36.1 137.45,-46.1 144.45,-46.1\"/>\n",
       "</g>\n",
       "</g>\n",
       "</svg>\n"
      ],
      "text/plain": [
       "<graphviz.dot.Digraph at 0x7f5294171040>"
      ]
     },
     "metadata": {},
     "output_type": "display_data"
    },
    {
     "name": "stdout",
     "output_type": "stream",
     "text": [
      "https://tyler.caraza-harter.com/cs320/crawl/practice3/7.html\n"
     ]
    },
    {
     "data": {
      "image/png": "[encoded data removed]",
      "text/plain": [
       "<IPython.core.display.Image object>"
      ]
     },
     "metadata": {},
     "output_type": "display_data"
    },
    {
     "data": {
      "image/svg+xml": [
       "<?xml version=\"1.0\" encoding=\"UTF-8\" standalone=\"no\"?>\n",
       "<!DOCTYPE svg PUBLIC \"-//W3C//DTD SVG 1.1//EN\"\n",
       " \"http://www.w3.org/Graphics/SVG/1.1/DTD/svg11.dtd\">\n",
       "<!-- Generated by graphviz version 2.43.0 (0)\n",
       " -->\n",
       "<!-- Title: %3 Pages: 1 -->\n",
       "<svg width=\"208pt\" height=\"260pt\"\n",
       " viewBox=\"0.00 0.00 207.89 260.00\" xmlns=\"http://www.w3.org/2000/svg\" xmlns:xlink=\"http://www.w3.org/1999/xlink\">\n",
       "<g id=\"graph0\" class=\"graph\" transform=\"scale(1 1) rotate(0) translate(4 256)\">\n",
       "<title>%3</title>\n",
       "<polygon fill=\"white\" stroke=\"transparent\" points=\"-4,4 -4,-256 203.89,-256 203.89,4 -4,4\"/>\n",
       "<!-- 4.html -->\n",
       "<g id=\"node1\" class=\"node\">\n",
       "<title>4.html</title>\n",
       "<ellipse fill=\"none\" stroke=\"black\" cx=\"140.95\" cy=\"-234\" rx=\"40.89\" ry=\"18\"/>\n",
       "<text text-anchor=\"middle\" x=\"140.95\" y=\"-230.3\" font-family=\"Times,serif\" font-size=\"14.00\">4.html</text>\n",
       "</g>\n",
       "<!-- 4.html&#45;&gt;4.html -->\n",
       "<g id=\"edge1\" class=\"edge\">\n",
       "<title>4.html&#45;&gt;4.html</title>\n",
       "<path fill=\"none\" stroke=\"black\" d=\"M169.76,-246.9C185.49,-249.2 199.89,-244.9 199.89,-234 199.89,-225.49 191.1,-221 179.75,-220.54\"/>\n",
       "<polygon fill=\"black\" stroke=\"black\" points=\"179.55,-217.05 169.76,-221.1 179.94,-224.03 179.55,-217.05\"/>\n",
       "</g>\n",
       "<!-- 3.html -->\n",
       "<g id=\"node2\" class=\"node\">\n",
       "<title>3.html</title>\n",
       "<ellipse fill=\"none\" stroke=\"black\" cx=\"40.95\" cy=\"-162\" rx=\"40.89\" ry=\"18\"/>\n",
       "<text text-anchor=\"middle\" x=\"40.95\" y=\"-158.3\" font-family=\"Times,serif\" font-size=\"14.00\">3.html</text>\n",
       "</g>\n",
       "<!-- 4.html&#45;&gt;3.html -->\n",
       "<g id=\"edge2\" class=\"edge\">\n",
       "<title>4.html&#45;&gt;3.html</title>\n",
       "<path fill=\"none\" stroke=\"black\" d=\"M119.74,-218.15C105.32,-208.06 86.06,-194.58 70.2,-183.47\"/>\n",
       "<polygon fill=\"black\" stroke=\"black\" points=\"71.98,-180.45 61.78,-177.58 67.97,-186.19 71.98,-180.45\"/>\n",
       "</g>\n",
       "<!-- 6.html -->\n",
       "<g id=\"node3\" class=\"node\">\n",
       "<title>6.html</title>\n",
       "<ellipse fill=\"none\" stroke=\"black\" cx=\"140.95\" cy=\"-162\" rx=\"40.89\" ry=\"18\"/>\n",
       "<text text-anchor=\"middle\" x=\"140.95\" y=\"-158.3\" font-family=\"Times,serif\" font-size=\"14.00\">6.html</text>\n",
       "</g>\n",
       "<!-- 4.html&#45;&gt;6.html -->\n",
       "<g id=\"edge3\" class=\"edge\">\n",
       "<title>4.html&#45;&gt;6.html</title>\n",
       "<path fill=\"none\" stroke=\"black\" d=\"M140.95,-215.7C140.95,-207.98 140.95,-198.71 140.95,-190.11\"/>\n",
       "<polygon fill=\"black\" stroke=\"black\" points=\"144.45,-190.1 140.95,-180.1 137.45,-190.1 144.45,-190.1\"/>\n",
       "</g>\n",
       "<!-- 5.html -->\n",
       "<g id=\"node4\" class=\"node\">\n",
       "<title>5.html</title>\n",
       "<ellipse fill=\"none\" stroke=\"black\" cx=\"140.95\" cy=\"-90\" rx=\"40.89\" ry=\"18\"/>\n",
       "<text text-anchor=\"middle\" x=\"140.95\" y=\"-86.3\" font-family=\"Times,serif\" font-size=\"14.00\">5.html</text>\n",
       "</g>\n",
       "<!-- 4.html&#45;&gt;5.html -->\n",
       "<g id=\"edge4\" class=\"edge\">\n",
       "<title>4.html&#45;&gt;5.html</title>\n",
       "<path fill=\"none\" stroke=\"black\" d=\"M160.95,-218.23C172.08,-208.71 184.88,-195.28 190.95,-180 196.85,-165.13 196.85,-158.87 190.95,-144 186.2,-132.06 177.35,-121.25 168.4,-112.56\"/>\n",
       "<polygon fill=\"black\" stroke=\"black\" points=\"170.7,-109.91 160.95,-105.77 165.99,-115.09 170.7,-109.91\"/>\n",
       "</g>\n",
       "<!-- 3.html&#45;&gt;5.html -->\n",
       "<g id=\"edge5\" class=\"edge\">\n",
       "<title>3.html&#45;&gt;5.html</title>\n",
       "<path fill=\"none\" stroke=\"black\" d=\"M62.15,-146.15C76.57,-136.06 95.83,-122.58 111.7,-111.47\"/>\n",
       "<polygon fill=\"black\" stroke=\"black\" points=\"113.93,-114.19 120.11,-105.58 109.91,-108.45 113.93,-114.19\"/>\n",
       "</g>\n",
       "<!-- 6.html&#45;&gt;5.html -->\n",
       "<g id=\"edge6\" class=\"edge\">\n",
       "<title>6.html&#45;&gt;5.html</title>\n",
       "<path fill=\"none\" stroke=\"black\" d=\"M140.95,-143.7C140.95,-135.98 140.95,-126.71 140.95,-118.11\"/>\n",
       "<polygon fill=\"black\" stroke=\"black\" points=\"144.45,-118.1 140.95,-108.1 137.45,-118.1 144.45,-118.1\"/>\n",
       "</g>\n",
       "<!-- 7.html -->\n",
       "<g id=\"node5\" class=\"node\">\n",
       "<title>7.html</title>\n",
       "<ellipse fill=\"none\" stroke=\"black\" cx=\"140.95\" cy=\"-18\" rx=\"40.89\" ry=\"18\"/>\n",
       "<text text-anchor=\"middle\" x=\"140.95\" y=\"-14.3\" font-family=\"Times,serif\" font-size=\"14.00\">7.html</text>\n",
       "</g>\n",
       "<!-- 5.html&#45;&gt;7.html -->\n",
       "<g id=\"edge7\" class=\"edge\">\n",
       "<title>5.html&#45;&gt;7.html</title>\n",
       "<path fill=\"none\" stroke=\"black\" d=\"M140.95,-71.7C140.95,-63.98 140.95,-54.71 140.95,-46.11\"/>\n",
       "<polygon fill=\"black\" stroke=\"black\" points=\"144.45,-46.1 140.95,-36.1 137.45,-46.1 144.45,-46.1\"/>\n",
       "</g>\n",
       "</g>\n",
       "</svg>\n"
      ],
      "text/plain": [
       "<graphviz.dot.Digraph at 0x7f5294171040>"
      ]
     },
     "metadata": {},
     "output_type": "display_data"
    }
   ],
   "source": [
    "from collections import deque\n",
    "from graphviz import Graph, Digraph\n",
    "from IPython.core.display import display\n",
    "\n",
    "# BFS\n",
    "visit_todo = deque([start_url])\n",
    "added = set([start_url])\n",
    "\n",
    "gv = Digraph()\n",
    "\n",
    "while len(visit_todo) > 0: # while there's work...\n",
    "    # 1. do the work\n",
    "    url = visit_todo.popleft()\n",
    "    print(url)\n",
    "    b.get(url)\n",
    "    show_screen()\n",
    "    \n",
    "    gv.node(url.split(\"/\")[-1])\n",
    "    \n",
    "    # 2. note down new work discovered\n",
    "    links = b.find_elements_by_tag_name(\"a\")\n",
    "    for child in links:\n",
    "        new_url = child.get_attribute(\"href\")\n",
    "        gv.edge(url.split(\"/\")[-1],\n",
    "                new_url.split(\"/\")[-1])\n",
    "        if new_url not in added:\n",
    "            visit_todo.append(new_url)\n",
    "            added.add(new_url)\n",
    "\n",
    "    display(gv)"
   ]
  },
  {
   "cell_type": "code",
   "execution_count": 5,
   "id": "759a4a52",
   "metadata": {},
   "outputs": [],
   "source": [
    "b.close()"
   ]
  },
  {
   "cell_type": "code",
   "execution_count": null,
   "id": "38ec26e1",
   "metadata": {},
   "outputs": [],
   "source": []
  }
 ],
 "metadata": {
  "kernelspec": {
   "display_name": "Python 3 (ipykernel)",
   "language": "python",
   "name": "python3"
  },
  "language_info": {
   "codemirror_mode": {
    "name": "ipython",
    "version": 3
   },
   "file_extension": ".py",
   "mimetype": "text/x-python",
   "name": "python",
   "nbconvert_exporter": "python",
   "pygments_lexer": "ipython3",
   "version": "3.8.10"
  }
 },
 "nbformat": 4,
 "nbformat_minor": 5
}
