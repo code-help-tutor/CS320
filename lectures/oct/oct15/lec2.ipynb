{
 "cells": [
  {
   "cell_type": "code",
   "execution_count": 1,
   "id": "cad39865",
   "metadata": {},
   "outputs": [],
   "source": [
    "# code for my VM:\n",
    "# from selenium import webdriver\n",
    "# from selenium.webdriver.chrome.options import Options\n",
    "# from selenium.common.exceptions import NoSuchElementException\n",
    "\n",
    "# options = Options()\n",
    "# options.headless = True\n",
    "# b = webdriver.Chrome(options=options, executable_path=\"chromium.chromedriver\")\n",
    "\n",
    "# for my laptop:\n",
    "from selenium import webdriver\n",
    "from selenium.webdriver.chrome.options import Options\n",
    "from selenium.common.exceptions import NoSuchElementException\n",
    "\n",
    "options = Options()\n",
    "#options.headless = True\n",
    "b = webdriver.Chrome(options=options)"
   ]
  },
  {
   "cell_type": "code",
   "execution_count": 2,
   "id": "c32d478b",
   "metadata": {},
   "outputs": [
    {
     "name": "stdout",
     "output_type": "stream",
     "text": [
      "A\n",
      "B\n"
     ]
    }
   ],
   "source": [
    "import time\n",
    "print(\"A\")\n",
    "time.sleep(3)\n",
    "print(\"B\")"
   ]
  },
  {
   "cell_type": "code",
   "execution_count": 3,
   "id": "b11ef5c2",
   "metadata": {},
   "outputs": [
    {
     "name": "stdout",
     "output_type": "stream",
     "text": [
      "not ready\n",
      "not ready\n",
      "not ready\n",
      "not ready\n",
      "not ready\n",
      "not ready\n",
      "not ready\n",
      "not ready\n",
      "<html><head>\n",
      "    <script src=\"https://code.jquery.com/jquery-3.4.1.js\"></script>\n",
      "    <script>\n",
      "      function addTable() {\n",
      "        var html = \"<table border=1 id='coords'>\\n\";\n",
      "        html += \"<tr><td>\n"
     ]
    }
   ],
   "source": [
    "# STEP 1: get the HTML corresponding to the hidden table\n",
    "url = \"https://tyler.caraza-harter.com/cs320/tricky/page1.html\"\n",
    "b.get(url)\n",
    "\n",
    "def wait_for_element(element_id):\n",
    "    max_seconds = 10\n",
    "    for i in range(max_seconds*10):\n",
    "        time.sleep(0.1)\n",
    "        try:\n",
    "            elem = b.find_element_by_id(element_id)\n",
    "            break\n",
    "        except NoSuchElementException:\n",
    "            print(\"not ready\")\n",
    "\n",
    "wait_for_element(\"coords\")\n",
    "print(b.page_source[:200])"
   ]
  },
  {
   "cell_type": "code",
   "execution_count": 4,
   "id": "5c69a644",
   "metadata": {},
   "outputs": [
    {
     "data": {
      "text/plain": [
       "bs4.BeautifulSoup"
      ]
     },
     "execution_count": 4,
     "metadata": {},
     "output_type": "execute_result"
    }
   ],
   "source": [
    "# step 2: use that HTML\n",
    "from bs4 import BeautifulSoup\n",
    "\n",
    "page = BeautifulSoup(b.page_source, \"html.parser\")\n",
    "type(page)"
   ]
  },
  {
   "cell_type": "code",
   "execution_count": 5,
   "id": "c1b3bac7",
   "metadata": {},
   "outputs": [],
   "source": [
    "# bs methods: .find(), .find_all(), .get_text()\n",
    "tbls = page.find_all(\"table\")\n",
    "assert len(tbls) == 2"
   ]
  },
  {
   "cell_type": "code",
   "execution_count": 6,
   "id": "8f7a7839",
   "metadata": {},
   "outputs": [
    {
     "data": {
      "text/plain": [
       "11"
      ]
     },
     "execution_count": 6,
     "metadata": {},
     "output_type": "execute_result"
    }
   ],
   "source": [
    "tbl = tbls[-1]\n",
    "len(tbl.find_all(\"tr\")) # table row"
   ]
  },
  {
   "cell_type": "code",
   "execution_count": 7,
   "id": "a16b5dbb",
   "metadata": {},
   "outputs": [
    {
     "data": {
      "text/html": [
       "<div>\n",
       "<style scoped>\n",
       "    .dataframe tbody tr th:only-of-type {\n",
       "        vertical-align: middle;\n",
       "    }\n",
       "\n",
       "    .dataframe tbody tr th {\n",
       "        vertical-align: top;\n",
       "    }\n",
       "\n",
       "    .dataframe thead th {\n",
       "        text-align: right;\n",
       "    }\n",
       "</style>\n",
       "<table border=\"1\" class=\"dataframe\">\n",
       "  <thead>\n",
       "    <tr style=\"text-align: right;\">\n",
       "      <th></th>\n",
       "      <th>x</th>\n",
       "      <th>y</th>\n",
       "    </tr>\n",
       "  </thead>\n",
       "  <tbody>\n",
       "    <tr>\n",
       "      <th>0</th>\n",
       "      <td>0</td>\n",
       "      <td>1</td>\n",
       "    </tr>\n",
       "    <tr>\n",
       "      <th>1</th>\n",
       "      <td>2</td>\n",
       "      <td>3</td>\n",
       "    </tr>\n",
       "    <tr>\n",
       "      <th>2</th>\n",
       "      <td>4</td>\n",
       "      <td>5</td>\n",
       "    </tr>\n",
       "    <tr>\n",
       "      <th>3</th>\n",
       "      <td>6</td>\n",
       "      <td>7</td>\n",
       "    </tr>\n",
       "    <tr>\n",
       "      <th>4</th>\n",
       "      <td>8</td>\n",
       "      <td>9</td>\n",
       "    </tr>\n",
       "    <tr>\n",
       "      <th>5</th>\n",
       "      <td>10</td>\n",
       "      <td>11</td>\n",
       "    </tr>\n",
       "    <tr>\n",
       "      <th>6</th>\n",
       "      <td>12</td>\n",
       "      <td>13</td>\n",
       "    </tr>\n",
       "    <tr>\n",
       "      <th>7</th>\n",
       "      <td>14</td>\n",
       "      <td>15</td>\n",
       "    </tr>\n",
       "    <tr>\n",
       "      <th>8</th>\n",
       "      <td>16</td>\n",
       "      <td>17</td>\n",
       "    </tr>\n",
       "    <tr>\n",
       "      <th>9</th>\n",
       "      <td>18</td>\n",
       "      <td>19</td>\n",
       "    </tr>\n",
       "  </tbody>\n",
       "</table>\n",
       "</div>"
      ],
      "text/plain": [
       "    x   y\n",
       "0   0   1\n",
       "1   2   3\n",
       "2   4   5\n",
       "3   6   7\n",
       "4   8   9\n",
       "5  10  11\n",
       "6  12  13\n",
       "7  14  15\n",
       "8  16  17\n",
       "9  18  19"
      ]
     },
     "execution_count": 7,
     "metadata": {},
     "output_type": "execute_result"
    }
   ],
   "source": [
    "import pandas as pd\n",
    "rows = []\n",
    "for tr in tbl.find_all(\"tr\"):\n",
    "    row = [cell.get_text() for cell in tr.find_all(\"td\")]\n",
    "    rows.append(row)\n",
    "pd.DataFrame(rows[1:], columns=rows[0])"
   ]
  },
  {
   "cell_type": "markdown",
   "id": "fa2ab821",
   "metadata": {},
   "source": [
    "# Demo 2"
   ]
  },
  {
   "cell_type": "code",
   "execution_count": 8,
   "id": "f83dfd81",
   "metadata": {},
   "outputs": [],
   "source": [
    "url = \"https://tyler.caraza-harter.com/cs320/tricky/page2.html\"\n",
    "b.get(url)"
   ]
  },
  {
   "cell_type": "code",
   "execution_count": 9,
   "id": "cf6765a5",
   "metadata": {},
   "outputs": [
    {
     "data": {
      "text/plain": [
       "<selenium.webdriver.remote.webelement.WebElement (session=\"7108da114a045d22c443bf532f756462\", element=\"b34bc9e2-3227-4e7d-b931-954e41e9efe5\")>"
      ]
     },
     "execution_count": 9,
     "metadata": {},
     "output_type": "execute_result"
    }
   ],
   "source": [
    "btn = b.find_element_by_id(\"more\")\n",
    "btn"
   ]
  },
  {
   "cell_type": "code",
   "execution_count": 10,
   "id": "26e5465d",
   "metadata": {},
   "outputs": [],
   "source": [
    "btn.click()"
   ]
  },
  {
   "cell_type": "code",
   "execution_count": 11,
   "id": "05954ade",
   "metadata": {},
   "outputs": [],
   "source": [
    "b.close()"
   ]
  }
 ],
 "metadata": {
  "kernelspec": {
   "display_name": "Python 3 (ipykernel)",
   "language": "python",
   "name": "python3"
  },
  "language_info": {
   "codemirror_mode": {
    "name": "ipython",
    "version": 3
   },
   "file_extension": ".py",
   "mimetype": "text/x-python",
   "name": "python",
   "nbconvert_exporter": "python",
   "pygments_lexer": "ipython3",
   "version": "3.9.6"
  }
 },
 "nbformat": 4,
 "nbformat_minor": 5
}
