{
 "cells": [
  {
   "cell_type": "markdown",
   "id": "531e9f5a",
   "metadata": {},
   "source": [
    "# Demo on laptopt (not VM)\n",
    "\n",
    "You can't quite follow along and see the GUI."
   ]
  },
  {
   "cell_type": "code",
   "execution_count": 1,
   "id": "edc37e62",
   "metadata": {},
   "outputs": [],
   "source": [
    "from selenium import webdriver\n",
    "from selenium.webdriver.chrome.options import Options\n",
    "from selenium.common.exceptions import NoSuchElementException\n",
    "\n",
    "options = Options()\n",
    "#options.headless = True\n",
    "#b = webdriver.Chrome(options=options, executable_path=\"chromium.chromedriver\")\n",
    "b = webdriver.Chrome(options=options)"
   ]
  },
  {
   "cell_type": "code",
   "execution_count": 2,
   "id": "3f6aca72",
   "metadata": {},
   "outputs": [
    {
     "name": "stdout",
     "output_type": "stream",
     "text": [
      "A\n",
      "B\n"
     ]
    }
   ],
   "source": [
    "import time\n",
    "print(\"A\")\n",
    "time.sleep(3)\n",
    "print(\"B\")"
   ]
  },
  {
   "cell_type": "markdown",
   "id": "b5149b86",
   "metadata": {},
   "source": [
    "# Step 1: wait for the table to grab the HTML"
   ]
  },
  {
   "cell_type": "code",
   "execution_count": 3,
   "id": "89a306dd",
   "metadata": {},
   "outputs": [
    {
     "name": "stdout",
     "output_type": "stream",
     "text": [
      "not ready yet\n",
      "not ready yet\n",
      "not ready yet\n",
      "not ready yet\n",
      "not ready yet\n",
      "not ready yet\n",
      "not ready yet\n",
      "not ready yet\n"
     ]
    }
   ],
   "source": [
    "b.get(\"https://tyler.caraza-harter.com/cs320/tricky/page1.html\")\n",
    "#print(b.page_source[:100])\n",
    "# polling\n",
    "def wait_for_element(elem_id):\n",
    "    max_seconds = 10\n",
    "    for i in range(max_seconds * 10):\n",
    "        time.sleep(0.1)\n",
    "        try:\n",
    "            elem = b.find_element_by_id(elem_id)\n",
    "            break\n",
    "        except NoSuchElementException:\n",
    "            print(\"not ready yet\")\n",
    "    return elem\n",
    "\n",
    "wait_for_element(\"coords\")\n",
    "html = b.page_source"
   ]
  },
  {
   "cell_type": "markdown",
   "id": "491ec83c",
   "metadata": {},
   "source": [
    "# Step 2: convert HTML to a table"
   ]
  },
  {
   "cell_type": "code",
   "execution_count": 4,
   "id": "b6bc8815",
   "metadata": {},
   "outputs": [],
   "source": [
    "from bs4 import BeautifulSoup # let us search for elements in HTML too"
   ]
  },
  {
   "cell_type": "code",
   "execution_count": 5,
   "id": "1d574354",
   "metadata": {},
   "outputs": [
    {
     "data": {
      "text/plain": [
       "bs4.BeautifulSoup"
      ]
     },
     "execution_count": 5,
     "metadata": {},
     "output_type": "execute_result"
    }
   ],
   "source": [
    "# we'll create a bs4 tree using the HTML selenium gave us\n",
    "page = BeautifulSoup(b.page_source, \"html.parser\")\n",
    "type(page)"
   ]
  },
  {
   "cell_type": "code",
   "execution_count": 6,
   "id": "7f2508b8",
   "metadata": {},
   "outputs": [],
   "source": [
    "# page.find(\"TAG\") -- get the first instance of that TAG\n",
    "tbls = page.find_all(\"table\")\n",
    "assert len(tbls) == 2"
   ]
  },
  {
   "cell_type": "code",
   "execution_count": 7,
   "id": "8cbe087c",
   "metadata": {},
   "outputs": [
    {
     "data": {
      "text/html": [
       "<div>\n",
       "<style scoped>\n",
       "    .dataframe tbody tr th:only-of-type {\n",
       "        vertical-align: middle;\n",
       "    }\n",
       "\n",
       "    .dataframe tbody tr th {\n",
       "        vertical-align: top;\n",
       "    }\n",
       "\n",
       "    .dataframe thead th {\n",
       "        text-align: right;\n",
       "    }\n",
       "</style>\n",
       "<table border=\"1\" class=\"dataframe\">\n",
       "  <thead>\n",
       "    <tr style=\"text-align: right;\">\n",
       "      <th></th>\n",
       "      <th>x</th>\n",
       "      <th>y</th>\n",
       "    </tr>\n",
       "  </thead>\n",
       "  <tbody>\n",
       "    <tr>\n",
       "      <th>0</th>\n",
       "      <td>0</td>\n",
       "      <td>1</td>\n",
       "    </tr>\n",
       "    <tr>\n",
       "      <th>1</th>\n",
       "      <td>2</td>\n",
       "      <td>3</td>\n",
       "    </tr>\n",
       "    <tr>\n",
       "      <th>2</th>\n",
       "      <td>4</td>\n",
       "      <td>5</td>\n",
       "    </tr>\n",
       "    <tr>\n",
       "      <th>3</th>\n",
       "      <td>6</td>\n",
       "      <td>7</td>\n",
       "    </tr>\n",
       "    <tr>\n",
       "      <th>4</th>\n",
       "      <td>8</td>\n",
       "      <td>9</td>\n",
       "    </tr>\n",
       "    <tr>\n",
       "      <th>5</th>\n",
       "      <td>10</td>\n",
       "      <td>11</td>\n",
       "    </tr>\n",
       "    <tr>\n",
       "      <th>6</th>\n",
       "      <td>12</td>\n",
       "      <td>13</td>\n",
       "    </tr>\n",
       "    <tr>\n",
       "      <th>7</th>\n",
       "      <td>14</td>\n",
       "      <td>15</td>\n",
       "    </tr>\n",
       "    <tr>\n",
       "      <th>8</th>\n",
       "      <td>16</td>\n",
       "      <td>17</td>\n",
       "    </tr>\n",
       "    <tr>\n",
       "      <th>9</th>\n",
       "      <td>18</td>\n",
       "      <td>19</td>\n",
       "    </tr>\n",
       "  </tbody>\n",
       "</table>\n",
       "</div>"
      ],
      "text/plain": [
       "    x   y\n",
       "0   0   1\n",
       "1   2   3\n",
       "2   4   5\n",
       "3   6   7\n",
       "4   8   9\n",
       "5  10  11\n",
       "6  12  13\n",
       "7  14  15\n",
       "8  16  17\n",
       "9  18  19"
      ]
     },
     "execution_count": 7,
     "metadata": {},
     "output_type": "execute_result"
    }
   ],
   "source": [
    "import pandas as pd\n",
    "tbl = tbls[-1]\n",
    "rows = []\n",
    "for tr in tbl.find_all(\"tr\"):\n",
    "    row = [cell.get_text() for cell in tr.find_all(\"td\")]\n",
    "    rows.append(row)\n",
    "pd.DataFrame(rows[1:], columns=rows[0])"
   ]
  },
  {
   "cell_type": "markdown",
   "id": "094228aa",
   "metadata": {},
   "source": [
    "# Demo 2: clicks"
   ]
  },
  {
   "cell_type": "code",
   "execution_count": 8,
   "id": "46dcaaa3",
   "metadata": {},
   "outputs": [],
   "source": [
    "b.get(\"https://tyler.caraza-harter.com/cs320/tricky/page2.html\")\n"
   ]
  },
  {
   "cell_type": "code",
   "execution_count": 9,
   "id": "bfaf69c7",
   "metadata": {},
   "outputs": [
    {
     "data": {
      "text/plain": [
       "<selenium.webdriver.remote.webelement.WebElement (session=\"958c40415a9fd2e357834d9d92e8ac3e\", element=\"aa322c66-d220-4b30-b68b-497c1db8de47\")>"
      ]
     },
     "execution_count": 9,
     "metadata": {},
     "output_type": "execute_result"
    }
   ],
   "source": [
    "btn = b.find_element_by_id(\"more\")\n",
    "btn"
   ]
  },
  {
   "cell_type": "code",
   "execution_count": 10,
   "id": "c76409da",
   "metadata": {},
   "outputs": [],
   "source": [
    "btn.click()"
   ]
  },
  {
   "cell_type": "code",
   "execution_count": null,
   "id": "6f33163f",
   "metadata": {},
   "outputs": [],
   "source": []
  }
 ],
 "metadata": {
  "kernelspec": {
   "display_name": "Python 3 (ipykernel)",
   "language": "python",
   "name": "python3"
  },
  "language_info": {
   "codemirror_mode": {
    "name": "ipython",
    "version": 3
   },
   "file_extension": ".py",
   "mimetype": "text/x-python",
   "name": "python",
   "nbconvert_exporter": "python",
   "pygments_lexer": "ipython3",
   "version": "3.9.6"
  }
 },
 "nbformat": 4,
 "nbformat_minor": 5
}
