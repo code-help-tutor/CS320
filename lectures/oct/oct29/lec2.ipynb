{
 "cells": [
  {
   "cell_type": "markdown",
   "metadata": {},
   "source": [
    "## Regular Expressions"
   ]
  },
  {
   "cell_type": "code",
   "execution_count": 1,
   "metadata": {},
   "outputs": [],
   "source": [
    "import re\n",
    "\n",
    "# from DS100 book...\n",
    "def reg(regex, text):\n",
    "    \"\"\"\n",
    "    Prints the string with the regex match highlighted.\n",
    "    \"\"\"\n",
    "    print(re.sub(f'({regex})', r'\\033[1;30;43m\\1\\033[m', text))"
   ]
  },
  {
   "cell_type": "code",
   "execution_count": 2,
   "metadata": {},
   "outputs": [
    {
     "name": "stdout",
     "output_type": "stream",
     "text": [
      "A DAG is a directed graph without cycles. A tree is a DAG where every node has one parent (except the root, which has none). To learn more, visit www.example.com or call 1-608-123-4567. :) ¯\\_(ツ)_/¯\n"
     ]
    }
   ],
   "source": [
    "s1 = \" \".join([\"A DAG is a directed graph without cycles.\",\n",
    "               \"A tree is a DAG where every node has one parent (except the root, which has none).\",\n",
    "               \"To learn more, visit www.example.com or call 1-608-123-4567. :) ¯\\_(ツ)_/¯\"])\n",
    "print(s1)"
   ]
  },
  {
   "cell_type": "code",
   "execution_count": 3,
   "metadata": {},
   "outputs": [
    {
     "name": "stdout",
     "output_type": "stream",
     "text": [
      "1-608-123-4567\n",
      "a-bcd-efg-hijg (not a phone number)\n",
      "1-608-123-456 (not a phone number)\n",
      "608-123-4567\n",
      "123-4567\n",
      "\n"
     ]
    }
   ],
   "source": [
    "s2 = \"\"\"1-608-123-4567\n",
    "a-bcd-efg-hijg (not a phone number)\n",
    "1-608-123-456 (not a phone number)\n",
    "608-123-4567\n",
    "123-4567\n",
    "\"\"\"\n",
    "print(s2)"
   ]
  },
  {
   "cell_type": "code",
   "execution_count": 4,
   "metadata": {},
   "outputs": [
    {
     "data": {
      "text/plain": [
       "'In CS 320, there are 14 quizzes, 7 projects, 41 lectures, and 1000 things to learn.  CS 320 is awesome!'"
      ]
     },
     "execution_count": 4,
     "metadata": {},
     "output_type": "execute_result"
    }
   ],
   "source": [
    "s3 = \"In CS 320, there are 14 quizzes, 7 projects, 41 lectures, and 1000 things to learn.  CS 320 is awesome!\"\n",
    "s3"
   ]
  },
  {
   "cell_type": "code",
   "execution_count": 5,
   "metadata": {},
   "outputs": [
    {
     "name": "stdout",
     "output_type": "stream",
     "text": [
      "In CS 320,  there are 14 quizzes,    7 projects,\n",
      "41 lectures, and 1000 things to learn.  CS 320 is awesome!\n"
     ]
    }
   ],
   "source": [
    "s4 = \"\"\"In CS 320,  there are 14 quizzes,    7 projects,\n",
    "41 lectures, and 1000 things to learn.  CS 320 is awesome!\"\"\"\n",
    "print(s4)"
   ]
  },
  {
   "cell_type": "code",
   "execution_count": 6,
   "metadata": {},
   "outputs": [
    {
     "name": "stdout",
     "output_type": "stream",
     "text": [
      "A DAG is a directed graph without cycles. A tree is a DAG where every node has one parent (except the root, which has none). To learn more, visit www.example.com or call 1-608-123-4567. :) ¯\\_(ツ)_/¯\n"
     ]
    }
   ],
   "source": [
    "print(s1)"
   ]
  },
  {
   "cell_type": "code",
   "execution_count": 7,
   "metadata": {},
   "outputs": [
    {
     "name": "stdout",
     "output_type": "stream",
     "text": [
      "A DAG is \u001b[1;30;43ma\u001b[m directed gr\u001b[1;30;43ma\u001b[mph without cycles. A tree is \u001b[1;30;43ma\u001b[m DAG where every node h\u001b[1;30;43ma\u001b[ms one p\u001b[1;30;43ma\u001b[mrent (except the root, which h\u001b[1;30;43ma\u001b[ms none). To le\u001b[1;30;43ma\u001b[mrn more, visit www.ex\u001b[1;30;43ma\u001b[mmple.com or c\u001b[1;30;43ma\u001b[mll 1-608-123-4567. :) ¯\\_(ツ)_/¯\n"
     ]
    }
   ],
   "source": [
    "reg(\"a\", s1)"
   ]
  },
  {
   "cell_type": "code",
   "execution_count": 8,
   "metadata": {},
   "outputs": [
    {
     "name": "stdout",
     "output_type": "stream",
     "text": [
      "\u001b[1;30;43mA\u001b[m D\u001b[1;30;43mA\u001b[mG is a directed graph without cycles. \u001b[1;30;43mA\u001b[m tree is a D\u001b[1;30;43mA\u001b[mG where every node has one parent (except the root, which has none). To learn more, visit www.example.com or call 1-608-123-4567. :) ¯\\_(ツ)_/¯\n"
     ]
    }
   ],
   "source": [
    "reg(\"A\", s1)"
   ]
  },
  {
   "cell_type": "code",
   "execution_count": 11,
   "metadata": {},
   "outputs": [
    {
     "name": "stdout",
     "output_type": "stream",
     "text": [
      "A DAG is a directed graph without cycles. A tree is a DAG where every node has one parent (except the root, which has none). To learn more, visit www.example.com or call 1-608-123-4567. :) ¯\u001b[1;30;43m\\\u001b[m_(ツ)_/¯\n"
     ]
    }
   ],
   "source": [
    "# find the left arm\n",
    "reg(\"\\\\\\\\\", s1)"
   ]
  },
  {
   "cell_type": "code",
   "execution_count": 12,
   "metadata": {},
   "outputs": [
    {
     "name": "stdout",
     "output_type": "stream",
     "text": [
      "A DAG is a directed graph without cycles. A tree is a DAG where every node has one parent (except the root, which has none). To learn more, visit www.example.com or call 1-608-123-4567. :) ¯\u001b[1;30;43m\\\u001b[m_(ツ)_/¯\n"
     ]
    }
   ],
   "source": [
    "reg(r\"\\\\\", s1)"
   ]
  },
  {
   "cell_type": "code",
   "execution_count": 13,
   "metadata": {},
   "outputs": [
    {
     "name": "stdout",
     "output_type": "stream",
     "text": [
      "A DAG is a directed graph without cycles. A tree is a DAG where every node has one parent (except the root, which has none). To learn more, visit www.example.com or call 1-608-123-4567. :) ¯\\_(ツ)_/¯\n"
     ]
    }
   ],
   "source": [
    "reg(r\"aA\", s1)"
   ]
  },
  {
   "cell_type": "code",
   "execution_count": 14,
   "metadata": {},
   "outputs": [
    {
     "name": "stdout",
     "output_type": "stream",
     "text": [
      "\u001b[1;30;43mA\u001b[m D\u001b[1;30;43mA\u001b[mG is \u001b[1;30;43ma\u001b[m directed gr\u001b[1;30;43ma\u001b[mph without cycles. \u001b[1;30;43mA\u001b[m tree is \u001b[1;30;43ma\u001b[m D\u001b[1;30;43mA\u001b[mG where every node h\u001b[1;30;43ma\u001b[ms one p\u001b[1;30;43ma\u001b[mrent (except the root, which h\u001b[1;30;43ma\u001b[ms none). To le\u001b[1;30;43ma\u001b[mrn more, visit www.ex\u001b[1;30;43ma\u001b[mmple.com or c\u001b[1;30;43ma\u001b[mll 1-608-123-4567. :) ¯\\_(ツ)_/¯\n"
     ]
    }
   ],
   "source": [
    "# character class\n",
    "reg(r\"[aA]\", s1)"
   ]
  },
  {
   "cell_type": "code",
   "execution_count": 15,
   "metadata": {},
   "outputs": [
    {
     "name": "stdout",
     "output_type": "stream",
     "text": [
      "\u001b[1;30;43mA\u001b[m D\u001b[1;30;43mA\u001b[mG \u001b[1;30;43mi\u001b[ms \u001b[1;30;43ma\u001b[m d\u001b[1;30;43mi\u001b[mr\u001b[1;30;43me\u001b[mct\u001b[1;30;43me\u001b[md gr\u001b[1;30;43ma\u001b[mph w\u001b[1;30;43mi\u001b[mth\u001b[1;30;43mo\u001b[m\u001b[1;30;43mu\u001b[mt cycl\u001b[1;30;43me\u001b[ms. \u001b[1;30;43mA\u001b[m tr\u001b[1;30;43me\u001b[m\u001b[1;30;43me\u001b[m \u001b[1;30;43mi\u001b[ms \u001b[1;30;43ma\u001b[m D\u001b[1;30;43mA\u001b[mG wh\u001b[1;30;43me\u001b[mr\u001b[1;30;43me\u001b[m \u001b[1;30;43me\u001b[mv\u001b[1;30;43me\u001b[mry n\u001b[1;30;43mo\u001b[md\u001b[1;30;43me\u001b[m h\u001b[1;30;43ma\u001b[ms \u001b[1;30;43mo\u001b[mn\u001b[1;30;43me\u001b[m p\u001b[1;30;43ma\u001b[mr\u001b[1;30;43me\u001b[mnt (\u001b[1;30;43me\u001b[mxc\u001b[1;30;43me\u001b[mpt th\u001b[1;30;43me\u001b[m r\u001b[1;30;43mo\u001b[m\u001b[1;30;43mo\u001b[mt, wh\u001b[1;30;43mi\u001b[mch h\u001b[1;30;43ma\u001b[ms n\u001b[1;30;43mo\u001b[mn\u001b[1;30;43me\u001b[m). T\u001b[1;30;43mo\u001b[m l\u001b[1;30;43me\u001b[m\u001b[1;30;43ma\u001b[mrn m\u001b[1;30;43mo\u001b[mr\u001b[1;30;43me\u001b[m, v\u001b[1;30;43mi\u001b[ms\u001b[1;30;43mi\u001b[mt www.\u001b[1;30;43me\u001b[mx\u001b[1;30;43ma\u001b[mmpl\u001b[1;30;43me\u001b[m.c\u001b[1;30;43mo\u001b[mm \u001b[1;30;43mo\u001b[mr c\u001b[1;30;43ma\u001b[mll 1-608-123-4567. :) ¯\\_(ツ)_/¯\n"
     ]
    }
   ],
   "source": [
    "# all the vowels\n",
    "reg(r\"[AEIOUaeiou]\", s1)"
   ]
  },
  {
   "cell_type": "code",
   "execution_count": 16,
   "metadata": {},
   "outputs": [
    {
     "name": "stdout",
     "output_type": "stream",
     "text": [
      "A\u001b[1;30;43m \u001b[m\u001b[1;30;43mD\u001b[mA\u001b[1;30;43mG\u001b[m\u001b[1;30;43m \u001b[mi\u001b[1;30;43ms\u001b[m\u001b[1;30;43m \u001b[ma\u001b[1;30;43m \u001b[m\u001b[1;30;43md\u001b[mi\u001b[1;30;43mr\u001b[me\u001b[1;30;43mc\u001b[m\u001b[1;30;43mt\u001b[me\u001b[1;30;43md\u001b[m\u001b[1;30;43m \u001b[m\u001b[1;30;43mg\u001b[m\u001b[1;30;43mr\u001b[ma\u001b[1;30;43mp\u001b[m\u001b[1;30;43mh\u001b[m\u001b[1;30;43m \u001b[m\u001b[1;30;43mw\u001b[mi\u001b[1;30;43mt\u001b[m\u001b[1;30;43mh\u001b[mou\u001b[1;30;43mt\u001b[m\u001b[1;30;43m \u001b[m\u001b[1;30;43mc\u001b[m\u001b[1;30;43my\u001b[m\u001b[1;30;43mc\u001b[m\u001b[1;30;43ml\u001b[me\u001b[1;30;43ms\u001b[m\u001b[1;30;43m.\u001b[m\u001b[1;30;43m \u001b[mA\u001b[1;30;43m \u001b[m\u001b[1;30;43mt\u001b[m\u001b[1;30;43mr\u001b[mee\u001b[1;30;43m \u001b[mi\u001b[1;30;43ms\u001b[m\u001b[1;30;43m \u001b[ma\u001b[1;30;43m \u001b[m\u001b[1;30;43mD\u001b[mA\u001b[1;30;43mG\u001b[m\u001b[1;30;43m \u001b[m\u001b[1;30;43mw\u001b[m\u001b[1;30;43mh\u001b[me\u001b[1;30;43mr\u001b[me\u001b[1;30;43m \u001b[me\u001b[1;30;43mv\u001b[me\u001b[1;30;43mr\u001b[m\u001b[1;30;43my\u001b[m\u001b[1;30;43m \u001b[m\u001b[1;30;43mn\u001b[mo\u001b[1;30;43md\u001b[me\u001b[1;30;43m \u001b[m\u001b[1;30;43mh\u001b[ma\u001b[1;30;43ms\u001b[m\u001b[1;30;43m \u001b[mo\u001b[1;30;43mn\u001b[me\u001b[1;30;43m \u001b[m\u001b[1;30;43mp\u001b[ma\u001b[1;30;43mr\u001b[me\u001b[1;30;43mn\u001b[m\u001b[1;30;43mt\u001b[m\u001b[1;30;43m \u001b[m\u001b[1;30;43m(\u001b[me\u001b[1;30;43mx\u001b[m\u001b[1;30;43mc\u001b[me\u001b[1;30;43mp\u001b[m\u001b[1;30;43mt\u001b[m\u001b[1;30;43m \u001b[m\u001b[1;30;43mt\u001b[m\u001b[1;30;43mh\u001b[me\u001b[1;30;43m \u001b[m\u001b[1;30;43mr\u001b[moo\u001b[1;30;43mt\u001b[m\u001b[1;30;43m,\u001b[m\u001b[1;30;43m \u001b[m\u001b[1;30;43mw\u001b[m\u001b[1;30;43mh\u001b[mi\u001b[1;30;43mc\u001b[m\u001b[1;30;43mh\u001b[m\u001b[1;30;43m \u001b[m\u001b[1;30;43mh\u001b[ma\u001b[1;30;43ms\u001b[m\u001b[1;30;43m \u001b[m\u001b[1;30;43mn\u001b[mo\u001b[1;30;43mn\u001b[me\u001b[1;30;43m)\u001b[m\u001b[1;30;43m.\u001b[m\u001b[1;30;43m \u001b[m\u001b[1;30;43mT\u001b[mo\u001b[1;30;43m \u001b[m\u001b[1;30;43ml\u001b[mea\u001b[1;30;43mr\u001b[m\u001b[1;30;43mn\u001b[m\u001b[1;30;43m \u001b[m\u001b[1;30;43mm\u001b[mo\u001b[1;30;43mr\u001b[me\u001b[1;30;43m,\u001b[m\u001b[1;30;43m \u001b[m\u001b[1;30;43mv\u001b[mi\u001b[1;30;43ms\u001b[mi\u001b[1;30;43mt\u001b[m\u001b[1;30;43m \u001b[m\u001b[1;30;43mw\u001b[m\u001b[1;30;43mw\u001b[m\u001b[1;30;43mw\u001b[m\u001b[1;30;43m.\u001b[me\u001b[1;30;43mx\u001b[ma\u001b[1;30;43mm\u001b[m\u001b[1;30;43mp\u001b[m\u001b[1;30;43ml\u001b[me\u001b[1;30;43m.\u001b[m\u001b[1;30;43mc\u001b[mo\u001b[1;30;43mm\u001b[m\u001b[1;30;43m \u001b[mo\u001b[1;30;43mr\u001b[m\u001b[1;30;43m \u001b[m\u001b[1;30;43mc\u001b[ma\u001b[1;30;43ml\u001b[m\u001b[1;30;43ml\u001b[m\u001b[1;30;43m \u001b[m\u001b[1;30;43m1\u001b[m\u001b[1;30;43m-\u001b[m\u001b[1;30;43m6\u001b[m\u001b[1;30;43m0\u001b[m\u001b[1;30;43m8\u001b[m\u001b[1;30;43m-\u001b[m\u001b[1;30;43m1\u001b[m\u001b[1;30;43m2\u001b[m\u001b[1;30;43m3\u001b[m\u001b[1;30;43m-\u001b[m\u001b[1;30;43m4\u001b[m\u001b[1;30;43m5\u001b[m\u001b[1;30;43m6\u001b[m\u001b[1;30;43m7\u001b[m\u001b[1;30;43m.\u001b[m\u001b[1;30;43m \u001b[m\u001b[1;30;43m:\u001b[m\u001b[1;30;43m)\u001b[m\u001b[1;30;43m \u001b[m\u001b[1;30;43m¯\u001b[m\u001b[1;30;43m\\\u001b[m\u001b[1;30;43m_\u001b[m\u001b[1;30;43m(\u001b[m\u001b[1;30;43mツ\u001b[m\u001b[1;30;43m)\u001b[m\u001b[1;30;43m_\u001b[m\u001b[1;30;43m/\u001b[m\u001b[1;30;43m¯\u001b[m\n"
     ]
    }
   ],
   "source": [
    "# everything except vowels\n",
    "# ^ means \"not\" (when it's inside a character class)\n",
    "reg(r\"[^AEIOUaeiou]\", s1)"
   ]
  },
  {
   "cell_type": "code",
   "execution_count": 17,
   "metadata": {},
   "outputs": [
    {
     "name": "stdout",
     "output_type": "stream",
     "text": [
      "\u001b[1;30;43mA\u001b[m \u001b[1;30;43mD\u001b[m\u001b[1;30;43mA\u001b[m\u001b[1;30;43mG\u001b[m is a directed graph without cycles. \u001b[1;30;43mA\u001b[m tree is a \u001b[1;30;43mD\u001b[m\u001b[1;30;43mA\u001b[m\u001b[1;30;43mG\u001b[m where every node has one parent (except the root, which has none). \u001b[1;30;43mT\u001b[mo learn more, visit www.example.com or call 1-608-123-4567. :) ¯\\_(ツ)_/¯\n"
     ]
    }
   ],
   "source": [
    "# find all capital letters\n",
    "reg(r\"[A-Z]\", s1)"
   ]
  },
  {
   "cell_type": "code",
   "execution_count": 18,
   "metadata": {},
   "outputs": [
    {
     "name": "stdout",
     "output_type": "stream",
     "text": [
      "\u001b[1;30;43mA\u001b[m D\u001b[1;30;43mA\u001b[mG is a directed graph without cycles. \u001b[1;30;43mA\u001b[m tree is a D\u001b[1;30;43mA\u001b[mG where every node has one parent (except the root, which has none). To learn more, visit www.example.com or call 1\u001b[1;30;43m-\u001b[m608\u001b[1;30;43m-\u001b[m123\u001b[1;30;43m-\u001b[m4567. :) ¯\\_(ツ)_/¯\n"
     ]
    }
   ],
   "source": [
    "# find 3 things: A, Z, and -\n",
    "reg(r\"[A\\-Z]\", s1)"
   ]
  },
  {
   "cell_type": "code",
   "execution_count": 20,
   "metadata": {},
   "outputs": [
    {
     "name": "stdout",
     "output_type": "stream",
     "text": [
      "A DAG is a directed graph without cycles. A tree is a DAG where every node has one parent (except the root, which has none). To learn more, visit www.example.com or call \u001b[1;30;43m1\u001b[m-\u001b[1;30;43m6\u001b[m\u001b[1;30;43m0\u001b[m\u001b[1;30;43m8\u001b[m-\u001b[1;30;43m1\u001b[m\u001b[1;30;43m2\u001b[m\u001b[1;30;43m3\u001b[m-\u001b[1;30;43m4\u001b[m\u001b[1;30;43m5\u001b[m\u001b[1;30;43m6\u001b[m\u001b[1;30;43m7\u001b[m. :) ¯\\_(ツ)_/¯\n"
     ]
    }
   ],
   "source": [
    "# meta characters: \\d, \\s, \\w, .\n",
    "reg(r\"\\d\", s1) # all digits"
   ]
  },
  {
   "cell_type": "code",
   "execution_count": 21,
   "metadata": {},
   "outputs": [
    {
     "name": "stdout",
     "output_type": "stream",
     "text": [
      "A\u001b[1;30;43m \u001b[mDAG\u001b[1;30;43m \u001b[mis\u001b[1;30;43m \u001b[ma\u001b[1;30;43m \u001b[mdirected\u001b[1;30;43m \u001b[mgraph\u001b[1;30;43m \u001b[mwithout\u001b[1;30;43m \u001b[mcycles.\u001b[1;30;43m \u001b[mA\u001b[1;30;43m \u001b[mtree\u001b[1;30;43m \u001b[mis\u001b[1;30;43m \u001b[ma\u001b[1;30;43m \u001b[mDAG\u001b[1;30;43m \u001b[mwhere\u001b[1;30;43m \u001b[mevery\u001b[1;30;43m \u001b[mnode\u001b[1;30;43m \u001b[mhas\u001b[1;30;43m \u001b[mone\u001b[1;30;43m \u001b[mparent\u001b[1;30;43m \u001b[m(except\u001b[1;30;43m \u001b[mthe\u001b[1;30;43m \u001b[mroot,\u001b[1;30;43m \u001b[mwhich\u001b[1;30;43m \u001b[mhas\u001b[1;30;43m \u001b[mnone).\u001b[1;30;43m \u001b[mTo\u001b[1;30;43m \u001b[mlearn\u001b[1;30;43m \u001b[mmore,\u001b[1;30;43m \u001b[mvisit\u001b[1;30;43m \u001b[mwww.example.com\u001b[1;30;43m \u001b[mor\u001b[1;30;43m \u001b[mcall\u001b[1;30;43m \u001b[m1-608-123-4567.\u001b[1;30;43m \u001b[m:)\u001b[1;30;43m \u001b[m¯\\_(ツ)_/¯\n"
     ]
    }
   ],
   "source": [
    "reg(r\"\\s\", s1) # all whitespace (tabs, spaces, newlines)"
   ]
  },
  {
   "cell_type": "code",
   "execution_count": 22,
   "metadata": {},
   "outputs": [
    {
     "name": "stdout",
     "output_type": "stream",
     "text": [
      "\u001b[1;30;43mA\u001b[m \u001b[1;30;43mD\u001b[m\u001b[1;30;43mA\u001b[m\u001b[1;30;43mG\u001b[m \u001b[1;30;43mi\u001b[m\u001b[1;30;43ms\u001b[m \u001b[1;30;43ma\u001b[m \u001b[1;30;43md\u001b[m\u001b[1;30;43mi\u001b[m\u001b[1;30;43mr\u001b[m\u001b[1;30;43me\u001b[m\u001b[1;30;43mc\u001b[m\u001b[1;30;43mt\u001b[m\u001b[1;30;43me\u001b[m\u001b[1;30;43md\u001b[m \u001b[1;30;43mg\u001b[m\u001b[1;30;43mr\u001b[m\u001b[1;30;43ma\u001b[m\u001b[1;30;43mp\u001b[m\u001b[1;30;43mh\u001b[m \u001b[1;30;43mw\u001b[m\u001b[1;30;43mi\u001b[m\u001b[1;30;43mt\u001b[m\u001b[1;30;43mh\u001b[m\u001b[1;30;43mo\u001b[m\u001b[1;30;43mu\u001b[m\u001b[1;30;43mt\u001b[m \u001b[1;30;43mc\u001b[m\u001b[1;30;43my\u001b[m\u001b[1;30;43mc\u001b[m\u001b[1;30;43ml\u001b[m\u001b[1;30;43me\u001b[m\u001b[1;30;43ms\u001b[m\u001b[1;30;43m.\u001b[m \u001b[1;30;43mA\u001b[m \u001b[1;30;43mt\u001b[m\u001b[1;30;43mr\u001b[m\u001b[1;30;43me\u001b[m\u001b[1;30;43me\u001b[m \u001b[1;30;43mi\u001b[m\u001b[1;30;43ms\u001b[m \u001b[1;30;43ma\u001b[m \u001b[1;30;43mD\u001b[m\u001b[1;30;43mA\u001b[m\u001b[1;30;43mG\u001b[m \u001b[1;30;43mw\u001b[m\u001b[1;30;43mh\u001b[m\u001b[1;30;43me\u001b[m\u001b[1;30;43mr\u001b[m\u001b[1;30;43me\u001b[m \u001b[1;30;43me\u001b[m\u001b[1;30;43mv\u001b[m\u001b[1;30;43me\u001b[m\u001b[1;30;43mr\u001b[m\u001b[1;30;43my\u001b[m \u001b[1;30;43mn\u001b[m\u001b[1;30;43mo\u001b[m\u001b[1;30;43md\u001b[m\u001b[1;30;43me\u001b[m \u001b[1;30;43mh\u001b[m\u001b[1;30;43ma\u001b[m\u001b[1;30;43ms\u001b[m \u001b[1;30;43mo\u001b[m\u001b[1;30;43mn\u001b[m\u001b[1;30;43me\u001b[m \u001b[1;30;43mp\u001b[m\u001b[1;30;43ma\u001b[m\u001b[1;30;43mr\u001b[m\u001b[1;30;43me\u001b[m\u001b[1;30;43mn\u001b[m\u001b[1;30;43mt\u001b[m \u001b[1;30;43m(\u001b[m\u001b[1;30;43me\u001b[m\u001b[1;30;43mx\u001b[m\u001b[1;30;43mc\u001b[m\u001b[1;30;43me\u001b[m\u001b[1;30;43mp\u001b[m\u001b[1;30;43mt\u001b[m \u001b[1;30;43mt\u001b[m\u001b[1;30;43mh\u001b[m\u001b[1;30;43me\u001b[m \u001b[1;30;43mr\u001b[m\u001b[1;30;43mo\u001b[m\u001b[1;30;43mo\u001b[m\u001b[1;30;43mt\u001b[m\u001b[1;30;43m,\u001b[m \u001b[1;30;43mw\u001b[m\u001b[1;30;43mh\u001b[m\u001b[1;30;43mi\u001b[m\u001b[1;30;43mc\u001b[m\u001b[1;30;43mh\u001b[m \u001b[1;30;43mh\u001b[m\u001b[1;30;43ma\u001b[m\u001b[1;30;43ms\u001b[m \u001b[1;30;43mn\u001b[m\u001b[1;30;43mo\u001b[m\u001b[1;30;43mn\u001b[m\u001b[1;30;43me\u001b[m\u001b[1;30;43m)\u001b[m\u001b[1;30;43m.\u001b[m \u001b[1;30;43mT\u001b[m\u001b[1;30;43mo\u001b[m \u001b[1;30;43ml\u001b[m\u001b[1;30;43me\u001b[m\u001b[1;30;43ma\u001b[m\u001b[1;30;43mr\u001b[m\u001b[1;30;43mn\u001b[m \u001b[1;30;43mm\u001b[m\u001b[1;30;43mo\u001b[m\u001b[1;30;43mr\u001b[m\u001b[1;30;43me\u001b[m\u001b[1;30;43m,\u001b[m \u001b[1;30;43mv\u001b[m\u001b[1;30;43mi\u001b[m\u001b[1;30;43ms\u001b[m\u001b[1;30;43mi\u001b[m\u001b[1;30;43mt\u001b[m \u001b[1;30;43mw\u001b[m\u001b[1;30;43mw\u001b[m\u001b[1;30;43mw\u001b[m\u001b[1;30;43m.\u001b[m\u001b[1;30;43me\u001b[m\u001b[1;30;43mx\u001b[m\u001b[1;30;43ma\u001b[m\u001b[1;30;43mm\u001b[m\u001b[1;30;43mp\u001b[m\u001b[1;30;43ml\u001b[m\u001b[1;30;43me\u001b[m\u001b[1;30;43m.\u001b[m\u001b[1;30;43mc\u001b[m\u001b[1;30;43mo\u001b[m\u001b[1;30;43mm\u001b[m \u001b[1;30;43mo\u001b[m\u001b[1;30;43mr\u001b[m \u001b[1;30;43mc\u001b[m\u001b[1;30;43ma\u001b[m\u001b[1;30;43ml\u001b[m\u001b[1;30;43ml\u001b[m \u001b[1;30;43m1\u001b[m\u001b[1;30;43m-\u001b[m\u001b[1;30;43m6\u001b[m\u001b[1;30;43m0\u001b[m\u001b[1;30;43m8\u001b[m\u001b[1;30;43m-\u001b[m\u001b[1;30;43m1\u001b[m\u001b[1;30;43m2\u001b[m\u001b[1;30;43m3\u001b[m\u001b[1;30;43m-\u001b[m\u001b[1;30;43m4\u001b[m\u001b[1;30;43m5\u001b[m\u001b[1;30;43m6\u001b[m\u001b[1;30;43m7\u001b[m\u001b[1;30;43m.\u001b[m \u001b[1;30;43m:\u001b[m\u001b[1;30;43m)\u001b[m \u001b[1;30;43m¯\u001b[m\u001b[1;30;43m\\\u001b[m\u001b[1;30;43m_\u001b[m\u001b[1;30;43m(\u001b[m\u001b[1;30;43mツ\u001b[m\u001b[1;30;43m)\u001b[m\u001b[1;30;43m_\u001b[m\u001b[1;30;43m/\u001b[m\u001b[1;30;43m¯\u001b[m\n"
     ]
    }
   ],
   "source": [
    "# \\S means not \\s\n",
    "reg(r\"\\S\", s1) # all non-whitespace"
   ]
  },
  {
   "cell_type": "code",
   "execution_count": 23,
   "metadata": {},
   "outputs": [
    {
     "name": "stdout",
     "output_type": "stream",
     "text": [
      "\u001b[1;30;43mA\u001b[m \u001b[1;30;43mD\u001b[m\u001b[1;30;43mA\u001b[m\u001b[1;30;43mG\u001b[m \u001b[1;30;43mi\u001b[m\u001b[1;30;43ms\u001b[m \u001b[1;30;43ma\u001b[m \u001b[1;30;43md\u001b[m\u001b[1;30;43mi\u001b[m\u001b[1;30;43mr\u001b[m\u001b[1;30;43me\u001b[m\u001b[1;30;43mc\u001b[m\u001b[1;30;43mt\u001b[m\u001b[1;30;43me\u001b[m\u001b[1;30;43md\u001b[m \u001b[1;30;43mg\u001b[m\u001b[1;30;43mr\u001b[m\u001b[1;30;43ma\u001b[m\u001b[1;30;43mp\u001b[m\u001b[1;30;43mh\u001b[m \u001b[1;30;43mw\u001b[m\u001b[1;30;43mi\u001b[m\u001b[1;30;43mt\u001b[m\u001b[1;30;43mh\u001b[m\u001b[1;30;43mo\u001b[m\u001b[1;30;43mu\u001b[m\u001b[1;30;43mt\u001b[m \u001b[1;30;43mc\u001b[m\u001b[1;30;43my\u001b[m\u001b[1;30;43mc\u001b[m\u001b[1;30;43ml\u001b[m\u001b[1;30;43me\u001b[m\u001b[1;30;43ms\u001b[m. \u001b[1;30;43mA\u001b[m \u001b[1;30;43mt\u001b[m\u001b[1;30;43mr\u001b[m\u001b[1;30;43me\u001b[m\u001b[1;30;43me\u001b[m \u001b[1;30;43mi\u001b[m\u001b[1;30;43ms\u001b[m \u001b[1;30;43ma\u001b[m \u001b[1;30;43mD\u001b[m\u001b[1;30;43mA\u001b[m\u001b[1;30;43mG\u001b[m \u001b[1;30;43mw\u001b[m\u001b[1;30;43mh\u001b[m\u001b[1;30;43me\u001b[m\u001b[1;30;43mr\u001b[m\u001b[1;30;43me\u001b[m \u001b[1;30;43me\u001b[m\u001b[1;30;43mv\u001b[m\u001b[1;30;43me\u001b[m\u001b[1;30;43mr\u001b[m\u001b[1;30;43my\u001b[m \u001b[1;30;43mn\u001b[m\u001b[1;30;43mo\u001b[m\u001b[1;30;43md\u001b[m\u001b[1;30;43me\u001b[m \u001b[1;30;43mh\u001b[m\u001b[1;30;43ma\u001b[m\u001b[1;30;43ms\u001b[m \u001b[1;30;43mo\u001b[m\u001b[1;30;43mn\u001b[m\u001b[1;30;43me\u001b[m \u001b[1;30;43mp\u001b[m\u001b[1;30;43ma\u001b[m\u001b[1;30;43mr\u001b[m\u001b[1;30;43me\u001b[m\u001b[1;30;43mn\u001b[m\u001b[1;30;43mt\u001b[m (\u001b[1;30;43me\u001b[m\u001b[1;30;43mx\u001b[m\u001b[1;30;43mc\u001b[m\u001b[1;30;43me\u001b[m\u001b[1;30;43mp\u001b[m\u001b[1;30;43mt\u001b[m \u001b[1;30;43mt\u001b[m\u001b[1;30;43mh\u001b[m\u001b[1;30;43me\u001b[m \u001b[1;30;43mr\u001b[m\u001b[1;30;43mo\u001b[m\u001b[1;30;43mo\u001b[m\u001b[1;30;43mt\u001b[m, \u001b[1;30;43mw\u001b[m\u001b[1;30;43mh\u001b[m\u001b[1;30;43mi\u001b[m\u001b[1;30;43mc\u001b[m\u001b[1;30;43mh\u001b[m \u001b[1;30;43mh\u001b[m\u001b[1;30;43ma\u001b[m\u001b[1;30;43ms\u001b[m \u001b[1;30;43mn\u001b[m\u001b[1;30;43mo\u001b[m\u001b[1;30;43mn\u001b[m\u001b[1;30;43me\u001b[m). \u001b[1;30;43mT\u001b[m\u001b[1;30;43mo\u001b[m \u001b[1;30;43ml\u001b[m\u001b[1;30;43me\u001b[m\u001b[1;30;43ma\u001b[m\u001b[1;30;43mr\u001b[m\u001b[1;30;43mn\u001b[m \u001b[1;30;43mm\u001b[m\u001b[1;30;43mo\u001b[m\u001b[1;30;43mr\u001b[m\u001b[1;30;43me\u001b[m, \u001b[1;30;43mv\u001b[m\u001b[1;30;43mi\u001b[m\u001b[1;30;43ms\u001b[m\u001b[1;30;43mi\u001b[m\u001b[1;30;43mt\u001b[m \u001b[1;30;43mw\u001b[m\u001b[1;30;43mw\u001b[m\u001b[1;30;43mw\u001b[m.\u001b[1;30;43me\u001b[m\u001b[1;30;43mx\u001b[m\u001b[1;30;43ma\u001b[m\u001b[1;30;43mm\u001b[m\u001b[1;30;43mp\u001b[m\u001b[1;30;43ml\u001b[m\u001b[1;30;43me\u001b[m.\u001b[1;30;43mc\u001b[m\u001b[1;30;43mo\u001b[m\u001b[1;30;43mm\u001b[m \u001b[1;30;43mo\u001b[m\u001b[1;30;43mr\u001b[m \u001b[1;30;43mc\u001b[m\u001b[1;30;43ma\u001b[m\u001b[1;30;43ml\u001b[m\u001b[1;30;43ml\u001b[m \u001b[1;30;43m1\u001b[m-\u001b[1;30;43m6\u001b[m\u001b[1;30;43m0\u001b[m\u001b[1;30;43m8\u001b[m-\u001b[1;30;43m1\u001b[m\u001b[1;30;43m2\u001b[m\u001b[1;30;43m3\u001b[m-\u001b[1;30;43m4\u001b[m\u001b[1;30;43m5\u001b[m\u001b[1;30;43m6\u001b[m\u001b[1;30;43m7\u001b[m. :) ¯\\\u001b[1;30;43m_\u001b[m(\u001b[1;30;43mツ\u001b[m)\u001b[1;30;43m_\u001b[m/¯\n"
     ]
    }
   ],
   "source": [
    "reg(r\"\\w\", s1) # \\w is word characters"
   ]
  },
  {
   "cell_type": "code",
   "execution_count": 27,
   "metadata": {},
   "outputs": [
    {
     "name": "stdout",
     "output_type": "stream",
     "text": [
      "\u001b[1;30;43mA\u001b[m\u001b[1;30;43m \u001b[m\u001b[1;30;43mD\u001b[m\u001b[1;30;43mA\u001b[m\u001b[1;30;43mG\u001b[m\u001b[1;30;43m \u001b[m\u001b[1;30;43mi\u001b[m\u001b[1;30;43ms\u001b[m\u001b[1;30;43m \u001b[m\u001b[1;30;43ma\u001b[m\u001b[1;30;43m \u001b[m\u001b[1;30;43md\u001b[m\u001b[1;30;43mi\u001b[m\u001b[1;30;43mr\u001b[m\u001b[1;30;43me\u001b[m\u001b[1;30;43mc\u001b[m\u001b[1;30;43mt\u001b[m\u001b[1;30;43me\u001b[m\u001b[1;30;43md\u001b[m\u001b[1;30;43m \u001b[m\u001b[1;30;43mg\u001b[m\u001b[1;30;43mr\u001b[m\u001b[1;30;43ma\u001b[m\u001b[1;30;43mp\u001b[m\u001b[1;30;43mh\u001b[m\u001b[1;30;43m \u001b[m\u001b[1;30;43mw\u001b[m\u001b[1;30;43mi\u001b[m\u001b[1;30;43mt\u001b[m\u001b[1;30;43mh\u001b[m\u001b[1;30;43mo\u001b[m\u001b[1;30;43mu\u001b[m\u001b[1;30;43mt\u001b[m\u001b[1;30;43m \u001b[m\u001b[1;30;43mc\u001b[m\u001b[1;30;43my\u001b[m\u001b[1;30;43mc\u001b[m\u001b[1;30;43ml\u001b[m\u001b[1;30;43me\u001b[m\u001b[1;30;43ms\u001b[m\u001b[1;30;43m.\u001b[m\u001b[1;30;43m \u001b[m\u001b[1;30;43mA\u001b[m\u001b[1;30;43m \u001b[m\u001b[1;30;43mt\u001b[m\u001b[1;30;43mr\u001b[m\u001b[1;30;43me\u001b[m\u001b[1;30;43me\u001b[m\u001b[1;30;43m \u001b[m\u001b[1;30;43mi\u001b[m\u001b[1;30;43ms\u001b[m\u001b[1;30;43m \u001b[m\u001b[1;30;43ma\u001b[m\u001b[1;30;43m \u001b[m\u001b[1;30;43mD\u001b[m\u001b[1;30;43mA\u001b[m\u001b[1;30;43mG\u001b[m\u001b[1;30;43m \u001b[m\u001b[1;30;43mw\u001b[m\u001b[1;30;43mh\u001b[m\u001b[1;30;43me\u001b[m\u001b[1;30;43mr\u001b[m\u001b[1;30;43me\u001b[m\u001b[1;30;43m \u001b[m\u001b[1;30;43me\u001b[m\u001b[1;30;43mv\u001b[m\u001b[1;30;43me\u001b[m\u001b[1;30;43mr\u001b[m\u001b[1;30;43my\u001b[m\u001b[1;30;43m \u001b[m\u001b[1;30;43mn\u001b[m\u001b[1;30;43mo\u001b[m\u001b[1;30;43md\u001b[m\u001b[1;30;43me\u001b[m\u001b[1;30;43m \u001b[m\u001b[1;30;43mh\u001b[m\u001b[1;30;43ma\u001b[m\u001b[1;30;43ms\u001b[m\u001b[1;30;43m \u001b[m\u001b[1;30;43mo\u001b[m\u001b[1;30;43mn\u001b[m\u001b[1;30;43me\u001b[m\u001b[1;30;43m \u001b[m\u001b[1;30;43mp\u001b[m\u001b[1;30;43ma\u001b[m\u001b[1;30;43mr\u001b[m\u001b[1;30;43me\u001b[m\u001b[1;30;43mn\u001b[m\u001b[1;30;43mt\u001b[m\u001b[1;30;43m \u001b[m\u001b[1;30;43m(\u001b[m\u001b[1;30;43me\u001b[m\u001b[1;30;43mx\u001b[m\u001b[1;30;43mc\u001b[m\u001b[1;30;43me\u001b[m\u001b[1;30;43mp\u001b[m\u001b[1;30;43mt\u001b[m\u001b[1;30;43m \u001b[m\u001b[1;30;43mt\u001b[m\u001b[1;30;43mh\u001b[m\u001b[1;30;43me\u001b[m\u001b[1;30;43m \u001b[m\u001b[1;30;43mr\u001b[m\u001b[1;30;43mo\u001b[m\u001b[1;30;43mo\u001b[m\u001b[1;30;43mt\u001b[m\u001b[1;30;43m,\u001b[m\u001b[1;30;43m \u001b[m\u001b[1;30;43mw\u001b[m\u001b[1;30;43mh\u001b[m\u001b[1;30;43mi\u001b[m\u001b[1;30;43mc\u001b[m\u001b[1;30;43mh\u001b[m\u001b[1;30;43m \u001b[m\u001b[1;30;43mh\u001b[m\u001b[1;30;43ma\u001b[m\u001b[1;30;43ms\u001b[m\u001b[1;30;43m \u001b[m\u001b[1;30;43mn\u001b[m\u001b[1;30;43mo\u001b[m\u001b[1;30;43mn\u001b[m\u001b[1;30;43me\u001b[m\u001b[1;30;43m)\u001b[m\u001b[1;30;43m.\u001b[m\u001b[1;30;43m \u001b[m\u001b[1;30;43mT\u001b[m\u001b[1;30;43mo\u001b[m\u001b[1;30;43m \u001b[m\u001b[1;30;43ml\u001b[m\u001b[1;30;43me\u001b[m\u001b[1;30;43ma\u001b[m\u001b[1;30;43mr\u001b[m\u001b[1;30;43mn\u001b[m\u001b[1;30;43m \u001b[m\u001b[1;30;43mm\u001b[m\u001b[1;30;43mo\u001b[m\u001b[1;30;43mr\u001b[m\u001b[1;30;43me\u001b[m\u001b[1;30;43m,\u001b[m\u001b[1;30;43m \u001b[m\u001b[1;30;43mv\u001b[m\u001b[1;30;43mi\u001b[m\u001b[1;30;43ms\u001b[m\u001b[1;30;43mi\u001b[m\u001b[1;30;43mt\u001b[m\u001b[1;30;43m \u001b[m\u001b[1;30;43mw\u001b[m\u001b[1;30;43mw\u001b[m\u001b[1;30;43mw\u001b[m\u001b[1;30;43m.\u001b[m\u001b[1;30;43me\u001b[m\u001b[1;30;43mx\u001b[m\u001b[1;30;43ma\u001b[m\u001b[1;30;43mm\u001b[m\u001b[1;30;43mp\u001b[m\u001b[1;30;43ml\u001b[m\u001b[1;30;43me\u001b[m\u001b[1;30;43m.\u001b[m\u001b[1;30;43mc\u001b[m\u001b[1;30;43mo\u001b[m\u001b[1;30;43mm\u001b[m\u001b[1;30;43m \u001b[m\u001b[1;30;43mo\u001b[m\u001b[1;30;43mr\u001b[m\u001b[1;30;43m \u001b[m\u001b[1;30;43mc\u001b[m\u001b[1;30;43ma\u001b[m\u001b[1;30;43ml\u001b[m\u001b[1;30;43ml\u001b[m\u001b[1;30;43m \u001b[m\u001b[1;30;43m1\u001b[m\u001b[1;30;43m-\u001b[m\u001b[1;30;43m6\u001b[m\u001b[1;30;43m0\u001b[m\u001b[1;30;43m8\u001b[m\u001b[1;30;43m-\u001b[m\u001b[1;30;43m1\u001b[m\u001b[1;30;43m2\u001b[m\u001b[1;30;43m3\u001b[m\u001b[1;30;43m-\u001b[m\u001b[1;30;43m4\u001b[m\u001b[1;30;43m5\u001b[m\u001b[1;30;43m6\u001b[m\u001b[1;30;43m7\u001b[m\u001b[1;30;43m.\u001b[m\u001b[1;30;43m \u001b[m\u001b[1;30;43m:\u001b[m\u001b[1;30;43m)\u001b[m\u001b[1;30;43m \u001b[m\u001b[1;30;43m¯\u001b[m\u001b[1;30;43m\\\u001b[m\u001b[1;30;43m_\u001b[m\u001b[1;30;43m(\u001b[m\u001b[1;30;43mツ\u001b[m\u001b[1;30;43m)\u001b[m\u001b[1;30;43m_\u001b[m\u001b[1;30;43m/\u001b[m\u001b[1;30;43m¯\u001b[m\n"
     ]
    }
   ],
   "source": [
    "reg(r\".\", s1) # match anything EXCEPT a newline"
   ]
  },
  {
   "cell_type": "code",
   "execution_count": 28,
   "metadata": {},
   "outputs": [
    {
     "name": "stdout",
     "output_type": "stream",
     "text": [
      "A DAG is a directed graph without cycles. A tree is a DAG where every node has one parent (except the root, which has none). To learn more, visit \u001b[1;30;43mwww\u001b[m.example.com or call 1-608-123-4567. :) ¯\\_(ツ)_/¯\n"
     ]
    }
   ],
   "source": [
    "reg(r\"www\", s1)"
   ]
  },
  {
   "cell_type": "code",
   "execution_count": 29,
   "metadata": {},
   "outputs": [
    {
     "name": "stdout",
     "output_type": "stream",
     "text": [
      "A DAG is a directed graph without cycles. A tree is a DAG where every node has one parent (except the root, which has none). To learn more, visit \u001b[1;30;43mwww\u001b[m.example.com or call 1-608-123-4567. :) ¯\\_(ツ)_/¯\n"
     ]
    }
   ],
   "source": [
    "reg(r\"w{3}\", s1)"
   ]
  },
  {
   "cell_type": "code",
   "execution_count": 30,
   "metadata": {},
   "outputs": [
    {
     "name": "stdout",
     "output_type": "stream",
     "text": [
      "A DAG is a directed graph without cycles. A tree is a DAG where every node has one parent (except the root, which has none). To learn more, visit \u001b[1;30;43mww\u001b[mw.example.com or call 1-608-123-4567. :) ¯\\_(ツ)_/¯\n"
     ]
    }
   ],
   "source": [
    "reg(r\"w{2}\", s1) # RULE: no overlapping matches"
   ]
  },
  {
   "cell_type": "code",
   "execution_count": 32,
   "metadata": {},
   "outputs": [
    {
     "name": "stdout",
     "output_type": "stream",
     "text": [
      "A DAG is a directed graph \u001b[1;30;43mw\u001b[mithout cycles. A tree is a DAG \u001b[1;30;43mw\u001b[mhere every node has one parent (except the root, \u001b[1;30;43mw\u001b[mhich has none). To learn more, visit \u001b[1;30;43mwww\u001b[m.example.com or call 1-608-123-4567. :) ¯\\_(ツ)_/¯\n"
     ]
    }
   ],
   "source": [
    "# + means one or more   (prefers more -- \"greedy\" operator)\n",
    "# * means zero or more  (prefers more)\n",
    "reg(r\"w+\", s1)"
   ]
  },
  {
   "cell_type": "code",
   "execution_count": 33,
   "metadata": {},
   "outputs": [
    {
     "name": "stdout",
     "output_type": "stream",
     "text": [
      "\u001b[1;30;43mA DAG is a directed graph without cycles. A tree is a DAG where every node has one parent (except the root, which has none). To learn more, visit www.example.com or call 1-608-123-4567. :) ¯\\_(ツ)_/¯\u001b[m\u001b[1;30;43m\u001b[m\n"
     ]
    }
   ],
   "source": [
    "# want everything between parens\n",
    "reg(r\"(.*)\", s1) # BAD"
   ]
  },
  {
   "cell_type": "code",
   "execution_count": 34,
   "metadata": {},
   "outputs": [
    {
     "name": "stdout",
     "output_type": "stream",
     "text": [
      "A DAG is a directed graph without cycles. A tree is a DAG where every node has one parent \u001b[1;30;43m(except the root, which has none). To learn more, visit www.example.com or call 1-608-123-4567. :) ¯\\_(ツ)\u001b[m_/¯\n"
     ]
    }
   ],
   "source": [
    "reg(r\"\\(.*\\)\", s1) # LESS BAD"
   ]
  },
  {
   "cell_type": "code",
   "execution_count": 35,
   "metadata": {},
   "outputs": [
    {
     "name": "stdout",
     "output_type": "stream",
     "text": [
      "A DAG is a directed graph without cycles. A tree is a DAG where every node has one parent \u001b[1;30;43m(except the root, which has none)\u001b[m. To learn more, visit www.example.com or call 1-608-123-4567. :) ¯\\_\u001b[1;30;43m(ツ)\u001b[m_/¯\n"
     ]
    }
   ],
   "source": [
    "# +? means one or more   (prefers less)\n",
    "# *? means zero or more  (prefers less)\n",
    "# ? means zero or one\n",
    "reg(r\"\\(.*?\\)\", s1) # GOOD"
   ]
  },
  {
   "cell_type": "code",
   "execution_count": 36,
   "metadata": {},
   "outputs": [],
   "source": [
    "# anchor\n",
    "# ^: beginning of string\n",
    "# $: end of string"
   ]
  },
  {
   "cell_type": "code",
   "execution_count": 42,
   "metadata": {},
   "outputs": [
    {
     "name": "stdout",
     "output_type": "stream",
     "text": [
      "\u001b[1;30;43mA DAG is a directed graph without cycles. A tree is a DAG where every node has one parent (except the root, which has none).\u001b[m To learn more, visit www.example.com or call 1-608-123-4567. :) ¯\\_(ツ)_/¯\n"
     ]
    }
   ],
   "source": [
    "# match the first two sentences\n",
    "\n",
    "# write good comments with regexes!!!\n",
    "reg(r\"^([^\\.]*\\.){2}\", s1)"
   ]
  },
  {
   "cell_type": "code",
   "execution_count": 44,
   "metadata": {},
   "outputs": [
    {
     "name": "stdout",
     "output_type": "stream",
     "text": [
      "\u001b[1;30;43m1-608-123-4567\u001b[m\n",
      "a-bcd-efg-hijg (not a phone number)\n",
      "1-608-123-456 (not a phone number)\n",
      "608-123-4567\n",
      "123-4567\n",
      "\n"
     ]
    }
   ],
   "source": [
    "reg(r\"\\d-\\d{3}-\\d{3}-\\d{4}\", s2)"
   ]
  },
  {
   "cell_type": "code",
   "execution_count": 45,
   "metadata": {},
   "outputs": [
    {
     "name": "stdout",
     "output_type": "stream",
     "text": [
      "\u001b[1;30;43m1-608-123-4567\u001b[m\n",
      "a-bcd-efg-hijg (not a phone number)\n",
      "1-608-123-456 (not a phone number)\n",
      "\u001b[1;30;43m608-123-4567\u001b[m\n",
      "\u001b[1;30;43m123-4567\u001b[m\n",
      "\n"
     ]
    }
   ],
   "source": [
    "reg(r\"(\\d-)?(\\d{3}-)?\\d{3}-\\d{4}\", s2)"
   ]
  },
  {
   "cell_type": "code",
   "execution_count": null,
   "metadata": {},
   "outputs": [],
   "source": [
    "# TODO: handle no dashes\n",
    "reg(r\"(\\d-)?(\\d{3}-)?\\d{3}-\\d{4}\", s2)"
   ]
  },
  {
   "cell_type": "code",
   "execution_count": 46,
   "metadata": {},
   "outputs": [
    {
     "name": "stdout",
     "output_type": "stream",
     "text": [
      "\u001b[1;30;43m1-123-4567\u001b[m\n"
     ]
    }
   ],
   "source": [
    "reg(r\"(\\d-)?(\\d{3}-)?\\d{3}-\\d{4}\", \"1-123-4567\")"
   ]
  },
  {
   "cell_type": "code",
   "execution_count": 47,
   "metadata": {},
   "outputs": [
    {
     "name": "stdout",
     "output_type": "stream",
     "text": [
      "1-\u001b[1;30;43m123-4567\u001b[m\n"
     ]
    }
   ],
   "source": [
    "reg(r\"((\\d-)?\\d{3}-)?\\d{3}-\\d{4}\", \"1-123-4567\")"
   ]
  },
  {
   "cell_type": "code",
   "execution_count": 48,
   "metadata": {},
   "outputs": [
    {
     "name": "stdout",
     "output_type": "stream",
     "text": [
      "\u001b[1;30;43m1-608-123-4567\u001b[m\n",
      "a-bcd-efg-hijg (not a phone number)\n",
      "1-608-123-456 (not a phone number)\n",
      "\u001b[1;30;43m608-123-4567\u001b[m\n",
      "\u001b[1;30;43m123-4567\u001b[m\n",
      "\n"
     ]
    }
   ],
   "source": [
    "reg(r\"((\\d-)?\\d{3}-)?\\d{3}-\\d{4}\", s2)"
   ]
  },
  {
   "cell_type": "markdown",
   "metadata": {},
   "source": [
    "# re.findall and re.sub"
   ]
  },
  {
   "cell_type": "code",
   "execution_count": 49,
   "metadata": {},
   "outputs": [],
   "source": [
    "import re"
   ]
  },
  {
   "cell_type": "code",
   "execution_count": 52,
   "metadata": {},
   "outputs": [
    {
     "name": "stdout",
     "output_type": "stream",
     "text": [
      "In CS 320, there are 14 quizzes, 7 projects, 41 lectures, and 1000 things to learn.  CS 320 is awesome!\n"
     ]
    }
   ],
   "source": [
    "print(s3)"
   ]
  },
  {
   "cell_type": "code",
   "execution_count": 53,
   "metadata": {},
   "outputs": [
    {
     "data": {
      "text/plain": [
       "['3', '2', '0', '1', '4', '7', '4', '1', '1', '0', '0', '0', '3', '2', '0']"
      ]
     },
     "execution_count": 53,
     "metadata": {},
     "output_type": "execute_result"
    }
   ],
   "source": [
    "# example 1: can we extract info about a course to a dict\n",
    "re.findall(r\"\\d\", s3)"
   ]
  },
  {
   "cell_type": "code",
   "execution_count": 56,
   "metadata": {},
   "outputs": [
    {
     "data": {
      "text/plain": [
       "['320', '14', '7', '41', '1000', '320']"
      ]
     },
     "execution_count": 56,
     "metadata": {},
     "output_type": "execute_result"
    }
   ],
   "source": [
    "re.findall(r\"\\d+\", s3)"
   ]
  },
  {
   "cell_type": "code",
   "execution_count": 61,
   "metadata": {},
   "outputs": [
    {
     "data": {
      "text/plain": [
       "{'quizzes': 14, 'projects': 7, 'lectures': 41, 'things': 1000, 'is': 320}"
      ]
     },
     "execution_count": 61,
     "metadata": {},
     "output_type": "execute_result"
    }
   ],
   "source": [
    "d = {}\n",
    "for num, name in re.findall(r\"(\\d+) (\\w+)\", s3):\n",
    "    d[name] = int(num)\n",
    "d"
   ]
  },
  {
   "cell_type": "code",
   "execution_count": 62,
   "metadata": {},
   "outputs": [
    {
     "name": "stdout",
     "output_type": "stream",
     "text": [
      "In CS 320, there are 14 quizzes, 7 projects, 41 lectures, and 1000 things to learn.  CS 320 is awesome!\n"
     ]
    }
   ],
   "source": [
    "# example 2: make all the numbers bold (in HTML, using <b>)\n",
    "print(s3)"
   ]
  },
  {
   "cell_type": "code",
   "execution_count": 63,
   "metadata": {},
   "outputs": [
    {
     "data": {
      "text/plain": [
       "'In CS ###, there are ### quizzes, ### projects, ### lectures, and ### things to learn.  CS ### is awesome!'"
      ]
     },
     "execution_count": 63,
     "metadata": {},
     "output_type": "execute_result"
    }
   ],
   "source": [
    "re.sub(\"\\d+\", \"###\", s3)"
   ]
  },
  {
   "cell_type": "code",
   "execution_count": 64,
   "metadata": {},
   "outputs": [
    {
     "data": {
      "text/plain": [
       "'In CS 320, there are 14 quizzes, 7 projects, 41 lectures, and 1000 things to learn.  CS 320 is awesome!'"
      ]
     },
     "execution_count": 64,
     "metadata": {},
     "output_type": "execute_result"
    }
   ],
   "source": [
    "re.sub(\"(\\d+)\", \"\\g<1>\", s3)"
   ]
  },
  {
   "cell_type": "code",
   "execution_count": 70,
   "metadata": {},
   "outputs": [
    {
     "data": {
      "text/plain": [
       "'In CS 320!, there are 14! quizzes, 7! projects, 41! lectures, and 1000! things to learn.  CS 320! is awesome!'"
      ]
     },
     "execution_count": 70,
     "metadata": {},
     "output_type": "execute_result"
    }
   ],
   "source": [
    "re.sub(\"(\\d+)\", \"\\g<1>!\", s3)"
   ]
  },
  {
   "cell_type": "code",
   "execution_count": 68,
   "metadata": {},
   "outputs": [
    {
     "data": {
      "text/plain": [
       "'In CS <b>320</b>, there are <b>14</b> quizzes, <b>7</b> projects, <b>41</b> lectures, and <b>1000</b> things to learn.  CS <b>320</b> is awesome!'"
      ]
     },
     "execution_count": 68,
     "metadata": {},
     "output_type": "execute_result"
    }
   ],
   "source": [
    "html_str = re.sub(\"(\\d+)\", \"<b>\\g<1></b>\", s3)\n",
    "html_str"
   ]
  },
  {
   "cell_type": "code",
   "execution_count": 69,
   "metadata": {},
   "outputs": [
    {
     "data": {
      "text/html": [
       "In CS <b>320</b>, there are <b>14</b> quizzes, <b>7</b> projects, <b>41</b> lectures, and <b>1000</b> things to learn.  CS <b>320</b> is awesome!"
      ],
      "text/plain": [
       "<IPython.core.display.HTML object>"
      ]
     },
     "execution_count": 69,
     "metadata": {},
     "output_type": "execute_result"
    }
   ],
   "source": [
    "from IPython.core.display import display, HTML\n",
    "HTML(html_str)"
   ]
  },
  {
   "cell_type": "code",
   "execution_count": null,
   "metadata": {},
   "outputs": [],
   "source": []
  }
 ],
 "metadata": {
  "kernelspec": {
   "display_name": "Python 3 (ipykernel)",
   "language": "python",
   "name": "python3"
  },
  "language_info": {
   "codemirror_mode": {
    "name": "ipython",
    "version": 3
   },
   "file_extension": ".py",
   "mimetype": "text/x-python",
   "name": "python",
   "nbconvert_exporter": "python",
   "pygments_lexer": "ipython3",
   "version": "3.8.10"
  }
 },
 "nbformat": 4,
 "nbformat_minor": 2
}
