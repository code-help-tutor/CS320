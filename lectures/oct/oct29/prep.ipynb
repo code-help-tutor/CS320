{
 "cells": [
  {
   "cell_type": "markdown",
   "metadata": {},
   "source": [
    "## Regular Expressions"
   ]
  },
  {
   "cell_type": "code",
   "execution_count": 1,
   "metadata": {},
   "outputs": [],
   "source": [
    "import re\n",
    "\n",
    "# from DS100 book...\n",
    "def reg(regex, text):\n",
    "    \"\"\"\n",
    "    Prints the string with the regex match highlighted.\n",
    "    \"\"\"\n",
    "    print(re.sub(f'({regex})', r'\\033[1;30;43m\\1\\033[m', text))"
   ]
  },
  {
   "cell_type": "code",
   "execution_count": 59,
   "metadata": {},
   "outputs": [
    {
     "name": "stdout",
     "output_type": "stream",
     "text": [
      "A DAG is a directed graph without cycles. A tree is a DAG where every node has one parent (except the root, which has none). To learn more, visit www.example.com or call 1-608-123-4567. :) ¯\\_(ツ)_/¯\n"
     ]
    }
   ],
   "source": [
    "s1 = \" \".join([\"A DAG is a directed graph without cycles.\",\n",
    "               \"A tree is a DAG where every node has one parent (except the root, which has none).\",\n",
    "               \"To learn more, visit www.example.com or call 1-608-123-4567. :) ¯\\_(ツ)_/¯\"])\n",
    "print(s1)"
   ]
  },
  {
   "cell_type": "code",
   "execution_count": 3,
   "metadata": {},
   "outputs": [
    {
     "name": "stdout",
     "output_type": "stream",
     "text": [
      "1-608-123-4567\n",
      "a-bcd-efg-hijg (not a phone number)\n",
      "1-608-123-456 (not a phone number)\n",
      "608-123-4567\n",
      "123-4567\n",
      "\n"
     ]
    }
   ],
   "source": [
    "s2 = \"\"\"1-608-123-4567\n",
    "a-bcd-efg-hijg (not a phone number)\n",
    "1-608-123-456 (not a phone number)\n",
    "608-123-4567\n",
    "123-4567\n",
    "\"\"\"\n",
    "print(s2)"
   ]
  },
  {
   "cell_type": "code",
   "execution_count": 4,
   "metadata": {},
   "outputs": [
    {
     "data": {
      "text/plain": [
       "'In CS 320, there are 14 quizzes, 7 projects, 41 lectures, and 1000 things to learn.  CS 320 is awesome!'"
      ]
     },
     "execution_count": 4,
     "metadata": {},
     "output_type": "execute_result"
    }
   ],
   "source": [
    "s3 = \"In CS 320, there are 14 quizzes, 7 projects, 41 lectures, and 1000 things to learn.  CS 320 is awesome!\"\n",
    "s3"
   ]
  },
  {
   "cell_type": "code",
   "execution_count": 5,
   "metadata": {},
   "outputs": [
    {
     "name": "stdout",
     "output_type": "stream",
     "text": [
      "In CS 320,  there are 14 quizzes,    7 projects,\n",
      "41 lectures, and 1000 things to learn.  CS 320 is awesome!\n"
     ]
    }
   ],
   "source": [
    "s4 = \"\"\"In CS 320,  there are 14 quizzes,    7 projects,\n",
    "41 lectures, and 1000 things to learn.  CS 320 is awesome!\"\"\"\n",
    "print(s4)"
   ]
  },
  {
   "cell_type": "code",
   "execution_count": 58,
   "metadata": {},
   "outputs": [
    {
     "name": "stdout",
     "output_type": "stream",
     "text": [
      "¯\\_(ツ)_/¯\n"
     ]
    }
   ],
   "source": [
    "s0 = \"\"\n",
    "print(s0)"
   ]
  },
  {
   "cell_type": "code",
   "execution_count": 62,
   "metadata": {},
   "outputs": [
    {
     "name": "stdout",
     "output_type": "stream",
     "text": [
      "A DAG is a directed graph without cycles. A tree is a DAG where every node has one parent (except the root, which has none). To learn more, visit www.example.com or call 1-608-123-4567. :) \u001b[1;30;43m¯\\_(ツ)_/¯\u001b[m\n"
     ]
    }
   ],
   "source": [
    "reg(r\"[^\\s]+$\", s1)"
   ]
  },
  {
   "cell_type": "code",
   "execution_count": 67,
   "metadata": {},
   "outputs": [
    {
     "name": "stdout",
     "output_type": "stream",
     "text": [
      "1-60\u001b[1;30;43m8-123-4567\u001b[m\n",
      "a-bcd-efg-hijg (not a phone number)\n",
      "1-608-123-456 (not a phone number)\n",
      "60\u001b[1;30;43m8-123-4567\u001b[m\n",
      "\u001b[1;30;43m123-4567\u001b[m\n",
      "\n"
     ]
    }
   ],
   "source": [
    "reg(r\"(\\d-)?(d{3}-)?\\d{3}-\\d{4}\", s2)"
   ]
  },
  {
   "cell_type": "code",
   "execution_count": 68,
   "metadata": {},
   "outputs": [
    {
     "ename": "FileNotFoundError",
     "evalue": "[Errno 2] No such file or directory: '/usr/share/dict/words'",
     "output_type": "error",
     "traceback": [
      "\u001b[0;31m---------------------------------------------------------------------------\u001b[0m",
      "\u001b[0;31mFileNotFoundError\u001b[0m                         Traceback (most recent call last)",
      "\u001b[0;32m/tmp/ipykernel_164300/2659945594.py\u001b[0m in \u001b[0;36m<module>\u001b[0;34m\u001b[0m\n\u001b[0;32m----> 1\u001b[0;31m \u001b[0;32mwith\u001b[0m \u001b[0mopen\u001b[0m\u001b[0;34m(\u001b[0m\u001b[0;34m\"/usr/share/dict/words\"\u001b[0m\u001b[0;34m)\u001b[0m \u001b[0;32mas\u001b[0m \u001b[0mf\u001b[0m\u001b[0;34m:\u001b[0m\u001b[0;34m\u001b[0m\u001b[0;34m\u001b[0m\u001b[0m\n\u001b[0m\u001b[1;32m      2\u001b[0m     \u001b[0mprint\u001b[0m\u001b[0;34m(\u001b[0m\u001b[0mlist\u001b[0m\u001b[0;34m(\u001b[0m\u001b[0mf\u001b[0m\u001b[0;34m)\u001b[0m\u001b[0;34m[\u001b[0m\u001b[0;34m:\u001b[0m\u001b[0;36m10\u001b[0m\u001b[0;34m]\u001b[0m\u001b[0;34m)\u001b[0m\u001b[0;34m\u001b[0m\u001b[0;34m\u001b[0m\u001b[0m\n",
      "\u001b[0;31mFileNotFoundError\u001b[0m: [Errno 2] No such file or directory: '/usr/share/dict/words'"
     ]
    }
   ],
   "source": [
    "with open(\"/usr/share/dict/words\") as f:\n",
    "    print(list(f)[:10])"
   ]
  },
  {
   "cell_type": "code",
   "execution_count": 74,
   "metadata": {},
   "outputs": [],
   "source": [
    "!readlink /usr/share/dict"
   ]
  }
 ],
 "metadata": {
  "kernelspec": {
   "display_name": "Python 3 (ipykernel)",
   "language": "python",
   "name": "python3"
  },
  "language_info": {
   "codemirror_mode": {
    "name": "ipython",
    "version": 3
   },
   "file_extension": ".py",
   "mimetype": "text/x-python",
   "name": "python",
   "nbconvert_exporter": "python",
   "pygments_lexer": "ipython3",
   "version": "3.8.10"
  }
 },
 "nbformat": 4,
 "nbformat_minor": 2
}
