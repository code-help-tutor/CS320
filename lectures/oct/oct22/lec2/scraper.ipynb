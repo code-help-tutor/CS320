{
 "cells": [
  {
   "cell_type": "code",
   "execution_count": 1,
   "id": "f1b9dcad",
   "metadata": {},
   "outputs": [
    {
     "data": {
      "text/plain": [
       "<urllib.robotparser.RobotFileParser at 0x7fcbf0578b50>"
      ]
     },
     "execution_count": 1,
     "metadata": {},
     "output_type": "execute_result"
    }
   ],
   "source": [
    "import urllib.robotparser\n",
    "rp = urllib.robotparser.RobotFileParser()\n",
    "rp"
   ]
  },
  {
   "cell_type": "code",
   "execution_count": 2,
   "id": "5903ae63",
   "metadata": {},
   "outputs": [],
   "source": [
    "rp.set_url(\"http://104.154.180.165:5000/robots.txt\")"
   ]
  },
  {
   "cell_type": "code",
   "execution_count": 3,
   "id": "8324d1bc",
   "metadata": {},
   "outputs": [],
   "source": [
    "rp.read()"
   ]
  },
  {
   "cell_type": "code",
   "execution_count": 5,
   "id": "1a9a75a5",
   "metadata": {},
   "outputs": [
    {
     "data": {
      "text/plain": [
       "True"
      ]
     },
     "execution_count": 5,
     "metadata": {},
     "output_type": "execute_result"
    }
   ],
   "source": [
    "url = \"http://104.154.180.165:5000/\"\n",
    "rp.can_fetch(\"cs320bot\", url)"
   ]
  },
  {
   "cell_type": "code",
   "execution_count": 6,
   "id": "be39276b",
   "metadata": {},
   "outputs": [
    {
     "data": {
      "text/plain": [
       "False"
      ]
     },
     "execution_count": 6,
     "metadata": {},
     "output_type": "execute_result"
    }
   ],
   "source": [
    "url = \"http://104.154.180.165:5000/donotvisit\"\n",
    "rp.can_fetch(\"cs320bot\", url)"
   ]
  }
 ],
 "metadata": {
  "kernelspec": {
   "display_name": "Python 3 (ipykernel)",
   "language": "python",
   "name": "python3"
  },
  "language_info": {
   "codemirror_mode": {
    "name": "ipython",
    "version": 3
   },
   "file_extension": ".py",
   "mimetype": "text/x-python",
   "name": "python",
   "nbconvert_exporter": "python",
   "pygments_lexer": "ipython3",
   "version": "3.8.10"
  }
 },
 "nbformat": 4,
 "nbformat_minor": 5
}
