{
 "cells": [
  {
   "cell_type": "code",
   "execution_count": 1,
   "id": "67810513",
   "metadata": {},
   "outputs": [
    {
     "name": "stdout",
     "output_type": "stream",
     "text": [
      "Untitled.ipynb   il.csv      lec2.ipynb  wi.csv\r\n",
      "Untitled1.ipynb  lec1.ipynb  \u001b[0m\u001b[01;31mstates.zip\u001b[0m\r\n"
     ]
    }
   ],
   "source": [
    "ls"
   ]
  },
  {
   "cell_type": "code",
   "execution_count": 2,
   "id": "dd62e3d5",
   "metadata": {},
   "outputs": [
    {
     "name": "stderr",
     "output_type": "stream",
     "text": [
      "/home/trh/.local/lib/python3.8/site-packages/IPython/core/interactiveshell.py:3441: DtypeWarning: Columns (22,23,24,26,27,28,29,30,31,32,33,38,43,44) have mixed types.Specify dtype option on import or set low_memory=False.\n",
      "  exec(code_obj, self.user_global_ns, self.user_ns)\n"
     ]
    }
   ],
   "source": [
    "import pandas as pd\n",
    "import zipfile\n",
    "\n",
    "z = zipfile.ZipFile(\"states.zip\")\n",
    "\n",
    "f = z.open(\"wi.csv\")\n",
    "df = pd.read_csv(f)\n",
    "f.close()\n",
    "\n",
    "z.close()"
   ]
  },
  {
   "cell_type": "code",
   "execution_count": 3,
   "id": "9ca8ba32",
   "metadata": {},
   "outputs": [],
   "source": [
    "df2 = df"
   ]
  },
  {
   "cell_type": "code",
   "execution_count": 4,
   "id": "8d1748e7",
   "metadata": {},
   "outputs": [],
   "source": [
    "df = None"
   ]
  },
  {
   "cell_type": "code",
   "execution_count": 5,
   "id": "178679a0",
   "metadata": {},
   "outputs": [],
   "source": [
    "df2 = [1,2,3]"
   ]
  },
  {
   "cell_type": "code",
   "execution_count": 10,
   "id": "cbb8d94b",
   "metadata": {},
   "outputs": [],
   "source": [
    "import csv\n",
    "import io # input/output\n",
    "\n",
    "z = zipfile.ZipFile(\"states.zip\")\n",
    "f = z.open(\"wi.csv\")\n",
    "reader = csv.DictReader(io.TextIOWrapper(f, \"utf-8\"))\n",
    "total = 0\n",
    "for row in reader:\n",
    "    if row[\"income\"].isdigit():\n",
    "        total += int(row[\"income\"])\n",
    "f.close()\n",
    "z.close()"
   ]
  },
  {
   "cell_type": "code",
   "execution_count": 11,
   "id": "14f06dee",
   "metadata": {},
   "outputs": [
    {
     "ename": "TypeError",
     "evalue": "unsupported operand type(s) for +: 'int' and 'str'",
     "output_type": "error",
     "traceback": [
      "\u001b[0;31m---------------------------------------------------------------------------\u001b[0m",
      "\u001b[0;31mTypeError\u001b[0m                                 Traceback (most recent call last)",
      "\u001b[0;32m/tmp/ipykernel_16366/1457630107.py\u001b[0m in \u001b[0;36m<module>\u001b[0;34m\u001b[0m\n\u001b[1;32m     14\u001b[0m \u001b[0;34m\u001b[0m\u001b[0m\n\u001b[1;32m     15\u001b[0m \u001b[0mincomes\u001b[0m \u001b[0;34m=\u001b[0m \u001b[0mget_incomes\u001b[0m\u001b[0;34m(\u001b[0m\u001b[0;34m)\u001b[0m\u001b[0;34m\u001b[0m\u001b[0;34m\u001b[0m\u001b[0m\n\u001b[0;32m---> 16\u001b[0;31m \u001b[0msum\u001b[0m\u001b[0;34m(\u001b[0m\u001b[0mincomes\u001b[0m\u001b[0;34m)\u001b[0m\u001b[0;34m/\u001b[0m\u001b[0mlen\u001b[0m\u001b[0;34m(\u001b[0m\u001b[0mincomes\u001b[0m\u001b[0;34m)\u001b[0m\u001b[0;34m\u001b[0m\u001b[0;34m\u001b[0m\u001b[0m\n\u001b[0m",
      "\u001b[0;31mTypeError\u001b[0m: unsupported operand type(s) for +: 'int' and 'str'"
     ]
    }
   ],
   "source": [
    "def get_incomes():\n",
    "    incomes = []\n",
    "    \n",
    "    z = zipfile.ZipFile(\"states.zip\")\n",
    "    f = z.open(\"wi.csv\")\n",
    "    reader = csv.DictReader(io.TextIOWrapper(f, \"utf-8\"))\n",
    "    for row in reader:\n",
    "        if row[\"income\"].isdigit():\n",
    "            incomes.append(row[\"income\"])\n",
    "    f.close()\n",
    "    z.close()\n",
    "    \n",
    "    return incomes\n",
    "\n",
    "incomes = get_incomes()\n",
    "sum(incomes)/len(incomes)"
   ]
  },
  {
   "cell_type": "code",
   "execution_count": 15,
   "id": "d04007b8",
   "metadata": {},
   "outputs": [
    {
     "data": {
      "text/plain": [
       "223.1055876830441"
      ]
     },
     "execution_count": 15,
     "metadata": {},
     "output_type": "execute_result"
    }
   ],
   "source": [
    "# generator: uses yield instead of return\n",
    "\n",
    "def get_incomes():\n",
    "    z = zipfile.ZipFile(\"states.zip\")\n",
    "    f = z.open(\"il.csv\")\n",
    "    reader = csv.DictReader(io.TextIOWrapper(f, \"utf-8\"))\n",
    "    for row in reader:\n",
    "        if row[\"income\"].isdigit():\n",
    "            yield int(row[\"income\"])\n",
    "    f.close()\n",
    "    z.close()\n",
    "\n",
    "total = 0\n",
    "count = 0\n",
    "for x in get_incomes():\n",
    "    total += x\n",
    "    count += 1\n",
    "total / count"
   ]
  },
  {
   "cell_type": "code",
   "execution_count": 18,
   "id": "d5ea8bf8",
   "metadata": {},
   "outputs": [
    {
     "data": {
      "text/plain": [
       "98"
      ]
     },
     "execution_count": 18,
     "metadata": {},
     "output_type": "execute_result"
    }
   ],
   "source": [
    "incomes = list(get_incomes())\n",
    "incomes[-1]"
   ]
  },
  {
   "cell_type": "code",
   "execution_count": 19,
   "id": "0c5214fb",
   "metadata": {},
   "outputs": [
    {
     "data": {
      "text/plain": [
       "97"
      ]
     },
     "execution_count": 19,
     "metadata": {},
     "output_type": "execute_result"
    }
   ],
   "source": [
    "incomes.sort()\n",
    "incomes[len(incomes)//2]"
   ]
  }
 ],
 "metadata": {
  "kernelspec": {
   "display_name": "Python 3 (ipykernel)",
   "language": "python",
   "name": "python3"
  },
  "language_info": {
   "codemirror_mode": {
    "name": "ipython",
    "version": 3
   },
   "file_extension": ".py",
   "mimetype": "text/x-python",
   "name": "python",
   "nbconvert_exporter": "python",
   "pygments_lexer": "ipython3",
   "version": "3.8.10"
  }
 },
 "nbformat": 4,
 "nbformat_minor": 5
}
