{
 "cells": [
  {
   "cell_type": "code",
   "execution_count": 1,
   "id": "95c1561e",
   "metadata": {
    "scrolled": true
   },
   "outputs": [
    {
     "name": "stdout",
     "output_type": "stream",
     "text": [
      "Untitled.ipynb  Untitled1.ipynb  il.csv  lec1.ipynb  \u001b[0m\u001b[01;31mstates.zip\u001b[0m  wi.csv\r\n"
     ]
    }
   ],
   "source": [
    "ls"
   ]
  },
  {
   "cell_type": "code",
   "execution_count": 2,
   "id": "d05f5ec2",
   "metadata": {},
   "outputs": [],
   "source": [
    "import pandas as pd\n",
    "import zipfile"
   ]
  },
  {
   "cell_type": "code",
   "execution_count": 3,
   "id": "a02194a1",
   "metadata": {},
   "outputs": [
    {
     "name": "stderr",
     "output_type": "stream",
     "text": [
      "/home/trh/.local/lib/python3.8/site-packages/IPython/core/interactiveshell.py:3441: DtypeWarning: Columns (22,23,24,26,27,28,29,30,31,32,33,38,43,44) have mixed types.Specify dtype option on import or set low_memory=False.\n",
      "  exec(code_obj, self.user_global_ns, self.user_ns)\n"
     ]
    }
   ],
   "source": [
    "z = zipfile.ZipFile(\"states.zip\")\n",
    "\n",
    "f = z.open(\"wi.csv\")\n",
    "df = pd.read_csv(f)\n",
    "f.close()\n",
    "\n",
    "z.close()"
   ]
  },
  {
   "cell_type": "code",
   "execution_count": 4,
   "id": "15b244be",
   "metadata": {},
   "outputs": [],
   "source": [
    "df2 = df"
   ]
  },
  {
   "cell_type": "code",
   "execution_count": 5,
   "id": "6a17051d",
   "metadata": {},
   "outputs": [],
   "source": [
    "df = None"
   ]
  },
  {
   "cell_type": "code",
   "execution_count": 6,
   "id": "c2092b13",
   "metadata": {},
   "outputs": [],
   "source": [
    "df2 = [1,2,3]"
   ]
  },
  {
   "cell_type": "code",
   "execution_count": 11,
   "id": "20988b37",
   "metadata": {},
   "outputs": [],
   "source": [
    "import csv\n",
    "import io # input/output"
   ]
  },
  {
   "cell_type": "code",
   "execution_count": 16,
   "id": "608aaa3d",
   "metadata": {},
   "outputs": [],
   "source": [
    "z = zipfile.ZipFile(\"states.zip\")\n",
    "\n",
    "total = 0\n",
    "\n",
    "f = z.open(\"il.csv\")\n",
    "reader = csv.DictReader(io.TextIOWrapper(f, \"utf-8\"))\n",
    "for row in reader:\n",
    "    if row[\"income\"].isdigit():\n",
    "        total += int(row[\"income\"])\n",
    "f.close()\n",
    "\n",
    "z.close()"
   ]
  },
  {
   "cell_type": "code",
   "execution_count": 17,
   "id": "f4eb5699",
   "metadata": {},
   "outputs": [],
   "source": [
    "def get_incomes():\n",
    "    z = zipfile.ZipFile(\"states.zip\")\n",
    "\n",
    "    incomes = []\n",
    "\n",
    "    f = z.open(\"il.csv\")\n",
    "    reader = csv.DictReader(io.TextIOWrapper(f, \"utf-8\"))\n",
    "    for row in reader:\n",
    "        if row[\"income\"].isdigit():\n",
    "            incomes.append(row[\"income\"])\n",
    "    f.close()\n",
    "    z.close()\n",
    "    \n",
    "    return incomes\n",
    "\n",
    "incomes = get_incomes()\n",
    "sum(incomes) / len(incomes)"
   ]
  },
  {
   "cell_type": "code",
   "execution_count": null,
   "id": "3f4cea6f",
   "metadata": {},
   "outputs": [],
   "source": []
  },
  {
   "cell_type": "code",
   "execution_count": 22,
   "id": "1e00ee10",
   "metadata": {},
   "outputs": [
    {
     "data": {
      "text/plain": [
       "223.1055876830441"
      ]
     },
     "execution_count": 22,
     "metadata": {},
     "output_type": "execute_result"
    }
   ],
   "source": [
    "# generators: functions that use yield instead of return\n",
    "\n",
    "def get_incomes():\n",
    "    z = zipfile.ZipFile(\"states.zip\")\n",
    "\n",
    "    f = z.open(\"il.csv\")\n",
    "    reader = csv.DictReader(io.TextIOWrapper(f, \"utf-8\"))\n",
    "    for row in reader:\n",
    "        if row[\"income\"].isdigit():\n",
    "            yield int(row[\"income\"])\n",
    "    f.close()\n",
    "    z.close()\n",
    "\n",
    "total = 0\n",
    "count = 0\n",
    "for x in get_incomes():\n",
    "    total += x\n",
    "    count += 1\n",
    "total/count"
   ]
  },
  {
   "cell_type": "code",
   "execution_count": 25,
   "id": "83467d05",
   "metadata": {},
   "outputs": [],
   "source": [
    "incomes = list(get_incomes())"
   ]
  },
  {
   "cell_type": "code",
   "execution_count": 26,
   "id": "b7a4b1cf",
   "metadata": {},
   "outputs": [
    {
     "data": {
      "text/plain": [
       "97"
      ]
     },
     "execution_count": 26,
     "metadata": {},
     "output_type": "execute_result"
    }
   ],
   "source": [
    "incomes.sort()\n",
    "incomes[len(incomes)//2] # median"
   ]
  }
 ],
 "metadata": {
  "kernelspec": {
   "display_name": "Python 3 (ipykernel)",
   "language": "python",
   "name": "python3"
  },
  "language_info": {
   "codemirror_mode": {
    "name": "ipython",
    "version": 3
   },
   "file_extension": ".py",
   "mimetype": "text/x-python",
   "name": "python",
   "nbconvert_exporter": "python",
   "pygments_lexer": "ipython3",
   "version": "3.8.10"
  }
 },
 "nbformat": 4,
 "nbformat_minor": 5
}
