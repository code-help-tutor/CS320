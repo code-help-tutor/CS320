{
 "cells": [
  {
   "cell_type": "code",
   "execution_count": 42,
   "id": "f958cf8e",
   "metadata": {},
   "outputs": [],
   "source": [
    "from time import time # time.time()\n",
    "from subprocess import check_output"
   ]
  },
  {
   "cell_type": "code",
   "execution_count": 27,
   "id": "219cf9da",
   "metadata": {},
   "outputs": [
    {
     "data": {
      "text/plain": [
       "1631887338.9111617"
      ]
     },
     "execution_count": 27,
     "metadata": {},
     "output_type": "execute_result"
    }
   ],
   "source": [
    "time() # seconds since Jan 1st, 1970"
   ]
  },
  {
   "cell_type": "code",
   "execution_count": 39,
   "id": "98ca6481",
   "metadata": {},
   "outputs": [
    {
     "name": "stdout",
     "output_type": "stream",
     "text": [
      "0.024557113647460938\n"
     ]
    }
   ],
   "source": [
    "t0 = time()\n",
    "# DO SOMETHING\n",
    "t1 = time()\n",
    "print((t1-t0)*1e3) # milliseconds"
   ]
  },
  {
   "cell_type": "code",
   "execution_count": 40,
   "id": "f62b4cff",
   "metadata": {},
   "outputs": [
    {
     "name": "stdout",
     "output_type": "stream",
     "text": [
      "0.0762939453125\n"
     ]
    }
   ],
   "source": [
    "t0 = time()\n",
    "x = 3 + 5\n",
    "t1 = time()\n",
    "print((t1-t0)*1e3) # milliseconds"
   ]
  },
  {
   "cell_type": "code",
   "execution_count": 41,
   "id": "d94009e2",
   "metadata": {},
   "outputs": [
    {
     "name": "stdout",
     "output_type": "stream",
     "text": [
      "8\n",
      "1.201629638671875\n"
     ]
    }
   ],
   "source": [
    "t0 = time()\n",
    "print(3 + 5)\n",
    "t1 = time()\n",
    "print((t1-t0)*1e3) # milliseconds"
   ]
  },
  {
   "cell_type": "code",
   "execution_count": 48,
   "id": "2331d954",
   "metadata": {},
   "outputs": [
    {
     "name": "stdout",
     "output_type": "stream",
     "text": [
      "30.58314323425293\n"
     ]
    }
   ],
   "source": [
    "t0 = time()\n",
    "check_output([\"python3\", \"-c\", \"print(3+5)\"])\n",
    "t1 = time()\n",
    "print((t1-t0)*1e3) # milliseconds"
   ]
  },
  {
   "cell_type": "code",
   "execution_count": 52,
   "id": "b6aa79cc",
   "metadata": {},
   "outputs": [
    {
     "name": "stdout",
     "output_type": "stream",
     "text": [
      "9.601354598999023\n"
     ]
    }
   ],
   "source": [
    "t0 = time()\n",
    "check_output([\"pwd\"])\n",
    "t1 = time()\n",
    "print((t1-t0)*1e3) # milliseconds"
   ]
  },
  {
   "cell_type": "code",
   "execution_count": 62,
   "id": "57b8b3bf",
   "metadata": {},
   "outputs": [
    {
     "name": "stdout",
     "output_type": "stream",
     "text": [
      "4.475743770599365\n"
     ]
    }
   ],
   "source": [
    "sample_size = 100\n",
    "t0 = time()\n",
    "for i in range(sample_size):\n",
    "    check_output([\"pwd\"])\n",
    "t1 = time()\n",
    "print((t1-t0)/sample_size*1e3) # milliseconds"
   ]
  },
  {
   "cell_type": "code",
   "execution_count": 69,
   "id": "0c971fa0",
   "metadata": {},
   "outputs": [
    {
     "name": "stdout",
     "output_type": "stream",
     "text": [
      "0.06031990051269531\n"
     ]
    }
   ],
   "source": [
    "L = list(range(1000000))\n",
    "\n",
    "t0 = time()\n",
    "5 in L\n",
    "t1 = time()\n",
    "print((t1-t0)*1e3) # milliseconds"
   ]
  },
  {
   "cell_type": "code",
   "execution_count": 71,
   "id": "a6de2fc7",
   "metadata": {},
   "outputs": [
    {
     "name": "stdout",
     "output_type": "stream",
     "text": [
      "13.478279113769531\n"
     ]
    }
   ],
   "source": [
    "t0 = time()\n",
    "-1 in L\n",
    "t1 = time()\n",
    "print((t1-t0)*1e3) # milliseconds"
   ]
  },
  {
   "cell_type": "code",
   "execution_count": 73,
   "id": "496e9a40",
   "metadata": {},
   "outputs": [],
   "source": [
    "S = set(L)"
   ]
  },
  {
   "cell_type": "code",
   "execution_count": 75,
   "id": "defaaade",
   "metadata": {},
   "outputs": [
    {
     "name": "stdout",
     "output_type": "stream",
     "text": [
      "0.05054473876953125\n"
     ]
    }
   ],
   "source": [
    "t0 = time()\n",
    "5 in S\n",
    "t1 = time()\n",
    "print((t1-t0)*1e3) # milliseconds"
   ]
  },
  {
   "cell_type": "code",
   "execution_count": 76,
   "id": "576b8dec",
   "metadata": {},
   "outputs": [
    {
     "name": "stdout",
     "output_type": "stream",
     "text": [
      "0.09059906005859375\n"
     ]
    }
   ],
   "source": [
    "t0 = time()\n",
    "-1 in S\n",
    "t1 = time()\n",
    "print((t1-t0)*1e3) # milliseconds"
   ]
  }
 ],
 "metadata": {
  "kernelspec": {
   "display_name": "Python 3 (ipykernel)",
   "language": "python",
   "name": "python3"
  },
  "language_info": {
   "codemirror_mode": {
    "name": "ipython",
    "version": 3
   },
   "file_extension": ".py",
   "mimetype": "text/x-python",
   "name": "python",
   "nbconvert_exporter": "python",
   "pygments_lexer": "ipython3",
   "version": "3.8.10"
  }
 },
 "nbformat": 4,
 "nbformat_minor": 5
}
