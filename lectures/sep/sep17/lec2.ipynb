{
 "cells": [
  {
   "cell_type": "code",
   "execution_count": 1,
   "id": "0ec4331c",
   "metadata": {},
   "outputs": [],
   "source": [
    "#import time # time.time()\n",
    "from time import time\n",
    "from subprocess import check_output"
   ]
  },
  {
   "cell_type": "code",
   "execution_count": 2,
   "id": "2dac10a7",
   "metadata": {},
   "outputs": [
    {
     "data": {
      "text/plain": [
       "1631895481.898494"
      ]
     },
     "execution_count": 2,
     "metadata": {},
     "output_type": "execute_result"
    }
   ],
   "source": [
    "time() # number of seconds since Jan 1, 1970"
   ]
  },
  {
   "cell_type": "code",
   "execution_count": 3,
   "id": "f18c7b0d",
   "metadata": {},
   "outputs": [
    {
     "name": "stdout",
     "output_type": "stream",
     "text": [
      "0.04506111145019531\n"
     ]
    }
   ],
   "source": [
    "t0 = time()\n",
    "# DO SOMETHING\n",
    "t1 = time()\n",
    "print((t1-t0) * 1e3) # milliseconds"
   ]
  },
  {
   "cell_type": "code",
   "execution_count": 4,
   "id": "f7c03bdb",
   "metadata": {},
   "outputs": [
    {
     "name": "stdout",
     "output_type": "stream",
     "text": [
      "0.08678436279296875\n"
     ]
    }
   ],
   "source": [
    "t0 = time()\n",
    "x = 3 + 5\n",
    "t1 = time()\n",
    "print((t1-t0) * 1e3) # milliseconds"
   ]
  },
  {
   "cell_type": "code",
   "execution_count": 5,
   "id": "9b5e1e13",
   "metadata": {},
   "outputs": [
    {
     "name": "stdout",
     "output_type": "stream",
     "text": [
      "8\n",
      "1.214742660522461\n"
     ]
    }
   ],
   "source": [
    "t0 = time()\n",
    "print(3 + 5)\n",
    "t1 = time()\n",
    "print((t1-t0) * 1e3) # milliseconds"
   ]
  },
  {
   "cell_type": "code",
   "execution_count": 20,
   "id": "bdbcad25",
   "metadata": {},
   "outputs": [
    {
     "name": "stdout",
     "output_type": "stream",
     "text": [
      "30.739545822143555\n"
     ]
    }
   ],
   "source": [
    "t0 = time()\n",
    "check_output([\"python3\", \"-c\", \"print(3+5)\"])\n",
    "t1 = time()\n",
    "print((t1-t0) * 1e3) # milliseconds"
   ]
  },
  {
   "cell_type": "code",
   "execution_count": 25,
   "id": "8220eb3b",
   "metadata": {},
   "outputs": [
    {
     "name": "stdout",
     "output_type": "stream",
     "text": [
      "26.796400547027588\n"
     ]
    }
   ],
   "source": [
    "sample_size = 100\n",
    "t0 = time()\n",
    "for i in range(sample_size):\n",
    "    check_output([\"python3\", \"-c\", \"print(3+5)\"])\n",
    "t1 = time()\n",
    "print((t1-t0) / sample_size * 1e3) # milliseconds"
   ]
  },
  {
   "cell_type": "code",
   "execution_count": 28,
   "id": "bea13f31",
   "metadata": {},
   "outputs": [
    {
     "name": "stdout",
     "output_type": "stream",
     "text": [
      "3.6198902130126953\n"
     ]
    }
   ],
   "source": [
    "sample_size = 100\n",
    "t0 = time()\n",
    "for i in range(sample_size):\n",
    "    check_output([\"pwd\"])\n",
    "t1 = time()\n",
    "print((t1-t0) / sample_size * 1e3) # milliseconds"
   ]
  },
  {
   "cell_type": "code",
   "execution_count": 33,
   "id": "17e8d4b1",
   "metadata": {},
   "outputs": [],
   "source": [
    "L = list(range(1000000))"
   ]
  },
  {
   "cell_type": "code",
   "execution_count": 35,
   "id": "4c49f658",
   "metadata": {},
   "outputs": [
    {
     "name": "stdout",
     "output_type": "stream",
     "text": [
      "0.053882598876953125\n"
     ]
    }
   ],
   "source": [
    "t0 = time()\n",
    "5 in L\n",
    "t1 = time()\n",
    "print((t1-t0) * 1e3) # milliseconds"
   ]
  },
  {
   "cell_type": "code",
   "execution_count": 36,
   "id": "da2d385b",
   "metadata": {},
   "outputs": [
    {
     "name": "stdout",
     "output_type": "stream",
     "text": [
      "14.904022216796875\n"
     ]
    }
   ],
   "source": [
    "t0 = time()\n",
    "-1 in L\n",
    "t1 = time()\n",
    "print((t1-t0) * 1e3) # milliseconds"
   ]
  },
  {
   "cell_type": "code",
   "execution_count": 37,
   "id": "c45be173",
   "metadata": {},
   "outputs": [
    {
     "name": "stdout",
     "output_type": "stream",
     "text": [
      "14.759063720703125\n"
     ]
    }
   ],
   "source": [
    "t0 = time()\n",
    "999999 in L\n",
    "t1 = time()\n",
    "print((t1-t0) * 1e3) # milliseconds"
   ]
  },
  {
   "cell_type": "code",
   "execution_count": 40,
   "id": "ea537881",
   "metadata": {},
   "outputs": [],
   "source": [
    "S = set(L)"
   ]
  },
  {
   "cell_type": "code",
   "execution_count": 41,
   "id": "93d873ed",
   "metadata": {},
   "outputs": [
    {
     "name": "stdout",
     "output_type": "stream",
     "text": [
      "0.08988380432128906\n"
     ]
    }
   ],
   "source": [
    "t0 = time()\n",
    "5 in S\n",
    "t1 = time()\n",
    "print((t1-t0) * 1e3) # milliseconds"
   ]
  },
  {
   "cell_type": "code",
   "execution_count": 42,
   "id": "64344879",
   "metadata": {},
   "outputs": [
    {
     "name": "stdout",
     "output_type": "stream",
     "text": [
      "0.087738037109375\n"
     ]
    }
   ],
   "source": [
    "t0 = time()\n",
    "-1 in S\n",
    "t1 = time()\n",
    "print((t1-t0) * 1e3) # milliseconds"
   ]
  }
 ],
 "metadata": {
  "kernelspec": {
   "display_name": "Python 3 (ipykernel)",
   "language": "python",
   "name": "python3"
  },
  "language_info": {
   "codemirror_mode": {
    "name": "ipython",
    "version": 3
   },
   "file_extension": ".py",
   "mimetype": "text/x-python",
   "name": "python",
   "nbconvert_exporter": "python",
   "pygments_lexer": "ipython3",
   "version": "3.8.10"
  }
 },
 "nbformat": 4,
 "nbformat_minor": 5
}
