{
 "cells": [
  {
   "cell_type": "code",
   "execution_count": 1,
   "id": "11bb5b3b",
   "metadata": {},
   "outputs": [],
   "source": [
    "#import subprocess\n",
    "#subprocess.check_output # runs a program, returns the output\n",
    "\n",
    "from subprocess import check_output\n",
    "result = check_output(\"pwd\")"
   ]
  },
  {
   "cell_type": "code",
   "execution_count": 2,
   "id": "40be0b53",
   "metadata": {},
   "outputs": [
    {
     "data": {
      "text/plain": [
       "b'/home/trh/_sep/sep15\\n'"
      ]
     },
     "execution_count": 2,
     "metadata": {},
     "output_type": "execute_result"
    }
   ],
   "source": [
    "result"
   ]
  },
  {
   "cell_type": "code",
   "execution_count": 3,
   "id": "57ac7cc4",
   "metadata": {},
   "outputs": [
    {
     "data": {
      "text/plain": [
       "bytes"
      ]
     },
     "execution_count": 3,
     "metadata": {},
     "output_type": "execute_result"
    }
   ],
   "source": [
    "type(result)"
   ]
  },
  {
   "cell_type": "code",
   "execution_count": 4,
   "id": "084c8459",
   "metadata": {},
   "outputs": [
    {
     "data": {
      "text/plain": [
       "'\\x07Ç?_Á\\x07ÈÊÇ\\x07^ËÁø\\x07ËÁø\\x91\\x95\\x8e'"
      ]
     },
     "execution_count": 4,
     "metadata": {},
     "output_type": "execute_result"
    }
   ],
   "source": [
    "str(result, \"cp273\")"
   ]
  },
  {
   "cell_type": "code",
   "execution_count": 5,
   "id": "bd8dbbf4",
   "metadata": {},
   "outputs": [
    {
     "data": {
      "text/plain": [
       "'/home/trh/_sep/sep15'"
      ]
     },
     "execution_count": 5,
     "metadata": {},
     "output_type": "execute_result"
    }
   ],
   "source": [
    "str(result, \"utf-8\").strip()"
   ]
  },
  {
   "cell_type": "code",
   "execution_count": 6,
   "id": "e5b019ac",
   "metadata": {},
   "outputs": [
    {
     "data": {
      "text/plain": [
       "'git version 2.25.1'"
      ]
     },
     "execution_count": 6,
     "metadata": {},
     "output_type": "execute_result"
    }
   ],
   "source": [
    "# check_output(\"git --version\") # WRONG\n",
    "result = str(check_output([\"git\", \"--version\"]), \"utf-8\").strip()\n",
    "result"
   ]
  },
  {
   "cell_type": "code",
   "execution_count": 7,
   "id": "be0cfcc6",
   "metadata": {},
   "outputs": [
    {
     "data": {
      "text/plain": [
       "['git', 'version', '2.25.1']"
      ]
     },
     "execution_count": 7,
     "metadata": {},
     "output_type": "execute_result"
    }
   ],
   "source": [
    "parts = result.split(\" \")\n",
    "parts"
   ]
  },
  {
   "cell_type": "code",
   "execution_count": 8,
   "id": "5f6f1d2a",
   "metadata": {},
   "outputs": [
    {
     "data": {
      "text/plain": [
       "'2.25.1'"
      ]
     },
     "execution_count": 8,
     "metadata": {},
     "output_type": "execute_result"
    }
   ],
   "source": [
    "parts[-1]"
   ]
  },
  {
   "cell_type": "code",
   "execution_count": 9,
   "id": "61924722",
   "metadata": {},
   "outputs": [
    {
     "data": {
      "text/plain": [
       "'2.25.1'"
      ]
     },
     "execution_count": 9,
     "metadata": {},
     "output_type": "execute_result"
    }
   ],
   "source": [
    "parts[2]"
   ]
  }
 ],
 "metadata": {
  "kernelspec": {
   "display_name": "Python 3 (ipykernel)",
   "language": "python",
   "name": "python3"
  },
  "language_info": {
   "codemirror_mode": {
    "name": "ipython",
    "version": 3
   },
   "file_extension": ".py",
   "mimetype": "text/x-python",
   "name": "python",
   "nbconvert_exporter": "python",
   "pygments_lexer": "ipython3",
   "version": "3.8.10"
  }
 },
 "nbformat": 4,
 "nbformat_minor": 5
}
