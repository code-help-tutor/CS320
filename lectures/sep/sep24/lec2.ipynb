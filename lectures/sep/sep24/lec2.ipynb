{
 "cells": [
  {
   "cell_type": "code",
   "execution_count": 46,
   "id": "1d29ff8f",
   "metadata": {},
   "outputs": [],
   "source": [
    "class Dog:\n",
    "    def is_puppy(self):\n",
    "        return self.age < 2\n",
    "    \n",
    "    def speak(self): # 1st param of a method is called the \"receiver\"\n",
    "        if self.is_puppy():\n",
    "            print(self.name + \":\" + \" bark!\"*10)\n",
    "        else:\n",
    "            print(self.name + \": bark!\")\n",
    "        \n",
    "    def birthdays(self, years=1):\n",
    "        self.age += years\n",
    "        \n",
    "    # special method (because it gets called automatically)\n",
    "    # this particular special method is called a constructor\n",
    "    def __init__(self, name, age):\n",
    "        self.name = name\n",
    "        self.age = age\n",
    "        \n",
    "    # a Jupyter special method\n",
    "    def _repr_html_(self):\n",
    "        return f\"<h1>I am the <b>dog</b> <i>{self.name}</i></h1>\"\n",
    "        \n",
    "    def __repr__(self): # programmers\n",
    "        return f\"Dog({repr(self.name)}, {self.age})\"\n",
    "        \n",
    "    def __str__(self):  # other users\n",
    "        return f\"I am the dog {self.name}\"\n",
    "    \n",
    "class Cat:\n",
    "    def speak(self):\n",
    "        print(\"meow\")\n",
    "\n",
    "dog1 = Dog(\"Fido\", 1) # instantiation+initialization\n",
    "dog2 = Dog(\"Sam\", 5)\n",
    "c = Cat()"
   ]
  },
  {
   "cell_type": "code",
   "execution_count": 47,
   "id": "c92d9906",
   "metadata": {},
   "outputs": [
    {
     "name": "stdout",
     "output_type": "stream",
     "text": [
      "I am the dog Fido\n"
     ]
    },
    {
     "data": {
      "text/html": [
       "<h1>I am the <b>dog</b> <i>Fido</i></h1>"
      ],
      "text/plain": [
       "Dog('Fido', 1)"
      ]
     },
     "execution_count": 47,
     "metadata": {},
     "output_type": "execute_result"
    }
   ],
   "source": [
    "print(dog1)\n",
    "dog1 # will prefer _repr_html_ over __repr__ because we're in Jupyter"
   ]
  },
  {
   "cell_type": "code",
   "execution_count": 49,
   "id": "67474637",
   "metadata": {},
   "outputs": [
    {
     "name": "stdout",
     "output_type": "stream",
     "text": [
      "Dog('Fido', 1)\n"
     ]
    }
   ],
   "source": [
    "print(repr(dog1))"
   ]
  },
  {
   "cell_type": "code",
   "execution_count": 48,
   "id": "d5ac74e5",
   "metadata": {},
   "outputs": [],
   "source": [
    "fido_v2 = Dog('Fido', 1)"
   ]
  },
  {
   "cell_type": "code",
   "execution_count": 50,
   "id": "95f69518",
   "metadata": {},
   "outputs": [
    {
     "data": {
      "text/plain": [
       "False"
      ]
     },
     "execution_count": 50,
     "metadata": {},
     "output_type": "execute_result"
    }
   ],
   "source": [
    "dog1 == fido_v2"
   ]
  },
  {
   "cell_type": "code",
   "execution_count": 25,
   "id": "64f92263",
   "metadata": {},
   "outputs": [
    {
     "data": {
      "text/plain": [
       "4"
      ]
     },
     "execution_count": 25,
     "metadata": {},
     "output_type": "execute_result"
    }
   ],
   "source": [
    "#Dog.birthdays(dog1, 3)\n",
    "dog1.birthdays(3)\n",
    "dog1.age"
   ]
  },
  {
   "cell_type": "code",
   "execution_count": 13,
   "id": "c9bb3a8e",
   "metadata": {},
   "outputs": [
    {
     "data": {
      "text/plain": [
       "False"
      ]
     },
     "execution_count": 13,
     "metadata": {},
     "output_type": "execute_result"
    }
   ],
   "source": [
    "# isinstance(c, Dog)\n",
    "type(c) == Dog"
   ]
  },
  {
   "cell_type": "code",
   "execution_count": 14,
   "id": "31de592b",
   "metadata": {},
   "outputs": [
    {
     "name": "stdout",
     "output_type": "stream",
     "text": [
      "Fido: bark! bark! bark! bark! bark! bark! bark! bark! bark! bark!\n",
      "Sam: bark!\n",
      "meow\n"
     ]
    }
   ],
   "source": [
    "pets = [dog1, dog2, c]\n",
    "for animal in pets:\n",
    "#     # type-based dispatch (V1: bad)\n",
    "#     if type(animal) == Dog:\n",
    "#         Dog.speak(animal)\n",
    "#     elif type(animal) == Cat:\n",
    "#         Cat.speak(animal)\n",
    "\n",
    "    # type-based dispatch (V2: ok)\n",
    "    # type(animal).speak(animal)\n",
    "    \n",
    "    # type-based dispatch (V3: great!  shortcut for V2)\n",
    "    animal.speak()"
   ]
  },
  {
   "cell_type": "code",
   "execution_count": null,
   "id": "fd3c1be9",
   "metadata": {},
   "outputs": [],
   "source": []
  }
 ],
 "metadata": {
  "kernelspec": {
   "display_name": "Python 3 (ipykernel)",
   "language": "python",
   "name": "python3"
  },
  "language_info": {
   "codemirror_mode": {
    "name": "ipython",
    "version": 3
   },
   "file_extension": ".py",
   "mimetype": "text/x-python",
   "name": "python",
   "nbconvert_exporter": "python",
   "pygments_lexer": "ipython3",
   "version": "3.8.10"
  }
 },
 "nbformat": 4,
 "nbformat_minor": 5
}
