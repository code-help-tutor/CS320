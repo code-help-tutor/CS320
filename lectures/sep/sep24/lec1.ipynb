{
 "cells": [
  {
   "cell_type": "code",
   "execution_count": 75,
   "id": "3a283d6d",
   "metadata": {},
   "outputs": [],
   "source": [
    "class Dog:\n",
    "    def is_puppy(self):\n",
    "        return self.age <= 2\n",
    "    \n",
    "    def speak(self):\n",
    "        if not self.is_puppy():\n",
    "            print(self.name + \": bark!\")\n",
    "        else:\n",
    "            print(self.name + \":\" +\" bark!\" * 10)\n",
    "\n",
    "    def birthdays(self, years=1):\n",
    "        self.age += years\n",
    "    \n",
    "    # special method\n",
    "    # in general is called a \"constructor\"\n",
    "    def __init__(self, name, age): # auto-called when obj is created\n",
    "        self.name = name\n",
    "        self.age = age\n",
    "    \n",
    "    # for programmers to look at\n",
    "    def __repr__(self):\n",
    "        return f\"Dog({repr(self.name)}, {self.age})\"\n",
    "        \n",
    "    # for non-programmers\n",
    "    def __str__(self):\n",
    "        return f\"a dog named {self.name}\"\n",
    "        \n",
    "    # Jupyter special method\n",
    "    def _repr_html_(self):\n",
    "        return f\"<h1>I am <i>{self.name}</i> the dog</h1>\"\n",
    "    \n",
    "class Cat:\n",
    "    def speak(self):\n",
    "        print(\"meow\")\n",
    "        \n",
    "c = Cat()\n",
    "dog1 = Dog(\"Fido\", 1) # instantiation+initialization\n",
    "dog2 = Dog(\"Sam\", 5)"
   ]
  },
  {
   "cell_type": "code",
   "execution_count": 76,
   "id": "705f3b85",
   "metadata": {},
   "outputs": [
    {
     "data": {
      "text/html": [
       "<h1>I am <i>Fido</i> the dog</h1>"
      ],
      "text/plain": [
       "Dog('Fido', 1)"
      ]
     },
     "execution_count": 76,
     "metadata": {},
     "output_type": "execute_result"
    }
   ],
   "source": [
    "dog1"
   ]
  },
  {
   "cell_type": "code",
   "execution_count": 78,
   "id": "be656b5d",
   "metadata": {},
   "outputs": [
    {
     "name": "stdout",
     "output_type": "stream",
     "text": [
      "Dog('Fido', 1)\n"
     ]
    }
   ],
   "source": [
    "print(repr(dog1))"
   ]
  },
  {
   "cell_type": "code",
   "execution_count": 79,
   "id": "ec560f0c",
   "metadata": {},
   "outputs": [],
   "source": [
    "fido_v2 = Dog('Fido', 1)"
   ]
  },
  {
   "cell_type": "code",
   "execution_count": 81,
   "id": "279aac37",
   "metadata": {},
   "outputs": [
    {
     "data": {
      "text/plain": [
       "False"
      ]
     },
     "execution_count": 81,
     "metadata": {},
     "output_type": "execute_result"
    }
   ],
   "source": [
    "dog1 == fido_v2"
   ]
  },
  {
   "cell_type": "code",
   "execution_count": 45,
   "id": "9e339894",
   "metadata": {},
   "outputs": [
    {
     "name": "stdout",
     "output_type": "stream",
     "text": [
      "4\n"
     ]
    }
   ],
   "source": [
    "dog1.birthdays(3)\n",
    "print(dog1.age)"
   ]
  },
  {
   "cell_type": "code",
   "execution_count": 43,
   "id": "47099f4f",
   "metadata": {},
   "outputs": [
    {
     "name": "stdout",
     "output_type": "stream",
     "text": [
      "Fido: bark!\n",
      "Sam: bark!\n",
      "meow\n"
     ]
    }
   ],
   "source": [
    "pets = [dog1, dog2, c]\n",
    "for animal in pets:\n",
    "    # V1: of type-based dispatch (bad!)\n",
    "    # type-based dispatch\n",
    "#     if type(animal) == Dog:\n",
    "#         Dog.speak(animal)\n",
    "#     elif type(animal) == Cat:\n",
    "#         Cat.speak(animal)\n",
    "\n",
    "    # V2: of type-based dispatch (ok)\n",
    "    #type(animal).speak(animal)\n",
    "\n",
    "    # V3: of type-based dispatch (good)\n",
    "    animal.speak()"
   ]
  },
  {
   "cell_type": "code",
   "execution_count": null,
   "id": "e7b724f0",
   "metadata": {},
   "outputs": [],
   "source": []
  }
 ],
 "metadata": {
  "kernelspec": {
   "display_name": "Python 3 (ipykernel)",
   "language": "python",
   "name": "python3"
  },
  "language_info": {
   "codemirror_mode": {
    "name": "ipython",
    "version": 3
   },
   "file_extension": ".py",
   "mimetype": "text/x-python",
   "name": "python",
   "nbconvert_exporter": "python",
   "pygments_lexer": "ipython3",
   "version": "3.8.10"
  }
 },
 "nbformat": 4,
 "nbformat_minor": 5
}
