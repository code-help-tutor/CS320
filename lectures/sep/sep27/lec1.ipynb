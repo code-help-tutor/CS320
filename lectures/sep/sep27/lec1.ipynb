{
 "cells": [
  {
   "cell_type": "code",
   "execution_count": 1,
   "id": "3a283d6d",
   "metadata": {},
   "outputs": [],
   "source": [
    "class Dog:\n",
    "    def is_puppy(self):\n",
    "        return self.age <= 2\n",
    "    \n",
    "    def speak(self):\n",
    "        if not self.is_puppy():\n",
    "            print(self.name + \": bark!\")\n",
    "        else:\n",
    "            print(self.name + \":\" +\" bark!\" * 10)\n",
    "\n",
    "    def birthdays(self, years=1):\n",
    "        self.age += years\n",
    "    \n",
    "    # special method\n",
    "    # in general is called a \"constructor\"\n",
    "    def __init__(self, name, age): # auto-called when obj is created\n",
    "        self.name = name\n",
    "        self.age = age\n",
    "    \n",
    "    # for programmers to look at\n",
    "    def __repr__(self):\n",
    "        return f\"Dog({repr(self.name)}, {self.age})\"\n",
    "        \n",
    "    # for non-programmers\n",
    "    def __str__(self):\n",
    "        return f\"a dog named {self.name}\"\n",
    "        \n",
    "    # Jupyter special method\n",
    "    def _repr_html_(self):\n",
    "        return f\"<h1>I am <i>{self.name}</i> the dog</h1>\"\n",
    "    \n",
    "    def __eq__(self, right):\n",
    "        return self.name == right.name and self.age == right.age\n",
    "    \n",
    "    def __lt__(self, right):\n",
    "        return self.age < right.age\n",
    "\n",
    "class Cat:\n",
    "    def speak(self):\n",
    "        print(\"meow\")\n",
    "\n",
    "c = Cat()\n",
    "dog1 = Dog(\"Fido\", 1) # instantiation+initialization\n",
    "dog2 = Dog(\"Sam\", 5)\n",
    "dog3 = Dog(\"Cuddles\", 3)"
   ]
  },
  {
   "cell_type": "code",
   "execution_count": 2,
   "id": "e66a449e",
   "metadata": {},
   "outputs": [
    {
     "data": {
      "text/plain": [
       "[Dog('Fido', 1), Dog('Sam', 5), Dog('Cuddles', 3)]"
      ]
     },
     "execution_count": 2,
     "metadata": {},
     "output_type": "execute_result"
    }
   ],
   "source": [
    "dogs = [dog1, dog2, dog3]\n",
    "dogs"
   ]
  },
  {
   "cell_type": "code",
   "execution_count": 3,
   "id": "701bd676",
   "metadata": {},
   "outputs": [
    {
     "data": {
      "text/plain": [
       "False"
      ]
     },
     "execution_count": 3,
     "metadata": {},
     "output_type": "execute_result"
    }
   ],
   "source": [
    "dog2 < dog3"
   ]
  },
  {
   "cell_type": "code",
   "execution_count": 4,
   "id": "e2fee2db",
   "metadata": {},
   "outputs": [],
   "source": [
    "# dog2 <= dog3"
   ]
  },
  {
   "cell_type": "code",
   "execution_count": 5,
   "id": "5ec03e18",
   "metadata": {},
   "outputs": [
    {
     "data": {
      "text/plain": [
       "[Dog('Fido', 1), Dog('Cuddles', 3), Dog('Sam', 5)]"
      ]
     },
     "execution_count": 5,
     "metadata": {},
     "output_type": "execute_result"
    }
   ],
   "source": [
    "sorted(dogs)"
   ]
  },
  {
   "cell_type": "code",
   "execution_count": 6,
   "id": "3e23f6ea",
   "metadata": {},
   "outputs": [
    {
     "name": "stdout",
     "output_type": "stream",
     "text": [
      "Dog('Fido', 1)\n"
     ]
    }
   ],
   "source": [
    "print(repr(dog1))"
   ]
  },
  {
   "cell_type": "code",
   "execution_count": 7,
   "id": "5d858dde",
   "metadata": {},
   "outputs": [],
   "source": [
    "fido_v2 = Dog('Fido', 1)"
   ]
  },
  {
   "cell_type": "code",
   "execution_count": 8,
   "id": "c5430b19",
   "metadata": {},
   "outputs": [
    {
     "data": {
      "text/plain": [
       "True"
      ]
     },
     "execution_count": 8,
     "metadata": {},
     "output_type": "execute_result"
    }
   ],
   "source": [
    "dog1 == fido_v2"
   ]
  },
  {
   "cell_type": "code",
   "execution_count": 9,
   "id": "d523e4ef",
   "metadata": {},
   "outputs": [
    {
     "data": {
      "text/plain": [
       "False"
      ]
     },
     "execution_count": 9,
     "metadata": {},
     "output_type": "execute_result"
    }
   ],
   "source": [
    "dog1 is fido_v2"
   ]
  },
  {
   "cell_type": "code",
   "execution_count": 10,
   "id": "c7a721ea",
   "metadata": {},
   "outputs": [
    {
     "data": {
      "text/plain": [
       "False"
      ]
     },
     "execution_count": 10,
     "metadata": {},
     "output_type": "execute_result"
    }
   ],
   "source": [
    "dog1 == dog2"
   ]
  },
  {
   "cell_type": "markdown",
   "id": "053e3192",
   "metadata": {},
   "source": [
    "# Indexing"
   ]
  },
  {
   "cell_type": "code",
   "execution_count": 11,
   "id": "56e74665",
   "metadata": {},
   "outputs": [
    {
     "data": {
      "text/plain": [
       "5"
      ]
     },
     "execution_count": 11,
     "metadata": {},
     "output_type": "execute_result"
    }
   ],
   "source": [
    "lst = [2,5,3]\n",
    "lst[1]"
   ]
  },
  {
   "cell_type": "code",
   "execution_count": 12,
   "id": "c7197ab5",
   "metadata": {},
   "outputs": [
    {
     "data": {
      "text/plain": [
       "range(3, 7)"
      ]
     },
     "execution_count": 12,
     "metadata": {},
     "output_type": "execute_result"
    }
   ],
   "source": [
    "range(3, 7)"
   ]
  },
  {
   "cell_type": "code",
   "execution_count": 13,
   "id": "ee714397",
   "metadata": {},
   "outputs": [],
   "source": [
    "class Range:\n",
    "    def __init__(self, v1, v2=None):\n",
    "        if v2 == None:\n",
    "            self.lower = 0\n",
    "            self.upper = v1\n",
    "        else:\n",
    "            self.lower = v1\n",
    "            self.upper = v2\n",
    "            \n",
    "    def __repr__(self):\n",
    "        return f\"Range({self.lower}, {self.upper})\"\n",
    "        \n",
    "    def __getitem__(self, lookup):\n",
    "        if not isinstance(lookup, int):\n",
    "            raise NotImplementedError(\"only int idx supported\")            \n",
    "        if lookup < 0:\n",
    "            raise NotImplementedError(\"neg idx not supported\")\n",
    "        if self.lower + lookup >= self.upper:\n",
    "            raise IndexError(\"bad idx\")\n",
    "        return self.lower + lookup\n",
    "    \n",
    "    def __len__(self):\n",
    "        return self.upper - self.lower"
   ]
  },
  {
   "cell_type": "code",
   "execution_count": 14,
   "id": "e8cdf18e",
   "metadata": {},
   "outputs": [
    {
     "data": {
      "text/plain": [
       "Range(3, 8)"
      ]
     },
     "execution_count": 14,
     "metadata": {},
     "output_type": "execute_result"
    }
   ],
   "source": [
    "r = Range(3, 8)\n",
    "r"
   ]
  },
  {
   "cell_type": "code",
   "execution_count": 15,
   "id": "edf6fce3",
   "metadata": {},
   "outputs": [
    {
     "data": {
      "text/plain": [
       "5"
      ]
     },
     "execution_count": 15,
     "metadata": {},
     "output_type": "execute_result"
    }
   ],
   "source": [
    "r[2]"
   ]
  },
  {
   "cell_type": "code",
   "execution_count": 16,
   "id": "3f697116",
   "metadata": {},
   "outputs": [
    {
     "data": {
      "text/plain": [
       "5"
      ]
     },
     "execution_count": 16,
     "metadata": {},
     "output_type": "execute_result"
    }
   ],
   "source": [
    "len(r)"
   ]
  },
  {
   "cell_type": "code",
   "execution_count": 17,
   "id": "617aa678",
   "metadata": {},
   "outputs": [
    {
     "data": {
      "text/plain": [
       "[3, 4, 5, 6, 7]"
      ]
     },
     "execution_count": 17,
     "metadata": {},
     "output_type": "execute_result"
    }
   ],
   "source": [
    "list(r)"
   ]
  },
  {
   "cell_type": "code",
   "execution_count": 18,
   "id": "2f138bda",
   "metadata": {},
   "outputs": [
    {
     "name": "stdout",
     "output_type": "stream",
     "text": [
      "3\n",
      "4\n",
      "5\n",
      "6\n",
      "7\n"
     ]
    }
   ],
   "source": [
    "for i in r:\n",
    "    print(i)"
   ]
  },
  {
   "cell_type": "code",
   "execution_count": 19,
   "id": "d006a29f",
   "metadata": {},
   "outputs": [
    {
     "data": {
      "text/plain": [
       "5"
      ]
     },
     "execution_count": 19,
     "metadata": {},
     "output_type": "execute_result"
    }
   ],
   "source": [
    "r[2] # r will be go to the 1st param, 2 will go to the 2nd param"
   ]
  },
  {
   "cell_type": "markdown",
   "id": "74027be8",
   "metadata": {},
   "source": [
    "# Context Managers"
   ]
  },
  {
   "cell_type": "code",
   "execution_count": 20,
   "id": "fe3e1da0",
   "metadata": {},
   "outputs": [],
   "source": [
    "f = open(\"example.txt\", \"w\")\n",
    "f.write(\"hello\")\n",
    "# what happens if I crash here?\n",
    "f.write(\"world\")\n",
    "f.close()"
   ]
  },
  {
   "cell_type": "code",
   "execution_count": 21,
   "id": "1122916d",
   "metadata": {},
   "outputs": [],
   "source": [
    "with open(\"example.txt\", \"w\") as f:\n",
    "    f.write(\"hello\")\n",
    "    # what happens if I crash here?\n",
    "    f.write(\"world\")\n",
    "# AUTOMATIC: f.close()"
   ]
  },
  {
   "cell_type": "code",
   "execution_count": null,
   "id": "decc4a2d",
   "metadata": {},
   "outputs": [],
   "source": []
  },
  {
   "cell_type": "code",
   "execution_count": 22,
   "id": "d998b8a2",
   "metadata": {},
   "outputs": [
    {
     "name": "stdout",
     "output_type": "stream",
     "text": [
      "10.0\n"
     ]
    }
   ],
   "source": [
    "import matplotlib.pyplot as plt\n",
    "print(plt.rcParams[\"font.size\"])"
   ]
  },
  {
   "cell_type": "code",
   "execution_count": 23,
   "id": "3fde7055",
   "metadata": {},
   "outputs": [
    {
     "data": {
      "text/plain": [
       "(<Figure size 432x288 with 1 Axes>, <AxesSubplot:>)"
      ]
     },
     "execution_count": 23,
     "metadata": {},
     "output_type": "execute_result"
    },
    {
     "data": {
      "image/png": "[encoded data removed]",
      "text/plain": [
       "<Figure size 432x288 with 1 Axes>"
      ]
     },
     "metadata": {
      "needs_background": "light"
     },
     "output_type": "display_data"
    },
    {
     "data": {
      "image/png": "[encoded data removed]",
      "text/plain": [
       "<Figure size 432x288 with 1 Axes>"
      ]
     },
     "metadata": {
      "needs_background": "light"
     },
     "output_type": "display_data"
    },
    {
     "data": {
      "image/png": "[encoded data removed]",
      "text/plain": [
       "<Figure size 432x288 with 1 Axes>"
      ]
     },
     "metadata": {
      "needs_background": "light"
     },
     "output_type": "display_data"
    }
   ],
   "source": [
    "class DoubleFont:\n",
    "    def __enter__(self):\n",
    "        self.orig_size = plt.rcParams[\"font.size\"]\n",
    "        plt.rcParams[\"font.size\"] *= 2\n",
    "    \n",
    "    def __exit__(self, exc_type, exc_value, traceback):\n",
    "        plt.rcParams[\"font.size\"] = self.orig_size\n",
    "\n",
    "plt.subplots()\n",
    "with DoubleFont():\n",
    "    with DoubleFont():\n",
    "        plt.subplots()\n",
    "plt.subplots()"
   ]
  },
  {
   "cell_type": "code",
   "execution_count": null,
   "id": "d74738a5",
   "metadata": {},
   "outputs": [],
   "source": []
  },
  {
   "cell_type": "code",
   "execution_count": null,
   "id": "0398ccab",
   "metadata": {},
   "outputs": [],
   "source": []
  }
 ],
 "metadata": {
  "kernelspec": {
   "display_name": "Python 3 (ipykernel)",
   "language": "python",
   "name": "python3"
  },
  "language_info": {
   "codemirror_mode": {
    "name": "ipython",
    "version": 3
   },
   "file_extension": ".py",
   "mimetype": "text/x-python",
   "name": "python",
   "nbconvert_exporter": "python",
   "pygments_lexer": "ipython3",
   "version": "3.8.10"
  }
 },
 "nbformat": 4,
 "nbformat_minor": 5
}
