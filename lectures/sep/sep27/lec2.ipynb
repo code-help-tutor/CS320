{
 "cells": [
  {
   "cell_type": "code",
   "execution_count": 1,
   "id": "1d29ff8f",
   "metadata": {},
   "outputs": [],
   "source": [
    "class Dog:\n",
    "    def is_puppy(self):\n",
    "        return self.age < 2\n",
    "    \n",
    "    def speak(self): # 1st param of a method is called the \"receiver\"\n",
    "        if self.is_puppy():\n",
    "            print(self.name + \":\" + \" bark!\"*10)\n",
    "        else:\n",
    "            print(self.name + \": bark!\")\n",
    "        \n",
    "    def birthdays(self, years=1):\n",
    "        self.age += years\n",
    "        \n",
    "    # special method (because it gets called automatically)\n",
    "    # this particular special method is called a constructor\n",
    "    def __init__(self, name, age):\n",
    "        self.name = name\n",
    "        self.age = age\n",
    "        \n",
    "    # a Jupyter special method\n",
    "    def _repr_html_(self):\n",
    "        return f\"<h1>I am the <b>dog</b> <i>{self.name}</i></h1>\"\n",
    "        \n",
    "    def __repr__(self): # programmers\n",
    "        return f\"Dog({repr(self.name)}, {self.age})\"\n",
    "        \n",
    "    def __str__(self):  # other users\n",
    "        return f\"I am the dog {self.name}\"\n",
    "    \n",
    "    def __eq__(self, right):\n",
    "        return self.name == right.name and self.age == right.age\n",
    "    \n",
    "    def __lt__(self, right): # less than\n",
    "        return self.age < right.age\n",
    "    \n",
    "class Cat:\n",
    "    def speak(self):\n",
    "        print(\"meow\")\n",
    "\n",
    "dog1 = Dog(\"Fido\", 1) # instantiation+initialization\n",
    "dog2 = Dog(\"Sam\", 5)\n",
    "dog3 = Dog(\"Cuddles\", 3)\n",
    "c = Cat()"
   ]
  },
  {
   "cell_type": "code",
   "execution_count": 2,
   "id": "5087563e",
   "metadata": {},
   "outputs": [
    {
     "data": {
      "text/plain": [
       "[Dog('Fido', 1), Dog('Sam', 5), Dog('Cuddles', 3)]"
      ]
     },
     "execution_count": 2,
     "metadata": {},
     "output_type": "execute_result"
    }
   ],
   "source": [
    "dogs = [dog1, dog2, dog3]\n",
    "dogs"
   ]
  },
  {
   "cell_type": "code",
   "execution_count": 3,
   "id": "0c850293",
   "metadata": {},
   "outputs": [
    {
     "data": {
      "text/plain": [
       "[Dog('Fido', 1), Dog('Cuddles', 3), Dog('Sam', 5)]"
      ]
     },
     "execution_count": 3,
     "metadata": {},
     "output_type": "execute_result"
    }
   ],
   "source": [
    "sorted(dogs)"
   ]
  },
  {
   "cell_type": "code",
   "execution_count": 4,
   "id": "a59cdd8b",
   "metadata": {},
   "outputs": [
    {
     "name": "stdout",
     "output_type": "stream",
     "text": [
      "Dog('Fido', 1)\n"
     ]
    },
    {
     "data": {
      "text/plain": [
       "True"
      ]
     },
     "execution_count": 4,
     "metadata": {},
     "output_type": "execute_result"
    }
   ],
   "source": [
    "print(repr(dog1))\n",
    "fido_v2 = Dog('Fido', 1)\n",
    "\n",
    "fido_v2 == dog1"
   ]
  },
  {
   "cell_type": "markdown",
   "id": "d741a7b2",
   "metadata": {},
   "source": [
    "# Indexing"
   ]
  },
  {
   "cell_type": "code",
   "execution_count": 5,
   "id": "9d985b89",
   "metadata": {},
   "outputs": [
    {
     "data": {
      "text/plain": [
       "range(2, 5)"
      ]
     },
     "execution_count": 5,
     "metadata": {},
     "output_type": "execute_result"
    }
   ],
   "source": [
    "range(2, 5)"
   ]
  },
  {
   "cell_type": "code",
   "execution_count": 6,
   "id": "3ea73a48",
   "metadata": {},
   "outputs": [
    {
     "data": {
      "text/plain": [
       "Range(3, 8)"
      ]
     },
     "execution_count": 6,
     "metadata": {},
     "output_type": "execute_result"
    }
   ],
   "source": [
    "class Range:\n",
    "    def __init__(self, v1, v2=None):\n",
    "        if v2 != None:\n",
    "            self.lower = v1\n",
    "            self.upper = v2\n",
    "        else:\n",
    "            self.lower = 0\n",
    "            self.upper = v1\n",
    "            \n",
    "    def __repr__(self):\n",
    "        return f\"Range({self.lower}, {self.upper})\"\n",
    "        \n",
    "    def __getitem__(self, lookup):\n",
    "        if not isinstance(lookup, int):\n",
    "            raise NotImplementedError(\"only int idx supported\")\n",
    "        if lookup < 0:\n",
    "            raise NotImplementedError(\"neg idx not supported\")\n",
    "        if self.lower + lookup >= self.upper:\n",
    "            raise IndexError(\"idx too big\")\n",
    "        return self.lower + lookup\n",
    "    \n",
    "    def __len__(self):\n",
    "        return self.upper - self.lower\n",
    "\n",
    "r = Range(3, 8)\n",
    "r"
   ]
  },
  {
   "cell_type": "code",
   "execution_count": 7,
   "id": "7a89d316",
   "metadata": {},
   "outputs": [
    {
     "data": {
      "text/plain": [
       "5"
      ]
     },
     "execution_count": 7,
     "metadata": {},
     "output_type": "execute_result"
    }
   ],
   "source": [
    "r[2] # r will go to the 1st param, 2 will go to the 2nd param"
   ]
  },
  {
   "cell_type": "code",
   "execution_count": 8,
   "id": "5c629520",
   "metadata": {},
   "outputs": [
    {
     "name": "stdout",
     "output_type": "stream",
     "text": [
      "3\n",
      "4\n",
      "5\n",
      "6\n",
      "7\n"
     ]
    }
   ],
   "source": [
    "for x in r:\n",
    "    print(x)"
   ]
  },
  {
   "cell_type": "code",
   "execution_count": 9,
   "id": "4ce57a7d",
   "metadata": {},
   "outputs": [
    {
     "data": {
      "text/plain": [
       "[3, 4, 5, 6, 7]"
      ]
     },
     "execution_count": 9,
     "metadata": {},
     "output_type": "execute_result"
    }
   ],
   "source": [
    "list(r)"
   ]
  },
  {
   "cell_type": "code",
   "execution_count": 10,
   "id": "25eb9708",
   "metadata": {},
   "outputs": [
    {
     "data": {
      "text/plain": [
       "5"
      ]
     },
     "execution_count": 10,
     "metadata": {},
     "output_type": "execute_result"
    }
   ],
   "source": [
    "len(r)"
   ]
  },
  {
   "cell_type": "markdown",
   "id": "8d91f693",
   "metadata": {},
   "source": [
    "# With"
   ]
  },
  {
   "cell_type": "code",
   "execution_count": 11,
   "id": "6f0543ec",
   "metadata": {},
   "outputs": [],
   "source": [
    "f = open(\"example.txt\", \"w\")\n",
    "f.write(\"hello\")\n",
    "# what if I crash here?\n",
    "f.write(\"world\")\n",
    "f.close()"
   ]
  },
  {
   "cell_type": "code",
   "execution_count": 12,
   "id": "6a52ea60",
   "metadata": {},
   "outputs": [],
   "source": [
    "#f = open(\"example.txt\", \"w\")\n",
    "with open(\"example.txt\", \"w\") as f:\n",
    "    f.write(\"hello\")\n",
    "    # what if I crash here?\n",
    "    f.write(\"world\")\n",
    "\n",
    "# AUTOMATIC: f.close()"
   ]
  },
  {
   "cell_type": "code",
   "execution_count": 13,
   "id": "41f7bcba",
   "metadata": {},
   "outputs": [
    {
     "name": "stdout",
     "output_type": "stream",
     "text": [
      "ENTER\n",
      "EXIT\n"
     ]
    },
    {
     "ename": "AssertionError",
     "evalue": "",
     "output_type": "error",
     "traceback": [
      "\u001b[0;31m---------------------------------------------------------------------------\u001b[0m",
      "\u001b[0;31mAssertionError\u001b[0m                            Traceback (most recent call last)",
      "\u001b[0;32m/tmp/ipykernel_55090/923102930.py\u001b[0m in \u001b[0;36m<module>\u001b[0;34m\u001b[0m\n\u001b[1;32m      7\u001b[0m \u001b[0;34m\u001b[0m\u001b[0m\n\u001b[1;32m      8\u001b[0m \u001b[0;32mwith\u001b[0m \u001b[0mExample\u001b[0m\u001b[0;34m(\u001b[0m\u001b[0;34m)\u001b[0m\u001b[0;34m:\u001b[0m\u001b[0;34m\u001b[0m\u001b[0;34m\u001b[0m\u001b[0m\n\u001b[0;32m----> 9\u001b[0;31m     \u001b[0;32massert\u001b[0m \u001b[0;36m1\u001b[0m \u001b[0;34m==\u001b[0m \u001b[0;36m2\u001b[0m\u001b[0;34m\u001b[0m\u001b[0;34m\u001b[0m\u001b[0m\n\u001b[0m\u001b[1;32m     10\u001b[0m     \u001b[0mprint\u001b[0m\u001b[0;34m(\u001b[0m\u001b[0;34m\"INSIDE WITH\"\u001b[0m\u001b[0;34m)\u001b[0m\u001b[0;34m\u001b[0m\u001b[0;34m\u001b[0m\u001b[0m\n",
      "\u001b[0;31mAssertionError\u001b[0m: "
     ]
    }
   ],
   "source": [
    "class Example:\n",
    "    def __enter__(self):\n",
    "        print(\"ENTER\")\n",
    "        \n",
    "    def __exit__(self, exc_type, exc_value, traceback):\n",
    "        print(\"EXIT\")\n",
    "        \n",
    "with Example():\n",
    "    assert 1 == 2\n",
    "    print(\"INSIDE WITH\")"
   ]
  },
  {
   "cell_type": "code",
   "execution_count": 14,
   "id": "ca6c1c69",
   "metadata": {},
   "outputs": [
    {
     "data": {
      "text/plain": [
       "10.0"
      ]
     },
     "execution_count": 14,
     "metadata": {},
     "output_type": "execute_result"
    }
   ],
   "source": [
    "import matplotlib.pyplot as plt\n",
    "plt.rcParams[\"font.size\"]"
   ]
  },
  {
   "cell_type": "code",
   "execution_count": 17,
   "id": "f66be08b",
   "metadata": {},
   "outputs": [],
   "source": [
    "# d = DoubleFont()\n",
    "# d.__enter__()\n",
    "# #plt.subplots()\n",
    "# d.__exit__(None, None, None)"
   ]
  },
  {
   "cell_type": "code",
   "execution_count": 15,
   "id": "b2e83abd",
   "metadata": {},
   "outputs": [
    {
     "data": {
      "text/plain": [
       "(<Figure size 432x288 with 1 Axes>, <AxesSubplot:>)"
      ]
     },
     "execution_count": 15,
     "metadata": {},
     "output_type": "execute_result"
    },
    {
     "data": {
      "image/png": "[encoded data removed]",
      "text/plain": [
       "<Figure size 432x288 with 1 Axes>"
      ]
     },
     "metadata": {
      "needs_background": "light"
     },
     "output_type": "display_data"
    },
    {
     "data": {
      "image/png": "[encoded data removed]",
      "text/plain": [
       "<Figure size 432x288 with 1 Axes>"
      ]
     },
     "metadata": {
      "needs_background": "light"
     },
     "output_type": "display_data"
    }
   ],
   "source": [
    "class DoubleFont:\n",
    "    def __enter__(self):\n",
    "        plt.rcParams[\"font.size\"] *= 2\n",
    "        \n",
    "    def __exit__(self, exc_type, exc_value, traceback):\n",
    "        plt.rcParams[\"font.size\"] /= 2\n",
    "        \n",
    "with DoubleFont():\n",
    "    plt.subplots()\n",
    "plt.subplots()"
   ]
  },
  {
   "cell_type": "code",
   "execution_count": null,
   "id": "b05cf252",
   "metadata": {},
   "outputs": [],
   "source": []
  }
 ],
 "metadata": {
  "kernelspec": {
   "display_name": "Python 3 (ipykernel)",
   "language": "python",
   "name": "python3"
  },
  "language_info": {
   "codemirror_mode": {
    "name": "ipython",
    "version": 3
   },
   "file_extension": ".py",
   "mimetype": "text/x-python",
   "name": "python",
   "nbconvert_exporter": "python",
   "pygments_lexer": "ipython3",
   "version": "3.8.10"
  }
 },
 "nbformat": 4,
 "nbformat_minor": 5
}
