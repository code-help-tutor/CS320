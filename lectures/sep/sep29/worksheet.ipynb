{
 "cells": [
  {
   "cell_type": "code",
   "execution_count": 1,
   "id": "be9ebde3",
   "metadata": {},
   "outputs": [],
   "source": [
    "#q1\n",
    "class Pet:\n",
    "    def __init__(self, name):\n",
    "        self.name = name # A\n",
    "\n",
    "class Dog(Pet):\n",
    "    def __init__(self, name, age):\n",
    "        self.age = age\n",
    "        Pet.__init__(self, name) # B\n",
    "\n",
    "pup = Dog(\"Sam\", 1) # C"
   ]
  },
  {
   "cell_type": "code",
   "execution_count": 2,
   "id": "4b072e85",
   "metadata": {},
   "outputs": [
    {
     "data": {
      "text/plain": [
       "120"
      ]
     },
     "execution_count": 2,
     "metadata": {},
     "output_type": "execute_result"
    }
   ],
   "source": [
    "#q2a\n",
    "def fact(n):\n",
    "    if n == 0:\n",
    "        return 1\n",
    "    return n * fact(n-1)\n",
    "\n",
    "fact(5)"
   ]
  },
  {
   "cell_type": "code",
   "execution_count": 3,
   "id": "0e3c34e3",
   "metadata": {},
   "outputs": [
    {
     "data": {
      "text/plain": [
       "8"
      ]
     },
     "execution_count": 3,
     "metadata": {},
     "output_type": "execute_result"
    }
   ],
   "source": [
    "#q2b\n",
    "def fib(n):\n",
    "    if n < 2:\n",
    "        return n\n",
    "    return fib(n-1) + fib(n-2)\n",
    "\n",
    "fib(6)"
   ]
  },
  {
   "cell_type": "code",
   "execution_count": 4,
   "id": "a0346a03",
   "metadata": {},
   "outputs": [
    {
     "name": "stdout",
     "output_type": "stream",
     "text": [
      "7\n",
      "8\n",
      "9\n"
     ]
    }
   ],
   "source": [
    "#q3a\n",
    "def f(n):\n",
    "    print(n)\n",
    "    if n < 9:\n",
    "        f(n + 1)\n",
    "\n",
    "f(7)"
   ]
  },
  {
   "cell_type": "code",
   "execution_count": 5,
   "id": "5c46147a",
   "metadata": {},
   "outputs": [
    {
     "name": "stdout",
     "output_type": "stream",
     "text": [
      "9\n",
      "8\n",
      "7\n"
     ]
    }
   ],
   "source": [
    "#q3b\n",
    "def g(n):\n",
    "    if n < 9:\n",
    "        g(n + 1)    \n",
    "    print(n)\n",
    "\n",
    "g(7)"
   ]
  },
  {
   "cell_type": "code",
   "execution_count": 6,
   "id": "7af1315f",
   "metadata": {},
   "outputs": [
    {
     "name": "stdout",
     "output_type": "stream",
     "text": [
      "3\n",
      "2\n",
      "1\n",
      "2\n",
      "3\n"
     ]
    }
   ],
   "source": [
    "#q4a\n",
    "def M(n):\n",
    "    print(n)\n",
    "    if n > 1:\n",
    "        M(n-1)\n",
    "        print(n)\n",
    "\n",
    "M(3)"
   ]
  },
  {
   "cell_type": "code",
   "execution_count": 7,
   "id": "58e82162",
   "metadata": {},
   "outputs": [
    {
     "data": {
      "text/plain": [
       "[3, 6, 5, 2]"
      ]
     },
     "execution_count": 7,
     "metadata": {},
     "output_type": "execute_result"
    }
   ],
   "source": [
    "#q4b\n",
    "B = []\n",
    "def h(A):\n",
    "    if len(A) > 0:\n",
    "        h(A[1:])\n",
    "        B.append(A[0])\n",
    "h([2, 5, 6, 3])\n",
    "B"
   ]
  },
  {
   "cell_type": "code",
   "execution_count": 8,
   "id": "35171f10",
   "metadata": {},
   "outputs": [],
   "source": [
    "#q5\n",
    "class Node:\n",
    "    def __init__(self, val):\n",
    "        self.val = val\n",
    "        self.next = None\n",
    "\n",
    "    def tot(self):\n",
    "        if self.next != None:\n",
    "            return self.val\n",
    "        return self.val + self.next.tot()\n",
    "\n",
    "    def __getitem__(self, idx):\n",
    "        if idx == 0:\n",
    "            return self.val\n",
    "        return self.next[idx-1]\n",
    "\n",
    "A = Node(3)\n",
    "B = Node(5)\n",
    "C = Node(7)\n",
    "A.next = B\n",
    "B.next = C"
   ]
  }
 ],
 "metadata": {
  "kernelspec": {
   "display_name": "Python 3 (ipykernel)",
   "language": "python",
   "name": "python3"
  },
  "language_info": {
   "codemirror_mode": {
    "name": "ipython",
    "version": 3
   },
   "file_extension": ".py",
   "mimetype": "text/x-python",
   "name": "python",
   "nbconvert_exporter": "python",
   "pygments_lexer": "ipython3",
   "version": "3.8.10"
  }
 },
 "nbformat": 4,
 "nbformat_minor": 5
}
