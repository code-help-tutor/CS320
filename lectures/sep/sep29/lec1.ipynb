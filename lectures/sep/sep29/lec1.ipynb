{
 "cells": [
  {
   "cell_type": "markdown",
   "metadata": {},
   "source": [
    "# Inheritance"
   ]
  },
  {
   "cell_type": "code",
   "execution_count": 22,
   "metadata": {},
   "outputs": [
    {
     "name": "stdout",
     "output_type": "stream",
     "text": [
      "Dog Fido\n",
      "Cat Kevin\n"
     ]
    }
   ],
   "source": [
    "class NamedAnimal:\n",
    "    def __init__(self, name):\n",
    "        self.name = name # what if this was many lines, attributes\n",
    "    \n",
    "    def __str__(self):\n",
    "        return f\"{type(self).__name__} {self.name}\"\n",
    "\n",
    "    def __repr__(self):\n",
    "        return f\"NamedAnimal('{self.name}')\"     \n",
    "\n",
    "class Cat(NamedAnimal):\n",
    "    pass\n",
    "\n",
    "class Dog(NamedAnimal):\n",
    "    def __init__(self, name, age):\n",
    "        #NamedAnimal.__init__(self, name)\n",
    "        super().__init__(name) # super is like self, but w/ parent's methods\n",
    "        self.age = age\n",
    "\n",
    "    def speak(self):\n",
    "        print(\"bark\")\n",
    "\n",
    "fido = Dog(\"Fido\", 3)\n",
    "cat = Cat(\"Kevin\")\n",
    "print(fido)\n",
    "print(cat)"
   ]
  },
  {
   "cell_type": "code",
   "execution_count": 20,
   "metadata": {},
   "outputs": [
    {
     "data": {
      "text/plain": [
       "(__main__.Dog, __main__.NamedAnimal, object)"
      ]
     },
     "execution_count": 20,
     "metadata": {},
     "output_type": "execute_result"
    }
   ],
   "source": [
    "Dog.__mro__ # method resolution order"
   ]
  },
  {
   "cell_type": "markdown",
   "metadata": {},
   "source": [
    "# ABC's\n",
    "\n",
    "https://docs.python.org/3/library/collections.abc.html#collections-abstract-base-classes"
   ]
  },
  {
   "cell_type": "code",
   "execution_count": 29,
   "metadata": {},
   "outputs": [],
   "source": [
    "from collections import abc # abstract base class\n",
    "\n",
    "class Range(abc.Sequence, ...):\n",
    "    def __init__(self, bound1, bound2=None):\n",
    "        if bound2 != None:\n",
    "            self.lower = bound1\n",
    "            self.upper = bound2\n",
    "        else:\n",
    "            self.lower = 0\n",
    "            self.upper = bound1\n",
    "            \n",
    "    def __len__(self):\n",
    "        return self.upper - self.lower\n",
    "            \n",
    "    def __getitem__(self, lookup):\n",
    "        if not isinstance(lookup, int):\n",
    "            raise NotImplementedError(\"slices not supported\")\n",
    "        if lookup < 0:\n",
    "            raise NotImplementedError(\"negative not supported\")\n",
    "        if lookup >= len(self):\n",
    "            raise IndexError(\"out of bounds\")\n",
    "        return self.lower + lookup"
   ]
  },
  {
   "cell_type": "code",
   "execution_count": 30,
   "metadata": {},
   "outputs": [],
   "source": [
    "r = Range(2,5)"
   ]
  },
  {
   "cell_type": "code",
   "execution_count": 31,
   "metadata": {},
   "outputs": [
    {
     "data": {
      "text/plain": [
       "1"
      ]
     },
     "execution_count": 31,
     "metadata": {},
     "output_type": "execute_result"
    }
   ],
   "source": [
    "r.index(3)"
   ]
  },
  {
   "cell_type": "code",
   "execution_count": 33,
   "metadata": {},
   "outputs": [
    {
     "data": {
      "text/plain": [
       "0"
      ]
     },
     "execution_count": 33,
     "metadata": {},
     "output_type": "execute_result"
    }
   ],
   "source": [
    "r.count(9)"
   ]
  },
  {
   "cell_type": "code",
   "execution_count": null,
   "metadata": {},
   "outputs": [],
   "source": []
  }
 ],
 "metadata": {
  "kernelspec": {
   "display_name": "Python 3 (ipykernel)",
   "language": "python",
   "name": "python3"
  },
  "language_info": {
   "codemirror_mode": {
    "name": "ipython",
    "version": 3
   },
   "file_extension": ".py",
   "mimetype": "text/x-python",
   "name": "python",
   "nbconvert_exporter": "python",
   "pygments_lexer": "ipython3",
   "version": "3.8.10"
  }
 },
 "nbformat": 4,
 "nbformat_minor": 4
}
