{
 "cells": [
  {
   "cell_type": "code",
   "execution_count": 1,
   "metadata": {},
   "outputs": [],
   "source": [
    "# REMEMBER: line numbers aren't already on, go to \"View\" => \"Toggle Line Numbers\" in the menu above.\n",
    "\n",
    "# Debug and fix the below code so that there are no \"command failed\" errors."
   ]
  },
  {
   "cell_type": "code",
   "execution_count": 2,
   "metadata": {},
   "outputs": [],
   "source": [
    "import subprocess"
   ]
  },
  {
   "cell_type": "code",
   "execution_count": 3,
   "metadata": {},
   "outputs": [],
   "source": [
    "# a convenience class for running common shell commands via Python method calls\n",
    "class Shell:\n",
    "    def __init__(self, curdir=\".\"):\n",
    "        self.curdir = curdir\n",
    "\n",
    "    def run(self, cmd):\n",
    "        cmd = cmd.split(\" \")\n",
    "        try:\n",
    "            output = subprocess.check_output(cmd, cwd=curdir)\n",
    "            print(str(output, \"utf-8\"))\n",
    "        except:\n",
    "            print(\"command failed:\", cmd[0])\n",
    "\n",
    "    def setdir(self, newdir):\n",
    "        self.curdir = newdir\n",
    "\n",
    "    def ls(self):\n",
    "        self.run(\"ls -la\")\n",
    "\n",
    "    def pwd(self):\n",
    "        print(self.curdir)\n",
    "        \n",
    "    def date(self):\n",
    "        self.run(\"date\")"
   ]
  },
  {
   "cell_type": "code",
   "execution_count": 4,
   "metadata": {},
   "outputs": [
    {
     "name": "stdout",
     "output_type": "stream",
     "text": [
      ".\n"
     ]
    }
   ],
   "source": [
    "sh = Shell()\n",
    "sh.pwd()"
   ]
  },
  {
   "cell_type": "code",
   "execution_count": 5,
   "metadata": {},
   "outputs": [
    {
     "name": "stdout",
     "output_type": "stream",
     "text": [
      "..\n"
     ]
    }
   ],
   "source": [
    "sh.setdir(\"..\")\n",
    "sh.pwd()"
   ]
  },
  {
   "cell_type": "code",
   "execution_count": 6,
   "metadata": {},
   "outputs": [
    {
     "name": "stdout",
     "output_type": "stream",
     "text": [
      "command failed: ls\n"
     ]
    }
   ],
   "source": [
    "sh.ls()"
   ]
  },
  {
   "cell_type": "code",
   "execution_count": 7,
   "metadata": {},
   "outputs": [
    {
     "name": "stdout",
     "output_type": "stream",
     "text": [
      "command failed: ls\n"
     ]
    }
   ],
   "source": [
    "sh.setdir(\".\")\n",
    "sh.ls()"
   ]
  },
  {
   "cell_type": "code",
   "execution_count": 8,
   "metadata": {},
   "outputs": [
    {
     "name": "stdout",
     "output_type": "stream",
     "text": [
      "command failed: date\n"
     ]
    }
   ],
   "source": [
    "sh.date()"
   ]
  },
  {
   "cell_type": "code",
   "execution_count": null,
   "metadata": {},
   "outputs": [],
   "source": []
  }
 ],
 "metadata": {
  "kernelspec": {
   "display_name": "Python 3",
   "language": "python",
   "name": "python3"
  },
  "language_info": {
   "codemirror_mode": {
    "name": "ipython",
    "version": 3
   },
   "file_extension": ".py",
   "mimetype": "text/x-python",
   "name": "python",
   "nbconvert_exporter": "python",
   "pygments_lexer": "ipython3",
   "version": "3.7.2"
  }
 },
 "nbformat": 4,
 "nbformat_minor": 2
}
