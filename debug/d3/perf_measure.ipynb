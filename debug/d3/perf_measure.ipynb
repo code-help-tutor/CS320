{
 "cells": [
  {
   "cell_type": "code",
   "execution_count": 1,
   "metadata": {},
   "outputs": [],
   "source": [
    "import time"
   ]
  },
  {
   "cell_type": "code",
   "execution_count": 2,
   "metadata": {},
   "outputs": [],
   "source": [
    "class PerfMeasurer:\n",
    "    def __init__(self, filename):\n",
    "        self.filename = filename\n",
    "        self.f = open(filename, \"w\")\n",
    "        \n",
    "    def measure(self, fn):\n",
    "        ts = time.time()\n",
    "        fn()\n",
    "        te = time.time()\n",
    "\n",
    "        elapse = (te - ts) * 1e3\n",
    "        msg = f\"{fn.__name__} took {elapse} ms.\"\n",
    "        print(msg)\n",
    "        print(f\"Writing result to {self.filename}...\")\n",
    "        self.f.write(msg)"
   ]
  },
  {
   "cell_type": "code",
   "execution_count": 3,
   "metadata": {},
   "outputs": [],
   "source": [
    "def largest():\n",
    "    values = [2,7,3,9,8,4]\n",
    "    largest = values[0]\n",
    "    for v in values:\n",
    "        if v > largest:\n",
    "            largest = v\n",
    "    return largest"
   ]
  },
  {
   "cell_type": "code",
   "execution_count": 4,
   "metadata": {},
   "outputs": [
    {
     "name": "stdout",
     "output_type": "stream",
     "text": [
      "largest took 0.00095367431640625 ms.\n",
      "Writing result to perf.txt...\n",
      "Reading result from perf.txt...\n",
      "\n"
     ]
    }
   ],
   "source": [
    "filename = \"perf.txt\"\n",
    "perfMeasurer = PerfMeasurer(filename)\n",
    "perfMeasurer.measure(largest)\n",
    "\n",
    "# BUG: why nothing is read?\n",
    "with open(filename) as f:\n",
    "    print(f\"Reading result from {filename}...\")\n",
    "    print(f.read())"
   ]
  },
  {
   "cell_type": "code",
   "execution_count": null,
   "metadata": {},
   "outputs": [],
   "source": []
  }
 ],
 "metadata": {
  "kernelspec": {
   "display_name": "Python 3",
   "language": "python",
   "name": "python3"
  },
  "language_info": {
   "codemirror_mode": {
    "name": "ipython",
    "version": 3
   },
   "file_extension": ".py",
   "mimetype": "text/x-python",
   "name": "python",
   "nbconvert_exporter": "python",
   "pygments_lexer": "ipython3",
   "version": "3.7.2"
  }
 },
 "nbformat": 4,
 "nbformat_minor": 5
}
